{
  "nbformat": 4,
  "nbformat_minor": 0,
  "metadata": {
    "kernelspec": {
      "display_name": "Python 3",
      "language": "python",
      "name": "python3"
    },
    "language_info": {
      "codemirror_mode": {
        "name": "ipython",
        "version": 3
      },
      "file_extension": ".py",
      "mimetype": "text/x-python",
      "name": "python",
      "nbconvert_exporter": "python",
      "pygments_lexer": "ipython3",
      "version": "3.8.5"
    },
    "colab": {
      "name": "NOx_actual_ITO.ipynb",
      "provenance": [],
      "collapsed_sections": []
    }
  },
  "cells": [
    {
      "cell_type": "code",
      "metadata": {
        "id": "XzDP0YmfHuGl"
      },
      "source": [
        "import numpy as np\n",
        "import matplotlib.pyplot as plt\n",
        "import seaborn as sns\n",
        "sns.set()\n",
        "import warnings\n",
        "warnings.filterwarnings(action='ignore')\n",
        "from statsmodels.tsa.seasonal import seasonal_decompose\n",
        "import statsmodels.formula.api as formula\n",
        "from statsmodels.stats.outliers_influence import variance_inflation_factor\n",
        "import statsmodels as sm\n",
        "from sklearn import preprocessing\n",
        "from sklearn.model_selection import train_test_split,GridSearchCV,RandomizedSearchCV\n",
        "from sklearn.linear_model import LinearRegression,Lasso,Ridge\n",
        "#from sklearn.externals import joblib\n",
        "from sklearn.metrics import r2_score,mean_squared_error\n",
        "from sklearn.ensemble import RandomForestRegressor,GradientBoostingRegressor\n",
        "from sklearn.tree import DecisionTreeRegressor\n",
        "from IPython.display import display"
      ],
      "execution_count": 585,
      "outputs": []
    },
    {
      "cell_type": "code",
      "source": [
        "import pandas as pd\n",
        "from sklearn import preprocessing \n",
        "import matplotlib.pyplot as plt\n",
        "import seaborn as sns\n"
      ],
      "metadata": {
        "id": "GcmcxsQk-2Zd"
      },
      "execution_count": 430,
      "outputs": []
    },
    {
      "cell_type": "code",
      "source": [
        "from google.colab import files\n",
        "uploaded = files.upload()"
      ],
      "metadata": {
        "colab": {
          "resources": {
            "http://localhost:8080/nbextensions/google.colab/files.js": {
              "data": "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",
              "ok": true,
              "headers": [
                [
                  "content-type",
                  "application/javascript"
                ]
              ],
              "status": 200,
              "status_text": ""
            }
          },
          "base_uri": "https://localhost:8080/",
          "height": 74
        },
        "id": "YDxlAW7a_cJ3",
        "outputId": "2b77c035-7f82-4206-fcaa-c08584c126f8"
      },
      "execution_count": 279,
      "outputs": [
        {
          "output_type": "display_data",
          "data": {
            "text/html": [
              "\n",
              "     <input type=\"file\" id=\"files-881bb56f-8b39-445d-b4f9-94c45e84c1c0\" name=\"files[]\" multiple disabled\n",
              "        style=\"border:none\" />\n",
              "     <output id=\"result-881bb56f-8b39-445d-b4f9-94c45e84c1c0\">\n",
              "      Upload widget is only available when the cell has been executed in the\n",
              "      current browser session. Please rerun this cell to enable.\n",
              "      </output>\n",
              "      <script src=\"/nbextensions/google.colab/files.js\"></script> "
            ],
            "text/plain": [
              "<IPython.core.display.HTML object>"
            ]
          },
          "metadata": {}
        },
        {
          "output_type": "stream",
          "name": "stdout",
          "text": [
            "Saving weeklycrct.xlsx to weeklycrct (2).xlsx\n"
          ]
        }
      ]
    },
    {
      "cell_type": "code",
      "source": [
        "data = pd.read_excel ('weeklycrct.xlsx')\n"
      ],
      "metadata": {
        "id": "xv8zwEjN_iaP"
      },
      "execution_count": 431,
      "outputs": []
    },
    {
      "cell_type": "code",
      "source": [
        "data.isnull().sum(axis = 0)\n"
      ],
      "metadata": {
        "colab": {
          "base_uri": "https://localhost:8080/"
        },
        "id": "MVhcR_aaCdaE",
        "outputId": "23e08510-4bd6-412e-d4e1-d04b2cacf26c"
      },
      "execution_count": 432,
      "outputs": [
        {
          "output_type": "execute_result",
          "data": {
            "text/plain": [
              "From Date    0\n",
              "PM2.5        0\n",
              "NO           0\n",
              "NO2          0\n",
              "NOx          0\n",
              "NH3          0\n",
              "SO2          0\n",
              "Ozone        0\n",
              "PM2.5y1      2\n",
              "NOy1         2\n",
              "NO2y1        2\n",
              "NOxy1        2\n",
              "NH3y1        2\n",
              "SO2y1        2\n",
              "Ozoney1      2\n",
              "PM2.5y2      2\n",
              "NOy2         2\n",
              "NO2y2        2\n",
              "NOxy2        2\n",
              "NH3y2        2\n",
              "SO2y2        2\n",
              "Ozoney2      2\n",
              "PM2.5y3      1\n",
              "NOy3         1\n",
              "NO2y3        1\n",
              "NOxy3        1\n",
              "NH3y3        1\n",
              "SO2y3        1\n",
              "Ozoney3      1\n",
              "dtype: int64"
            ]
          },
          "metadata": {},
          "execution_count": 432
        }
      ]
    },
    {
      "cell_type": "code",
      "source": [
        "data = data.fillna(data.median())\n"
      ],
      "metadata": {
        "id": "Us3R68lICdbs"
      },
      "execution_count": 433,
      "outputs": []
    },
    {
      "cell_type": "code",
      "source": [
        "data.isnull().sum(axis = 0)\n"
      ],
      "metadata": {
        "colab": {
          "base_uri": "https://localhost:8080/"
        },
        "id": "K8lKcFiOC0Xz",
        "outputId": "4e1aeec7-b113-46b4-ba5b-8cc2e132773c"
      },
      "execution_count": 434,
      "outputs": [
        {
          "output_type": "execute_result",
          "data": {
            "text/plain": [
              "From Date    0\n",
              "PM2.5        0\n",
              "NO           0\n",
              "NO2          0\n",
              "NOx          0\n",
              "NH3          0\n",
              "SO2          0\n",
              "Ozone        0\n",
              "PM2.5y1      0\n",
              "NOy1         0\n",
              "NO2y1        0\n",
              "NOxy1        0\n",
              "NH3y1        0\n",
              "SO2y1        0\n",
              "Ozoney1      0\n",
              "PM2.5y2      0\n",
              "NOy2         0\n",
              "NO2y2        0\n",
              "NOxy2        0\n",
              "NH3y2        0\n",
              "SO2y2        0\n",
              "Ozoney2      0\n",
              "PM2.5y3      0\n",
              "NOy3         0\n",
              "NO2y3        0\n",
              "NOxy3        0\n",
              "NH3y3        0\n",
              "SO2y3        0\n",
              "Ozoney3      0\n",
              "dtype: int64"
            ]
          },
          "metadata": {},
          "execution_count": 434
        }
      ]
    },
    {
      "cell_type": "code",
      "metadata": {
        "id": "JauFWv9pHuGq"
      },
      "source": [
        "\n",
        "data['From Date']=pd.to_datetime(data['From Date'])\n",
        "data['year'] = data['From Date'].dt.year\n",
        "data['month'] = data['From Date'].dt.month\n",
        "data['day'] = data['From Date'].dt.day"
      ],
      "execution_count": 435,
      "outputs": []
    },
    {
      "cell_type": "code",
      "metadata": {
        "id": "JYuzT3dYHuGr"
      },
      "source": [
        "import datetime as dt"
      ],
      "execution_count": 436,
      "outputs": []
    },
    {
      "cell_type": "code",
      "metadata": {
        "id": "A0wI83n2HuGr"
      },
      "source": [
        "data['From Date']= data['From Date'].map(dt.datetime.toordinal)"
      ],
      "execution_count": 437,
      "outputs": []
    },
    {
      "cell_type": "code",
      "metadata": {
        "id": "9YmWWLJzHuGs"
      },
      "source": [
        "df=data.loc['0':'207']"
      ],
      "execution_count": 438,
      "outputs": []
    },
    {
      "cell_type": "code",
      "metadata": {
        "scrolled": true,
        "id": "ggwSXFDbHuGs",
        "colab": {
          "base_uri": "https://localhost:8080/",
          "height": 505
        },
        "outputId": "afcd0826-dae1-40f3-c650-6ab2a3b89318"
      },
      "source": [
        "df"
      ],
      "execution_count": 439,
      "outputs": [
        {
          "output_type": "execute_result",
          "data": {
            "text/html": [
              "\n",
              "  <div id=\"df-bd24a0da-1b0a-4f0b-a7b1-324184940491\">\n",
              "    <div class=\"colab-df-container\">\n",
              "      <div>\n",
              "<style scoped>\n",
              "    .dataframe tbody tr th:only-of-type {\n",
              "        vertical-align: middle;\n",
              "    }\n",
              "\n",
              "    .dataframe tbody tr th {\n",
              "        vertical-align: top;\n",
              "    }\n",
              "\n",
              "    .dataframe thead th {\n",
              "        text-align: right;\n",
              "    }\n",
              "</style>\n",
              "<table border=\"1\" class=\"dataframe\">\n",
              "  <thead>\n",
              "    <tr style=\"text-align: right;\">\n",
              "      <th></th>\n",
              "      <th>From Date</th>\n",
              "      <th>PM2.5</th>\n",
              "      <th>NO</th>\n",
              "      <th>NO2</th>\n",
              "      <th>NOx</th>\n",
              "      <th>NH3</th>\n",
              "      <th>SO2</th>\n",
              "      <th>Ozone</th>\n",
              "      <th>PM2.5y1</th>\n",
              "      <th>NOy1</th>\n",
              "      <th>NO2y1</th>\n",
              "      <th>NOxy1</th>\n",
              "      <th>NH3y1</th>\n",
              "      <th>SO2y1</th>\n",
              "      <th>Ozoney1</th>\n",
              "      <th>PM2.5y2</th>\n",
              "      <th>NOy2</th>\n",
              "      <th>NO2y2</th>\n",
              "      <th>NOxy2</th>\n",
              "      <th>NH3y2</th>\n",
              "      <th>SO2y2</th>\n",
              "      <th>Ozoney2</th>\n",
              "      <th>PM2.5y3</th>\n",
              "      <th>NOy3</th>\n",
              "      <th>NO2y3</th>\n",
              "      <th>NOxy3</th>\n",
              "      <th>NH3y3</th>\n",
              "      <th>SO2y3</th>\n",
              "      <th>Ozoney3</th>\n",
              "      <th>year</th>\n",
              "      <th>month</th>\n",
              "      <th>day</th>\n",
              "    </tr>\n",
              "  </thead>\n",
              "  <tbody>\n",
              "    <tr>\n",
              "      <th>0</th>\n",
              "      <td>735966</td>\n",
              "      <td>126.075287</td>\n",
              "      <td>26.302857</td>\n",
              "      <td>137.310000</td>\n",
              "      <td>97.560000</td>\n",
              "      <td>28.141429</td>\n",
              "      <td>24.267143</td>\n",
              "      <td>21.067143</td>\n",
              "      <td>360.551429</td>\n",
              "      <td>36.711429</td>\n",
              "      <td>143.250000</td>\n",
              "      <td>109.285714</td>\n",
              "      <td>107.202857</td>\n",
              "      <td>19.381429</td>\n",
              "      <td>20.608571</td>\n",
              "      <td>358.708571</td>\n",
              "      <td>39.011429</td>\n",
              "      <td>126.518571</td>\n",
              "      <td>109.081429</td>\n",
              "      <td>150.040000</td>\n",
              "      <td>16.978571</td>\n",
              "      <td>21.161429</td>\n",
              "      <td>107.908333</td>\n",
              "      <td>17.123333</td>\n",
              "      <td>56.933333</td>\n",
              "      <td>49.220000</td>\n",
              "      <td>178.608333</td>\n",
              "      <td>4.580000</td>\n",
              "      <td>49.548333</td>\n",
              "      <td>2016</td>\n",
              "      <td>1</td>\n",
              "      <td>3</td>\n",
              "    </tr>\n",
              "    <tr>\n",
              "      <th>1</th>\n",
              "      <td>735973</td>\n",
              "      <td>126.114713</td>\n",
              "      <td>39.560794</td>\n",
              "      <td>141.035079</td>\n",
              "      <td>107.217460</td>\n",
              "      <td>51.425238</td>\n",
              "      <td>36.032540</td>\n",
              "      <td>28.529048</td>\n",
              "      <td>147.790000</td>\n",
              "      <td>47.448571</td>\n",
              "      <td>98.875714</td>\n",
              "      <td>64.110000</td>\n",
              "      <td>293.744286</td>\n",
              "      <td>4.371429</td>\n",
              "      <td>47.062857</td>\n",
              "      <td>209.742857</td>\n",
              "      <td>48.975714</td>\n",
              "      <td>114.227143</td>\n",
              "      <td>52.552857</td>\n",
              "      <td>296.742857</td>\n",
              "      <td>4.384286</td>\n",
              "      <td>48.848571</td>\n",
              "      <td>123.782857</td>\n",
              "      <td>10.522857</td>\n",
              "      <td>78.045714</td>\n",
              "      <td>45.765714</td>\n",
              "      <td>342.238571</td>\n",
              "      <td>4.685714</td>\n",
              "      <td>42.050000</td>\n",
              "      <td>2016</td>\n",
              "      <td>1</td>\n",
              "      <td>10</td>\n",
              "    </tr>\n",
              "    <tr>\n",
              "      <th>2</th>\n",
              "      <td>735980</td>\n",
              "      <td>126.154138</td>\n",
              "      <td>14.603492</td>\n",
              "      <td>66.203492</td>\n",
              "      <td>47.072540</td>\n",
              "      <td>21.401905</td>\n",
              "      <td>13.800317</td>\n",
              "      <td>27.758095</td>\n",
              "      <td>153.547143</td>\n",
              "      <td>61.775714</td>\n",
              "      <td>118.688571</td>\n",
              "      <td>102.702857</td>\n",
              "      <td>288.337143</td>\n",
              "      <td>4.512857</td>\n",
              "      <td>47.688571</td>\n",
              "      <td>190.744898</td>\n",
              "      <td>60.705714</td>\n",
              "      <td>118.531429</td>\n",
              "      <td>115.894286</td>\n",
              "      <td>292.124286</td>\n",
              "      <td>4.450000</td>\n",
              "      <td>43.297143</td>\n",
              "      <td>110.152857</td>\n",
              "      <td>19.568571</td>\n",
              "      <td>89.411429</td>\n",
              "      <td>40.158571</td>\n",
              "      <td>300.631429</td>\n",
              "      <td>4.271429</td>\n",
              "      <td>51.192857</td>\n",
              "      <td>2016</td>\n",
              "      <td>1</td>\n",
              "      <td>17</td>\n",
              "    </tr>\n",
              "    <tr>\n",
              "      <th>3</th>\n",
              "      <td>735987</td>\n",
              "      <td>126.193563</td>\n",
              "      <td>14.217654</td>\n",
              "      <td>57.379990</td>\n",
              "      <td>42.129093</td>\n",
              "      <td>19.521779</td>\n",
              "      <td>8.517218</td>\n",
              "      <td>28.716454</td>\n",
              "      <td>177.758571</td>\n",
              "      <td>38.910000</td>\n",
              "      <td>81.725714</td>\n",
              "      <td>66.590714</td>\n",
              "      <td>227.610000</td>\n",
              "      <td>6.011429</td>\n",
              "      <td>25.218571</td>\n",
              "      <td>178.571429</td>\n",
              "      <td>20.386429</td>\n",
              "      <td>79.582143</td>\n",
              "      <td>62.067857</td>\n",
              "      <td>172.815000</td>\n",
              "      <td>6.082857</td>\n",
              "      <td>24.534286</td>\n",
              "      <td>67.865714</td>\n",
              "      <td>18.574286</td>\n",
              "      <td>62.675714</td>\n",
              "      <td>59.228571</td>\n",
              "      <td>123.715000</td>\n",
              "      <td>3.675714</td>\n",
              "      <td>49.335714</td>\n",
              "      <td>2016</td>\n",
              "      <td>1</td>\n",
              "      <td>24</td>\n",
              "    </tr>\n",
              "    <tr>\n",
              "      <th>4</th>\n",
              "      <td>735994</td>\n",
              "      <td>126.232989</td>\n",
              "      <td>28.167895</td>\n",
              "      <td>78.249649</td>\n",
              "      <td>64.528246</td>\n",
              "      <td>30.172281</td>\n",
              "      <td>8.492638</td>\n",
              "      <td>30.305899</td>\n",
              "      <td>75.971429</td>\n",
              "      <td>45.511429</td>\n",
              "      <td>106.558571</td>\n",
              "      <td>40.975714</td>\n",
              "      <td>63.821429</td>\n",
              "      <td>4.961429</td>\n",
              "      <td>12.930000</td>\n",
              "      <td>165.071429</td>\n",
              "      <td>45.531429</td>\n",
              "      <td>107.361429</td>\n",
              "      <td>41.315714</td>\n",
              "      <td>65.098571</td>\n",
              "      <td>4.974286</td>\n",
              "      <td>18.835714</td>\n",
              "      <td>133.508571</td>\n",
              "      <td>39.431429</td>\n",
              "      <td>99.832857</td>\n",
              "      <td>56.834286</td>\n",
              "      <td>68.932857</td>\n",
              "      <td>4.884286</td>\n",
              "      <td>29.428571</td>\n",
              "      <td>2016</td>\n",
              "      <td>1</td>\n",
              "      <td>31</td>\n",
              "    </tr>\n",
              "    <tr>\n",
              "      <th>...</th>\n",
              "      <td>...</td>\n",
              "      <td>...</td>\n",
              "      <td>...</td>\n",
              "      <td>...</td>\n",
              "      <td>...</td>\n",
              "      <td>...</td>\n",
              "      <td>...</td>\n",
              "      <td>...</td>\n",
              "      <td>...</td>\n",
              "      <td>...</td>\n",
              "      <td>...</td>\n",
              "      <td>...</td>\n",
              "      <td>...</td>\n",
              "      <td>...</td>\n",
              "      <td>...</td>\n",
              "      <td>...</td>\n",
              "      <td>...</td>\n",
              "      <td>...</td>\n",
              "      <td>...</td>\n",
              "      <td>...</td>\n",
              "      <td>...</td>\n",
              "      <td>...</td>\n",
              "      <td>...</td>\n",
              "      <td>...</td>\n",
              "      <td>...</td>\n",
              "      <td>...</td>\n",
              "      <td>...</td>\n",
              "      <td>...</td>\n",
              "      <td>...</td>\n",
              "      <td>...</td>\n",
              "      <td>...</td>\n",
              "      <td>...</td>\n",
              "    </tr>\n",
              "    <tr>\n",
              "      <th>203</th>\n",
              "      <td>737387</td>\n",
              "      <td>101.091429</td>\n",
              "      <td>51.498571</td>\n",
              "      <td>58.585714</td>\n",
              "      <td>64.812857</td>\n",
              "      <td>15.740000</td>\n",
              "      <td>8.118571</td>\n",
              "      <td>29.711429</td>\n",
              "      <td>106.172857</td>\n",
              "      <td>54.095714</td>\n",
              "      <td>57.744286</td>\n",
              "      <td>55.042857</td>\n",
              "      <td>37.981429</td>\n",
              "      <td>4.904286</td>\n",
              "      <td>23.264286</td>\n",
              "      <td>142.857143</td>\n",
              "      <td>80.625714</td>\n",
              "      <td>45.074286</td>\n",
              "      <td>74.138571</td>\n",
              "      <td>49.790000</td>\n",
              "      <td>3.578571</td>\n",
              "      <td>16.118571</td>\n",
              "      <td>149.784286</td>\n",
              "      <td>121.402857</td>\n",
              "      <td>75.078571</td>\n",
              "      <td>138.612857</td>\n",
              "      <td>203.751429</td>\n",
              "      <td>11.587746</td>\n",
              "      <td>17.128777</td>\n",
              "      <td>2019</td>\n",
              "      <td>11</td>\n",
              "      <td>24</td>\n",
              "    </tr>\n",
              "    <tr>\n",
              "      <th>204</th>\n",
              "      <td>737394</td>\n",
              "      <td>63.288571</td>\n",
              "      <td>53.741429</td>\n",
              "      <td>50.064286</td>\n",
              "      <td>75.085714</td>\n",
              "      <td>12.037143</td>\n",
              "      <td>2.608571</td>\n",
              "      <td>19.504286</td>\n",
              "      <td>173.848571</td>\n",
              "      <td>143.770000</td>\n",
              "      <td>63.578571</td>\n",
              "      <td>151.897143</td>\n",
              "      <td>52.612857</td>\n",
              "      <td>5.732857</td>\n",
              "      <td>18.121429</td>\n",
              "      <td>144.028571</td>\n",
              "      <td>45.332857</td>\n",
              "      <td>45.222857</td>\n",
              "      <td>75.832857</td>\n",
              "      <td>37.271429</td>\n",
              "      <td>5.592857</td>\n",
              "      <td>26.178571</td>\n",
              "      <td>147.950000</td>\n",
              "      <td>81.650000</td>\n",
              "      <td>60.125714</td>\n",
              "      <td>98.311429</td>\n",
              "      <td>152.627143</td>\n",
              "      <td>11.661439</td>\n",
              "      <td>16.815036</td>\n",
              "      <td>2019</td>\n",
              "      <td>12</td>\n",
              "      <td>1</td>\n",
              "    </tr>\n",
              "    <tr>\n",
              "      <th>205</th>\n",
              "      <td>737401</td>\n",
              "      <td>143.041429</td>\n",
              "      <td>60.198571</td>\n",
              "      <td>56.500000</td>\n",
              "      <td>91.804286</td>\n",
              "      <td>19.447143</td>\n",
              "      <td>6.052857</td>\n",
              "      <td>22.581429</td>\n",
              "      <td>154.002857</td>\n",
              "      <td>123.677143</td>\n",
              "      <td>66.648571</td>\n",
              "      <td>122.448571</td>\n",
              "      <td>61.412857</td>\n",
              "      <td>5.291429</td>\n",
              "      <td>16.441429</td>\n",
              "      <td>152.064286</td>\n",
              "      <td>134.887143</td>\n",
              "      <td>36.749524</td>\n",
              "      <td>144.431513</td>\n",
              "      <td>58.198571</td>\n",
              "      <td>4.803483</td>\n",
              "      <td>17.601753</td>\n",
              "      <td>74.350000</td>\n",
              "      <td>164.774286</td>\n",
              "      <td>69.271429</td>\n",
              "      <td>170.718571</td>\n",
              "      <td>248.184286</td>\n",
              "      <td>11.735132</td>\n",
              "      <td>16.501295</td>\n",
              "      <td>2019</td>\n",
              "      <td>12</td>\n",
              "      <td>8</td>\n",
              "    </tr>\n",
              "    <tr>\n",
              "      <th>206</th>\n",
              "      <td>737408</td>\n",
              "      <td>139.978571</td>\n",
              "      <td>70.320000</td>\n",
              "      <td>74.011429</td>\n",
              "      <td>98.191429</td>\n",
              "      <td>10.748571</td>\n",
              "      <td>5.511429</td>\n",
              "      <td>17.747143</td>\n",
              "      <td>155.460000</td>\n",
              "      <td>51.312857</td>\n",
              "      <td>44.624286</td>\n",
              "      <td>43.031429</td>\n",
              "      <td>36.337143</td>\n",
              "      <td>5.230000</td>\n",
              "      <td>9.402857</td>\n",
              "      <td>95.821429</td>\n",
              "      <td>61.235714</td>\n",
              "      <td>25.596190</td>\n",
              "      <td>83.172353</td>\n",
              "      <td>43.650000</td>\n",
              "      <td>3.976781</td>\n",
              "      <td>20.910985</td>\n",
              "      <td>279.941429</td>\n",
              "      <td>132.675714</td>\n",
              "      <td>66.684286</td>\n",
              "      <td>143.141429</td>\n",
              "      <td>215.230000</td>\n",
              "      <td>11.808825</td>\n",
              "      <td>16.187554</td>\n",
              "      <td>2019</td>\n",
              "      <td>12</td>\n",
              "      <td>15</td>\n",
              "    </tr>\n",
              "    <tr>\n",
              "      <th>207</th>\n",
              "      <td>737415</td>\n",
              "      <td>125.101429</td>\n",
              "      <td>37.271429</td>\n",
              "      <td>35.768571</td>\n",
              "      <td>55.842857</td>\n",
              "      <td>8.620000</td>\n",
              "      <td>2.812857</td>\n",
              "      <td>12.827143</td>\n",
              "      <td>184.412857</td>\n",
              "      <td>63.055714</td>\n",
              "      <td>42.382857</td>\n",
              "      <td>83.661429</td>\n",
              "      <td>52.088571</td>\n",
              "      <td>8.222857</td>\n",
              "      <td>8.772857</td>\n",
              "      <td>131.211429</td>\n",
              "      <td>40.825714</td>\n",
              "      <td>22.597143</td>\n",
              "      <td>68.484706</td>\n",
              "      <td>33.147143</td>\n",
              "      <td>4.063562</td>\n",
              "      <td>19.851970</td>\n",
              "      <td>190.681429</td>\n",
              "      <td>113.920000</td>\n",
              "      <td>56.500000</td>\n",
              "      <td>122.645714</td>\n",
              "      <td>183.537143</td>\n",
              "      <td>11.882518</td>\n",
              "      <td>15.873813</td>\n",
              "      <td>2019</td>\n",
              "      <td>12</td>\n",
              "      <td>22</td>\n",
              "    </tr>\n",
              "  </tbody>\n",
              "</table>\n",
              "<p>208 rows × 32 columns</p>\n",
              "</div>\n",
              "      <button class=\"colab-df-convert\" onclick=\"convertToInteractive('df-bd24a0da-1b0a-4f0b-a7b1-324184940491')\"\n",
              "              title=\"Convert this dataframe to an interactive table.\"\n",
              "              style=\"display:none;\">\n",
              "        \n",
              "  <svg xmlns=\"http://www.w3.org/2000/svg\" height=\"24px\"viewBox=\"0 0 24 24\"\n",
              "       width=\"24px\">\n",
              "    <path d=\"M0 0h24v24H0V0z\" fill=\"none\"/>\n",
              "    <path d=\"M18.56 5.44l.94 2.06.94-2.06 2.06-.94-2.06-.94-.94-2.06-.94 2.06-2.06.94zm-11 1L8.5 8.5l.94-2.06 2.06-.94-2.06-.94L8.5 2.5l-.94 2.06-2.06.94zm10 10l.94 2.06.94-2.06 2.06-.94-2.06-.94-.94-2.06-.94 2.06-2.06.94z\"/><path d=\"M17.41 7.96l-1.37-1.37c-.4-.4-.92-.59-1.43-.59-.52 0-1.04.2-1.43.59L10.3 9.45l-7.72 7.72c-.78.78-.78 2.05 0 2.83L4 21.41c.39.39.9.59 1.41.59.51 0 1.02-.2 1.41-.59l7.78-7.78 2.81-2.81c.8-.78.8-2.07 0-2.86zM5.41 20L4 18.59l7.72-7.72 1.47 1.35L5.41 20z\"/>\n",
              "  </svg>\n",
              "      </button>\n",
              "      \n",
              "  <style>\n",
              "    .colab-df-container {\n",
              "      display:flex;\n",
              "      flex-wrap:wrap;\n",
              "      gap: 12px;\n",
              "    }\n",
              "\n",
              "    .colab-df-convert {\n",
              "      background-color: #E8F0FE;\n",
              "      border: none;\n",
              "      border-radius: 50%;\n",
              "      cursor: pointer;\n",
              "      display: none;\n",
              "      fill: #1967D2;\n",
              "      height: 32px;\n",
              "      padding: 0 0 0 0;\n",
              "      width: 32px;\n",
              "    }\n",
              "\n",
              "    .colab-df-convert:hover {\n",
              "      background-color: #E2EBFA;\n",
              "      box-shadow: 0px 1px 2px rgba(60, 64, 67, 0.3), 0px 1px 3px 1px rgba(60, 64, 67, 0.15);\n",
              "      fill: #174EA6;\n",
              "    }\n",
              "\n",
              "    [theme=dark] .colab-df-convert {\n",
              "      background-color: #3B4455;\n",
              "      fill: #D2E3FC;\n",
              "    }\n",
              "\n",
              "    [theme=dark] .colab-df-convert:hover {\n",
              "      background-color: #434B5C;\n",
              "      box-shadow: 0px 1px 3px 1px rgba(0, 0, 0, 0.15);\n",
              "      filter: drop-shadow(0px 1px 2px rgba(0, 0, 0, 0.3));\n",
              "      fill: #FFFFFF;\n",
              "    }\n",
              "  </style>\n",
              "\n",
              "      <script>\n",
              "        const buttonEl =\n",
              "          document.querySelector('#df-bd24a0da-1b0a-4f0b-a7b1-324184940491 button.colab-df-convert');\n",
              "        buttonEl.style.display =\n",
              "          google.colab.kernel.accessAllowed ? 'block' : 'none';\n",
              "\n",
              "        async function convertToInteractive(key) {\n",
              "          const element = document.querySelector('#df-bd24a0da-1b0a-4f0b-a7b1-324184940491');\n",
              "          const dataTable =\n",
              "            await google.colab.kernel.invokeFunction('convertToInteractive',\n",
              "                                                     [key], {});\n",
              "          if (!dataTable) return;\n",
              "\n",
              "          const docLinkHtml = 'Like what you see? Visit the ' +\n",
              "            '<a target=\"_blank\" href=https://colab.research.google.com/notebooks/data_table.ipynb>data table notebook</a>'\n",
              "            + ' to learn more about interactive tables.';\n",
              "          element.innerHTML = '';\n",
              "          dataTable['output_type'] = 'display_data';\n",
              "          await google.colab.output.renderOutput(dataTable, element);\n",
              "          const docLink = document.createElement('div');\n",
              "          docLink.innerHTML = docLinkHtml;\n",
              "          element.appendChild(docLink);\n",
              "        }\n",
              "      </script>\n",
              "    </div>\n",
              "  </div>\n",
              "  "
            ],
            "text/plain": [
              "     From Date       PM2.5         NO         NO2  ...    Ozoney3  year  month  day\n",
              "0       735966  126.075287  26.302857  137.310000  ...  49.548333  2016      1    3\n",
              "1       735973  126.114713  39.560794  141.035079  ...  42.050000  2016      1   10\n",
              "2       735980  126.154138  14.603492   66.203492  ...  51.192857  2016      1   17\n",
              "3       735987  126.193563  14.217654   57.379990  ...  49.335714  2016      1   24\n",
              "4       735994  126.232989  28.167895   78.249649  ...  29.428571  2016      1   31\n",
              "..         ...         ...        ...         ...  ...        ...   ...    ...  ...\n",
              "203     737387  101.091429  51.498571   58.585714  ...  17.128777  2019     11   24\n",
              "204     737394   63.288571  53.741429   50.064286  ...  16.815036  2019     12    1\n",
              "205     737401  143.041429  60.198571   56.500000  ...  16.501295  2019     12    8\n",
              "206     737408  139.978571  70.320000   74.011429  ...  16.187554  2019     12   15\n",
              "207     737415  125.101429  37.271429   35.768571  ...  15.873813  2019     12   22\n",
              "\n",
              "[208 rows x 32 columns]"
            ]
          },
          "metadata": {},
          "execution_count": 439
        }
      ]
    },
    {
      "cell_type": "code",
      "metadata": {
        "colab": {
          "base_uri": "https://localhost:8080/"
        },
        "id": "xoJ6rXGMHuGt",
        "outputId": "9fa6e671-82fc-4e53-ec9e-5ece3c40d560"
      },
      "source": [
        "df.columns"
      ],
      "execution_count": 440,
      "outputs": [
        {
          "output_type": "execute_result",
          "data": {
            "text/plain": [
              "Index(['From Date', 'PM2.5', 'NO', 'NO2', 'NOx', 'NH3', 'SO2', 'Ozone',\n",
              "       'PM2.5y1', 'NOy1', 'NO2y1', 'NOxy1', 'NH3y1', 'SO2y1', 'Ozoney1',\n",
              "       'PM2.5y2', 'NOy2', 'NO2y2', 'NOxy2', 'NH3y2', 'SO2y2', 'Ozoney2',\n",
              "       'PM2.5y3', 'NOy3', 'NO2y3', 'NOxy3', 'NH3y3', 'SO2y3', 'Ozoney3',\n",
              "       'year', 'month', 'day'],\n",
              "      dtype='object')"
            ]
          },
          "metadata": {},
          "execution_count": 440
        }
      ]
    },
    {
      "cell_type": "code",
      "metadata": {
        "id": "d_dxRJ0kHuGt"
      },
      "source": [
        "X1 = df[['From Date', 'PM2.5', 'NO', 'NO2', 'NOx', 'NH3', 'SO2', 'Ozone',\n",
        "       'PM2.5y1', 'NOy1', 'NO2y1', 'NOxy1', 'NH3y1', 'SO2y1', 'Ozoney1',\n",
        "       'PM2.5y2', 'NOy2', 'NO2y2', 'NOxy2', 'NH3y2', 'SO2y2', 'Ozoney2',\n",
        "       'PM2.5y3', 'NOy3', 'NO2y3', 'NOxy3', 'NH3y3', 'SO2y3', 'Ozoney3',\n",
        "       'year', 'month', 'day']]\n",
        "Y1 = df['NOx']"
      ],
      "execution_count": 441,
      "outputs": []
    },
    {
      "cell_type": "code",
      "metadata": {
        "colab": {
          "base_uri": "https://localhost:8080/",
          "height": 505
        },
        "id": "wBiZNz_lHuGu",
        "outputId": "85eacd03-7ee3-4962-8a14-47e039e3e391"
      },
      "source": [
        "X1"
      ],
      "execution_count": 442,
      "outputs": [
        {
          "output_type": "execute_result",
          "data": {
            "text/html": [
              "\n",
              "  <div id=\"df-a10d1a8f-df7c-4254-b765-6644db1ae158\">\n",
              "    <div class=\"colab-df-container\">\n",
              "      <div>\n",
              "<style scoped>\n",
              "    .dataframe tbody tr th:only-of-type {\n",
              "        vertical-align: middle;\n",
              "    }\n",
              "\n",
              "    .dataframe tbody tr th {\n",
              "        vertical-align: top;\n",
              "    }\n",
              "\n",
              "    .dataframe thead th {\n",
              "        text-align: right;\n",
              "    }\n",
              "</style>\n",
              "<table border=\"1\" class=\"dataframe\">\n",
              "  <thead>\n",
              "    <tr style=\"text-align: right;\">\n",
              "      <th></th>\n",
              "      <th>From Date</th>\n",
              "      <th>PM2.5</th>\n",
              "      <th>NO</th>\n",
              "      <th>NO2</th>\n",
              "      <th>NOx</th>\n",
              "      <th>NH3</th>\n",
              "      <th>SO2</th>\n",
              "      <th>Ozone</th>\n",
              "      <th>PM2.5y1</th>\n",
              "      <th>NOy1</th>\n",
              "      <th>NO2y1</th>\n",
              "      <th>NOxy1</th>\n",
              "      <th>NH3y1</th>\n",
              "      <th>SO2y1</th>\n",
              "      <th>Ozoney1</th>\n",
              "      <th>PM2.5y2</th>\n",
              "      <th>NOy2</th>\n",
              "      <th>NO2y2</th>\n",
              "      <th>NOxy2</th>\n",
              "      <th>NH3y2</th>\n",
              "      <th>SO2y2</th>\n",
              "      <th>Ozoney2</th>\n",
              "      <th>PM2.5y3</th>\n",
              "      <th>NOy3</th>\n",
              "      <th>NO2y3</th>\n",
              "      <th>NOxy3</th>\n",
              "      <th>NH3y3</th>\n",
              "      <th>SO2y3</th>\n",
              "      <th>Ozoney3</th>\n",
              "      <th>year</th>\n",
              "      <th>month</th>\n",
              "      <th>day</th>\n",
              "    </tr>\n",
              "  </thead>\n",
              "  <tbody>\n",
              "    <tr>\n",
              "      <th>0</th>\n",
              "      <td>735966</td>\n",
              "      <td>126.075287</td>\n",
              "      <td>26.302857</td>\n",
              "      <td>137.310000</td>\n",
              "      <td>97.560000</td>\n",
              "      <td>28.141429</td>\n",
              "      <td>24.267143</td>\n",
              "      <td>21.067143</td>\n",
              "      <td>360.551429</td>\n",
              "      <td>36.711429</td>\n",
              "      <td>143.250000</td>\n",
              "      <td>109.285714</td>\n",
              "      <td>107.202857</td>\n",
              "      <td>19.381429</td>\n",
              "      <td>20.608571</td>\n",
              "      <td>358.708571</td>\n",
              "      <td>39.011429</td>\n",
              "      <td>126.518571</td>\n",
              "      <td>109.081429</td>\n",
              "      <td>150.040000</td>\n",
              "      <td>16.978571</td>\n",
              "      <td>21.161429</td>\n",
              "      <td>107.908333</td>\n",
              "      <td>17.123333</td>\n",
              "      <td>56.933333</td>\n",
              "      <td>49.220000</td>\n",
              "      <td>178.608333</td>\n",
              "      <td>4.580000</td>\n",
              "      <td>49.548333</td>\n",
              "      <td>2016</td>\n",
              "      <td>1</td>\n",
              "      <td>3</td>\n",
              "    </tr>\n",
              "    <tr>\n",
              "      <th>1</th>\n",
              "      <td>735973</td>\n",
              "      <td>126.114713</td>\n",
              "      <td>39.560794</td>\n",
              "      <td>141.035079</td>\n",
              "      <td>107.217460</td>\n",
              "      <td>51.425238</td>\n",
              "      <td>36.032540</td>\n",
              "      <td>28.529048</td>\n",
              "      <td>147.790000</td>\n",
              "      <td>47.448571</td>\n",
              "      <td>98.875714</td>\n",
              "      <td>64.110000</td>\n",
              "      <td>293.744286</td>\n",
              "      <td>4.371429</td>\n",
              "      <td>47.062857</td>\n",
              "      <td>209.742857</td>\n",
              "      <td>48.975714</td>\n",
              "      <td>114.227143</td>\n",
              "      <td>52.552857</td>\n",
              "      <td>296.742857</td>\n",
              "      <td>4.384286</td>\n",
              "      <td>48.848571</td>\n",
              "      <td>123.782857</td>\n",
              "      <td>10.522857</td>\n",
              "      <td>78.045714</td>\n",
              "      <td>45.765714</td>\n",
              "      <td>342.238571</td>\n",
              "      <td>4.685714</td>\n",
              "      <td>42.050000</td>\n",
              "      <td>2016</td>\n",
              "      <td>1</td>\n",
              "      <td>10</td>\n",
              "    </tr>\n",
              "    <tr>\n",
              "      <th>2</th>\n",
              "      <td>735980</td>\n",
              "      <td>126.154138</td>\n",
              "      <td>14.603492</td>\n",
              "      <td>66.203492</td>\n",
              "      <td>47.072540</td>\n",
              "      <td>21.401905</td>\n",
              "      <td>13.800317</td>\n",
              "      <td>27.758095</td>\n",
              "      <td>153.547143</td>\n",
              "      <td>61.775714</td>\n",
              "      <td>118.688571</td>\n",
              "      <td>102.702857</td>\n",
              "      <td>288.337143</td>\n",
              "      <td>4.512857</td>\n",
              "      <td>47.688571</td>\n",
              "      <td>190.744898</td>\n",
              "      <td>60.705714</td>\n",
              "      <td>118.531429</td>\n",
              "      <td>115.894286</td>\n",
              "      <td>292.124286</td>\n",
              "      <td>4.450000</td>\n",
              "      <td>43.297143</td>\n",
              "      <td>110.152857</td>\n",
              "      <td>19.568571</td>\n",
              "      <td>89.411429</td>\n",
              "      <td>40.158571</td>\n",
              "      <td>300.631429</td>\n",
              "      <td>4.271429</td>\n",
              "      <td>51.192857</td>\n",
              "      <td>2016</td>\n",
              "      <td>1</td>\n",
              "      <td>17</td>\n",
              "    </tr>\n",
              "    <tr>\n",
              "      <th>3</th>\n",
              "      <td>735987</td>\n",
              "      <td>126.193563</td>\n",
              "      <td>14.217654</td>\n",
              "      <td>57.379990</td>\n",
              "      <td>42.129093</td>\n",
              "      <td>19.521779</td>\n",
              "      <td>8.517218</td>\n",
              "      <td>28.716454</td>\n",
              "      <td>177.758571</td>\n",
              "      <td>38.910000</td>\n",
              "      <td>81.725714</td>\n",
              "      <td>66.590714</td>\n",
              "      <td>227.610000</td>\n",
              "      <td>6.011429</td>\n",
              "      <td>25.218571</td>\n",
              "      <td>178.571429</td>\n",
              "      <td>20.386429</td>\n",
              "      <td>79.582143</td>\n",
              "      <td>62.067857</td>\n",
              "      <td>172.815000</td>\n",
              "      <td>6.082857</td>\n",
              "      <td>24.534286</td>\n",
              "      <td>67.865714</td>\n",
              "      <td>18.574286</td>\n",
              "      <td>62.675714</td>\n",
              "      <td>59.228571</td>\n",
              "      <td>123.715000</td>\n",
              "      <td>3.675714</td>\n",
              "      <td>49.335714</td>\n",
              "      <td>2016</td>\n",
              "      <td>1</td>\n",
              "      <td>24</td>\n",
              "    </tr>\n",
              "    <tr>\n",
              "      <th>4</th>\n",
              "      <td>735994</td>\n",
              "      <td>126.232989</td>\n",
              "      <td>28.167895</td>\n",
              "      <td>78.249649</td>\n",
              "      <td>64.528246</td>\n",
              "      <td>30.172281</td>\n",
              "      <td>8.492638</td>\n",
              "      <td>30.305899</td>\n",
              "      <td>75.971429</td>\n",
              "      <td>45.511429</td>\n",
              "      <td>106.558571</td>\n",
              "      <td>40.975714</td>\n",
              "      <td>63.821429</td>\n",
              "      <td>4.961429</td>\n",
              "      <td>12.930000</td>\n",
              "      <td>165.071429</td>\n",
              "      <td>45.531429</td>\n",
              "      <td>107.361429</td>\n",
              "      <td>41.315714</td>\n",
              "      <td>65.098571</td>\n",
              "      <td>4.974286</td>\n",
              "      <td>18.835714</td>\n",
              "      <td>133.508571</td>\n",
              "      <td>39.431429</td>\n",
              "      <td>99.832857</td>\n",
              "      <td>56.834286</td>\n",
              "      <td>68.932857</td>\n",
              "      <td>4.884286</td>\n",
              "      <td>29.428571</td>\n",
              "      <td>2016</td>\n",
              "      <td>1</td>\n",
              "      <td>31</td>\n",
              "    </tr>\n",
              "    <tr>\n",
              "      <th>...</th>\n",
              "      <td>...</td>\n",
              "      <td>...</td>\n",
              "      <td>...</td>\n",
              "      <td>...</td>\n",
              "      <td>...</td>\n",
              "      <td>...</td>\n",
              "      <td>...</td>\n",
              "      <td>...</td>\n",
              "      <td>...</td>\n",
              "      <td>...</td>\n",
              "      <td>...</td>\n",
              "      <td>...</td>\n",
              "      <td>...</td>\n",
              "      <td>...</td>\n",
              "      <td>...</td>\n",
              "      <td>...</td>\n",
              "      <td>...</td>\n",
              "      <td>...</td>\n",
              "      <td>...</td>\n",
              "      <td>...</td>\n",
              "      <td>...</td>\n",
              "      <td>...</td>\n",
              "      <td>...</td>\n",
              "      <td>...</td>\n",
              "      <td>...</td>\n",
              "      <td>...</td>\n",
              "      <td>...</td>\n",
              "      <td>...</td>\n",
              "      <td>...</td>\n",
              "      <td>...</td>\n",
              "      <td>...</td>\n",
              "      <td>...</td>\n",
              "    </tr>\n",
              "    <tr>\n",
              "      <th>203</th>\n",
              "      <td>737387</td>\n",
              "      <td>101.091429</td>\n",
              "      <td>51.498571</td>\n",
              "      <td>58.585714</td>\n",
              "      <td>64.812857</td>\n",
              "      <td>15.740000</td>\n",
              "      <td>8.118571</td>\n",
              "      <td>29.711429</td>\n",
              "      <td>106.172857</td>\n",
              "      <td>54.095714</td>\n",
              "      <td>57.744286</td>\n",
              "      <td>55.042857</td>\n",
              "      <td>37.981429</td>\n",
              "      <td>4.904286</td>\n",
              "      <td>23.264286</td>\n",
              "      <td>142.857143</td>\n",
              "      <td>80.625714</td>\n",
              "      <td>45.074286</td>\n",
              "      <td>74.138571</td>\n",
              "      <td>49.790000</td>\n",
              "      <td>3.578571</td>\n",
              "      <td>16.118571</td>\n",
              "      <td>149.784286</td>\n",
              "      <td>121.402857</td>\n",
              "      <td>75.078571</td>\n",
              "      <td>138.612857</td>\n",
              "      <td>203.751429</td>\n",
              "      <td>11.587746</td>\n",
              "      <td>17.128777</td>\n",
              "      <td>2019</td>\n",
              "      <td>11</td>\n",
              "      <td>24</td>\n",
              "    </tr>\n",
              "    <tr>\n",
              "      <th>204</th>\n",
              "      <td>737394</td>\n",
              "      <td>63.288571</td>\n",
              "      <td>53.741429</td>\n",
              "      <td>50.064286</td>\n",
              "      <td>75.085714</td>\n",
              "      <td>12.037143</td>\n",
              "      <td>2.608571</td>\n",
              "      <td>19.504286</td>\n",
              "      <td>173.848571</td>\n",
              "      <td>143.770000</td>\n",
              "      <td>63.578571</td>\n",
              "      <td>151.897143</td>\n",
              "      <td>52.612857</td>\n",
              "      <td>5.732857</td>\n",
              "      <td>18.121429</td>\n",
              "      <td>144.028571</td>\n",
              "      <td>45.332857</td>\n",
              "      <td>45.222857</td>\n",
              "      <td>75.832857</td>\n",
              "      <td>37.271429</td>\n",
              "      <td>5.592857</td>\n",
              "      <td>26.178571</td>\n",
              "      <td>147.950000</td>\n",
              "      <td>81.650000</td>\n",
              "      <td>60.125714</td>\n",
              "      <td>98.311429</td>\n",
              "      <td>152.627143</td>\n",
              "      <td>11.661439</td>\n",
              "      <td>16.815036</td>\n",
              "      <td>2019</td>\n",
              "      <td>12</td>\n",
              "      <td>1</td>\n",
              "    </tr>\n",
              "    <tr>\n",
              "      <th>205</th>\n",
              "      <td>737401</td>\n",
              "      <td>143.041429</td>\n",
              "      <td>60.198571</td>\n",
              "      <td>56.500000</td>\n",
              "      <td>91.804286</td>\n",
              "      <td>19.447143</td>\n",
              "      <td>6.052857</td>\n",
              "      <td>22.581429</td>\n",
              "      <td>154.002857</td>\n",
              "      <td>123.677143</td>\n",
              "      <td>66.648571</td>\n",
              "      <td>122.448571</td>\n",
              "      <td>61.412857</td>\n",
              "      <td>5.291429</td>\n",
              "      <td>16.441429</td>\n",
              "      <td>152.064286</td>\n",
              "      <td>134.887143</td>\n",
              "      <td>36.749524</td>\n",
              "      <td>144.431513</td>\n",
              "      <td>58.198571</td>\n",
              "      <td>4.803483</td>\n",
              "      <td>17.601753</td>\n",
              "      <td>74.350000</td>\n",
              "      <td>164.774286</td>\n",
              "      <td>69.271429</td>\n",
              "      <td>170.718571</td>\n",
              "      <td>248.184286</td>\n",
              "      <td>11.735132</td>\n",
              "      <td>16.501295</td>\n",
              "      <td>2019</td>\n",
              "      <td>12</td>\n",
              "      <td>8</td>\n",
              "    </tr>\n",
              "    <tr>\n",
              "      <th>206</th>\n",
              "      <td>737408</td>\n",
              "      <td>139.978571</td>\n",
              "      <td>70.320000</td>\n",
              "      <td>74.011429</td>\n",
              "      <td>98.191429</td>\n",
              "      <td>10.748571</td>\n",
              "      <td>5.511429</td>\n",
              "      <td>17.747143</td>\n",
              "      <td>155.460000</td>\n",
              "      <td>51.312857</td>\n",
              "      <td>44.624286</td>\n",
              "      <td>43.031429</td>\n",
              "      <td>36.337143</td>\n",
              "      <td>5.230000</td>\n",
              "      <td>9.402857</td>\n",
              "      <td>95.821429</td>\n",
              "      <td>61.235714</td>\n",
              "      <td>25.596190</td>\n",
              "      <td>83.172353</td>\n",
              "      <td>43.650000</td>\n",
              "      <td>3.976781</td>\n",
              "      <td>20.910985</td>\n",
              "      <td>279.941429</td>\n",
              "      <td>132.675714</td>\n",
              "      <td>66.684286</td>\n",
              "      <td>143.141429</td>\n",
              "      <td>215.230000</td>\n",
              "      <td>11.808825</td>\n",
              "      <td>16.187554</td>\n",
              "      <td>2019</td>\n",
              "      <td>12</td>\n",
              "      <td>15</td>\n",
              "    </tr>\n",
              "    <tr>\n",
              "      <th>207</th>\n",
              "      <td>737415</td>\n",
              "      <td>125.101429</td>\n",
              "      <td>37.271429</td>\n",
              "      <td>35.768571</td>\n",
              "      <td>55.842857</td>\n",
              "      <td>8.620000</td>\n",
              "      <td>2.812857</td>\n",
              "      <td>12.827143</td>\n",
              "      <td>184.412857</td>\n",
              "      <td>63.055714</td>\n",
              "      <td>42.382857</td>\n",
              "      <td>83.661429</td>\n",
              "      <td>52.088571</td>\n",
              "      <td>8.222857</td>\n",
              "      <td>8.772857</td>\n",
              "      <td>131.211429</td>\n",
              "      <td>40.825714</td>\n",
              "      <td>22.597143</td>\n",
              "      <td>68.484706</td>\n",
              "      <td>33.147143</td>\n",
              "      <td>4.063562</td>\n",
              "      <td>19.851970</td>\n",
              "      <td>190.681429</td>\n",
              "      <td>113.920000</td>\n",
              "      <td>56.500000</td>\n",
              "      <td>122.645714</td>\n",
              "      <td>183.537143</td>\n",
              "      <td>11.882518</td>\n",
              "      <td>15.873813</td>\n",
              "      <td>2019</td>\n",
              "      <td>12</td>\n",
              "      <td>22</td>\n",
              "    </tr>\n",
              "  </tbody>\n",
              "</table>\n",
              "<p>208 rows × 32 columns</p>\n",
              "</div>\n",
              "      <button class=\"colab-df-convert\" onclick=\"convertToInteractive('df-a10d1a8f-df7c-4254-b765-6644db1ae158')\"\n",
              "              title=\"Convert this dataframe to an interactive table.\"\n",
              "              style=\"display:none;\">\n",
              "        \n",
              "  <svg xmlns=\"http://www.w3.org/2000/svg\" height=\"24px\"viewBox=\"0 0 24 24\"\n",
              "       width=\"24px\">\n",
              "    <path d=\"M0 0h24v24H0V0z\" fill=\"none\"/>\n",
              "    <path d=\"M18.56 5.44l.94 2.06.94-2.06 2.06-.94-2.06-.94-.94-2.06-.94 2.06-2.06.94zm-11 1L8.5 8.5l.94-2.06 2.06-.94-2.06-.94L8.5 2.5l-.94 2.06-2.06.94zm10 10l.94 2.06.94-2.06 2.06-.94-2.06-.94-.94-2.06-.94 2.06-2.06.94z\"/><path d=\"M17.41 7.96l-1.37-1.37c-.4-.4-.92-.59-1.43-.59-.52 0-1.04.2-1.43.59L10.3 9.45l-7.72 7.72c-.78.78-.78 2.05 0 2.83L4 21.41c.39.39.9.59 1.41.59.51 0 1.02-.2 1.41-.59l7.78-7.78 2.81-2.81c.8-.78.8-2.07 0-2.86zM5.41 20L4 18.59l7.72-7.72 1.47 1.35L5.41 20z\"/>\n",
              "  </svg>\n",
              "      </button>\n",
              "      \n",
              "  <style>\n",
              "    .colab-df-container {\n",
              "      display:flex;\n",
              "      flex-wrap:wrap;\n",
              "      gap: 12px;\n",
              "    }\n",
              "\n",
              "    .colab-df-convert {\n",
              "      background-color: #E8F0FE;\n",
              "      border: none;\n",
              "      border-radius: 50%;\n",
              "      cursor: pointer;\n",
              "      display: none;\n",
              "      fill: #1967D2;\n",
              "      height: 32px;\n",
              "      padding: 0 0 0 0;\n",
              "      width: 32px;\n",
              "    }\n",
              "\n",
              "    .colab-df-convert:hover {\n",
              "      background-color: #E2EBFA;\n",
              "      box-shadow: 0px 1px 2px rgba(60, 64, 67, 0.3), 0px 1px 3px 1px rgba(60, 64, 67, 0.15);\n",
              "      fill: #174EA6;\n",
              "    }\n",
              "\n",
              "    [theme=dark] .colab-df-convert {\n",
              "      background-color: #3B4455;\n",
              "      fill: #D2E3FC;\n",
              "    }\n",
              "\n",
              "    [theme=dark] .colab-df-convert:hover {\n",
              "      background-color: #434B5C;\n",
              "      box-shadow: 0px 1px 3px 1px rgba(0, 0, 0, 0.15);\n",
              "      filter: drop-shadow(0px 1px 2px rgba(0, 0, 0, 0.3));\n",
              "      fill: #FFFFFF;\n",
              "    }\n",
              "  </style>\n",
              "\n",
              "      <script>\n",
              "        const buttonEl =\n",
              "          document.querySelector('#df-a10d1a8f-df7c-4254-b765-6644db1ae158 button.colab-df-convert');\n",
              "        buttonEl.style.display =\n",
              "          google.colab.kernel.accessAllowed ? 'block' : 'none';\n",
              "\n",
              "        async function convertToInteractive(key) {\n",
              "          const element = document.querySelector('#df-a10d1a8f-df7c-4254-b765-6644db1ae158');\n",
              "          const dataTable =\n",
              "            await google.colab.kernel.invokeFunction('convertToInteractive',\n",
              "                                                     [key], {});\n",
              "          if (!dataTable) return;\n",
              "\n",
              "          const docLinkHtml = 'Like what you see? Visit the ' +\n",
              "            '<a target=\"_blank\" href=https://colab.research.google.com/notebooks/data_table.ipynb>data table notebook</a>'\n",
              "            + ' to learn more about interactive tables.';\n",
              "          element.innerHTML = '';\n",
              "          dataTable['output_type'] = 'display_data';\n",
              "          await google.colab.output.renderOutput(dataTable, element);\n",
              "          const docLink = document.createElement('div');\n",
              "          docLink.innerHTML = docLinkHtml;\n",
              "          element.appendChild(docLink);\n",
              "        }\n",
              "      </script>\n",
              "    </div>\n",
              "  </div>\n",
              "  "
            ],
            "text/plain": [
              "     From Date       PM2.5         NO         NO2  ...    Ozoney3  year  month  day\n",
              "0       735966  126.075287  26.302857  137.310000  ...  49.548333  2016      1    3\n",
              "1       735973  126.114713  39.560794  141.035079  ...  42.050000  2016      1   10\n",
              "2       735980  126.154138  14.603492   66.203492  ...  51.192857  2016      1   17\n",
              "3       735987  126.193563  14.217654   57.379990  ...  49.335714  2016      1   24\n",
              "4       735994  126.232989  28.167895   78.249649  ...  29.428571  2016      1   31\n",
              "..         ...         ...        ...         ...  ...        ...   ...    ...  ...\n",
              "203     737387  101.091429  51.498571   58.585714  ...  17.128777  2019     11   24\n",
              "204     737394   63.288571  53.741429   50.064286  ...  16.815036  2019     12    1\n",
              "205     737401  143.041429  60.198571   56.500000  ...  16.501295  2019     12    8\n",
              "206     737408  139.978571  70.320000   74.011429  ...  16.187554  2019     12   15\n",
              "207     737415  125.101429  37.271429   35.768571  ...  15.873813  2019     12   22\n",
              "\n",
              "[208 rows x 32 columns]"
            ]
          },
          "metadata": {},
          "execution_count": 442
        }
      ]
    },
    {
      "cell_type": "code",
      "source": [
        "Y1"
      ],
      "metadata": {
        "colab": {
          "base_uri": "https://localhost:8080/"
        },
        "id": "XYMkjTxj9OJN",
        "outputId": "403d557b-c189-448f-a35b-93751710342b"
      },
      "execution_count": 443,
      "outputs": [
        {
          "output_type": "execute_result",
          "data": {
            "text/plain": [
              "0       97.560000\n",
              "1      107.217460\n",
              "2       47.072540\n",
              "3       42.129093\n",
              "4       64.528246\n",
              "          ...    \n",
              "203     64.812857\n",
              "204     75.085714\n",
              "205     91.804286\n",
              "206     98.191429\n",
              "207     55.842857\n",
              "Name: NOx, Length: 208, dtype: float64"
            ]
          },
          "metadata": {},
          "execution_count": 443
        }
      ]
    },
    {
      "cell_type": "code",
      "source": [
        "from google.colab import files\n",
        "files.download('weeklycrct.xlsx')"
      ],
      "metadata": {
        "colab": {
          "base_uri": "https://localhost:8080/",
          "height": 17
        },
        "id": "reQqDCvU_0Hc",
        "outputId": "91b578c6-63ac-477a-a9c0-7004b503eef9"
      },
      "execution_count": 38,
      "outputs": [
        {
          "output_type": "display_data",
          "data": {
            "application/javascript": [
              "\n",
              "    async function download(id, filename, size) {\n",
              "      if (!google.colab.kernel.accessAllowed) {\n",
              "        return;\n",
              "      }\n",
              "      const div = document.createElement('div');\n",
              "      const label = document.createElement('label');\n",
              "      label.textContent = `Downloading \"${filename}\": `;\n",
              "      div.appendChild(label);\n",
              "      const progress = document.createElement('progress');\n",
              "      progress.max = size;\n",
              "      div.appendChild(progress);\n",
              "      document.body.appendChild(div);\n",
              "\n",
              "      const buffers = [];\n",
              "      let downloaded = 0;\n",
              "\n",
              "      const channel = await google.colab.kernel.comms.open(id);\n",
              "      // Send a message to notify the kernel that we're ready.\n",
              "      channel.send({})\n",
              "\n",
              "      for await (const message of channel.messages) {\n",
              "        // Send a message to notify the kernel that we're ready.\n",
              "        channel.send({})\n",
              "        if (message.buffers) {\n",
              "          for (const buffer of message.buffers) {\n",
              "            buffers.push(buffer);\n",
              "            downloaded += buffer.byteLength;\n",
              "            progress.value = downloaded;\n",
              "          }\n",
              "        }\n",
              "      }\n",
              "      const blob = new Blob(buffers, {type: 'application/binary'});\n",
              "      const a = document.createElement('a');\n",
              "      a.href = window.URL.createObjectURL(blob);\n",
              "      a.download = filename;\n",
              "      div.appendChild(a);\n",
              "      a.click();\n",
              "      div.remove();\n",
              "    }\n",
              "  "
            ],
            "text/plain": [
              "<IPython.core.display.Javascript object>"
            ]
          },
          "metadata": {}
        },
        {
          "output_type": "display_data",
          "data": {
            "application/javascript": [
              "download(\"download_4d7cb05a-8db5-4137-b778-7d0854359a26\", \"weeklycrct.xlsx\", 85987)"
            ],
            "text/plain": [
              "<IPython.core.display.Javascript object>"
            ]
          },
          "metadata": {}
        }
      ]
    },
    {
      "cell_type": "code",
      "metadata": {
        "id": "uwIRkiFZHuGv"
      },
      "source": [
        "xtrain,xtest,ytrain,ytest = train_test_split(X1,Y1,test_size=.2,random_state= 36)\n"
      ],
      "execution_count": 556,
      "outputs": []
    },
    {
      "cell_type": "code",
      "metadata": {
        "colab": {
          "base_uri": "https://localhost:8080/"
        },
        "id": "jb_6RzyzHuGv",
        "outputId": "e7050a44-339e-4d68-a6e8-a7c842ac2b0b"
      },
      "source": [
        "forest =  RandomForestRegressor(n_estimators=1500,\n",
        "                              max_depth=7,\n",
        "                              max_features='auto',\n",
        "                              min_samples_split=7,\n",
        "                              min_samples_leaf=7,random_state=20)\n",
        "\n",
        "forest.fit(xtrain,ytrain)"
      ],
      "execution_count": 557,
      "outputs": [
        {
          "output_type": "execute_result",
          "data": {
            "text/plain": [
              "RandomForestRegressor(max_depth=7, min_samples_leaf=7, min_samples_split=7,\n",
              "                      n_estimators=1500, random_state=20)"
            ]
          },
          "metadata": {},
          "execution_count": 557
        }
      ]
    },
    {
      "cell_type": "code",
      "metadata": {
        "scrolled": true,
        "colab": {
          "base_uri": "https://localhost:8080/"
        },
        "id": "plFl10ZdHuGv",
        "outputId": "e6d54847-4c4e-4de0-b27d-ab2e85627bd8"
      },
      "source": [
        "# we now score the model\n",
        "print('Score on train data: {}\\n'.format(forest.score(xtrain,ytrain)))\n",
        "print('Score on test data: {}\\n'.format(forest.score(xtest,ytest)))\n",
        "\n",
        "forest_pred = forest.predict(xtest)\n",
        "forest_mse = mean_squared_error(ytest,forest_pred)\n",
        "forest_accuracy = r2_score(ytest,forest_pred)\n",
        "\n",
        "print('Root Mean Squared Error: {}\\n'.format(np.sqrt(forest_mse)))\n",
        "print('Overall model accuracy: {}'.format(forest_accuracy))"
      ],
      "execution_count": 558,
      "outputs": [
        {
          "output_type": "stream",
          "name": "stdout",
          "text": [
            "Score on train data: 0.9959046364107196\n",
            "\n",
            "Score on test data: 0.9850643505919839\n",
            "\n",
            "Root Mean Squared Error: 5.75330416553643\n",
            "\n",
            "Overall model accuracy: 0.9850643505919839\n"
          ]
        }
      ]
    },
    {
      "cell_type": "code",
      "metadata": {
        "id": "FVwQdEMnHuGw"
      },
      "source": [
        "#test=data.loc['207':'219']\n",
        "#test=data.loc['220':'222']\n",
        "#test=data.loc['223':'227']\n",
        "#test=data.loc['228':'229']\n",
        "test=data.loc['230':'256']\n",
        "X=test[['From Date', 'PM2.5', 'NO', 'NO2', 'NOx', 'NH3', 'SO2', 'Ozone',\n",
        "       'PM2.5y1', 'NOy1', 'NO2y1', 'NOxy1', 'NH3y1', 'SO2y1', 'Ozoney1',\n",
        "       'PM2.5y2', 'NOy2', 'NO2y2', 'NOxy2', 'NH3y2', 'SO2y2', 'Ozoney2',\n",
        "       'PM2.5y3', 'NOy3', 'NO2y3', 'NOxy3', 'NH3y3', 'SO2y3', 'Ozoney3',\n",
        "       'year', 'month', 'day']]"
      ],
      "execution_count": 559,
      "outputs": []
    },
    {
      "cell_type": "code",
      "metadata": {
        "id": "FaVmUtCGHuGw"
      },
      "source": [
        "predict=forest.predict(X)"
      ],
      "execution_count": 560,
      "outputs": []
    },
    {
      "cell_type": "code",
      "metadata": {
        "scrolled": false,
        "colab": {
          "base_uri": "https://localhost:8080/"
        },
        "id": "u-p44t5zHuGw",
        "outputId": "4b48ffc9-a127-4ef1-ce2b-cc62f6b12107"
      },
      "source": [
        "predict"
      ],
      "execution_count": 561,
      "outputs": [
        {
          "output_type": "execute_result",
          "data": {
            "text/plain": [
              "array([48.08788909, 45.2973872 , 46.70244269, 44.54918499, 40.68337742,\n",
              "       45.35358709, 38.80108102, 45.14303017, 46.62958422, 57.02364918,\n",
              "       53.07818639, 62.57865202, 62.79003836, 64.57455344, 42.0330233 ,\n",
              "       28.56727943, 34.77587247, 37.79142617, 28.64480328, 38.22806843,\n",
              "       42.50309036, 50.24442762, 47.9922248 , 83.83520727, 81.68285105,\n",
              "       39.31024391, 51.97698378])"
            ]
          },
          "metadata": {},
          "execution_count": 561
        }
      ]
    },
    {
      "cell_type": "code",
      "metadata": {
        "id": "dhBXRfNjHuGw"
      },
      "source": [
        "#dates=data.loc['212':'219','From Date']\n",
        "#dates=data.loc['220':'222','From Date']\n",
        "#dates=data.loc['223':'227','From Date']\n",
        "#dates=data.loc['228':'229','From Date']\n",
        "dates=data.loc['230':'256','From Date']"
      ],
      "execution_count": 562,
      "outputs": []
    },
    {
      "cell_type": "code",
      "metadata": {
        "id": "__RMOgebHuGx"
      },
      "source": [
        "X['From Date']= dates.values"
      ],
      "execution_count": 563,
      "outputs": []
    },
    {
      "cell_type": "code",
      "metadata": {
        "colab": {
          "base_uri": "https://localhost:8080/"
        },
        "id": "1Vj_-wuAHuGx",
        "outputId": "50b6e058-2946-4e7d-b2fc-e14941a7dec2"
      },
      "source": [
        "X.columns"
      ],
      "execution_count": 564,
      "outputs": [
        {
          "output_type": "execute_result",
          "data": {
            "text/plain": [
              "Index(['From Date', 'PM2.5', 'NO', 'NO2', 'NOx', 'NH3', 'SO2', 'Ozone',\n",
              "       'PM2.5y1', 'NOy1', 'NO2y1', 'NOxy1', 'NH3y1', 'SO2y1', 'Ozoney1',\n",
              "       'PM2.5y2', 'NOy2', 'NO2y2', 'NOxy2', 'NH3y2', 'SO2y2', 'Ozoney2',\n",
              "       'PM2.5y3', 'NOy3', 'NO2y3', 'NOxy3', 'NH3y3', 'SO2y3', 'Ozoney3',\n",
              "       'year', 'month', 'day'],\n",
              "      dtype='object')"
            ]
          },
          "metadata": {},
          "execution_count": 564
        }
      ]
    },
    {
      "cell_type": "code",
      "metadata": {
        "id": "Xqn2SkUsHuGx"
      },
      "source": [
        "X['From Date']= X['From Date'].map(dt.datetime.fromordinal)"
      ],
      "execution_count": 565,
      "outputs": []
    },
    {
      "cell_type": "code",
      "metadata": {
        "id": "rlKdtqhJHuGy"
      },
      "source": [
        "test['From Date']= test['From Date'].map(dt.datetime.fromordinal)"
      ],
      "execution_count": 566,
      "outputs": []
    },
    {
      "cell_type": "code",
      "metadata": {
        "id": "ykerOaATHuGy"
      },
      "source": [
        "test = test.set_index(['From Date'])\n",
        "X = X.set_index(['From Date'])\n"
      ],
      "execution_count": 567,
      "outputs": []
    },
    {
      "cell_type": "code",
      "metadata": {
        "id": "mVknpiAZHuGy"
      },
      "source": [
        "X['pred']=predict"
      ],
      "execution_count": 568,
      "outputs": []
    },
    {
      "cell_type": "code",
      "metadata": {
        "scrolled": true,
        "colab": {
          "base_uri": "https://localhost:8080/",
          "height": 422
        },
        "id": "VukTspM9HuGy",
        "outputId": "e8b99586-866a-41fa-ceaf-66dea173f80d"
      },
      "source": [
        "test['PM2.5'].plot(legend=True, label='Actual PM2.5', figsize=(10,6))\n",
        "X['pred'].plot(legend=True, label='Predicted PM2.5')"
      ],
      "execution_count": 569,
      "outputs": [
        {
          "output_type": "execute_result",
          "data": {
            "text/plain": [
              "<matplotlib.axes._subplots.AxesSubplot at 0x7f02232a4390>"
            ]
          },
          "metadata": {},
          "execution_count": 569
        },
        {
          "output_type": "display_data",
          "data": {
            "image/png": "[encoded data removed]",
            "text/plain": [
              "<Figure size 720x432 with 1 Axes>"
            ]
          },
          "metadata": {}
        }
      ]
    },
    {
      "cell_type": "code",
      "metadata": {
        "colab": {
          "base_uri": "https://localhost:8080/"
        },
        "id": "DRFjyzn7HuGz",
        "outputId": "2d81627e-82d3-4344-fd17-3ced905cbc08"
      },
      "source": [
        "np.sqrt(mean_squared_error(test['PM2.5'],X['pred']))"
      ],
      "execution_count": 570,
      "outputs": [
        {
          "output_type": "execute_result",
          "data": {
            "text/plain": [
              "112.82627005827064"
            ]
          },
          "metadata": {},
          "execution_count": 570
        }
      ]
    },
    {
      "cell_type": "code",
      "metadata": {
        "scrolled": false,
        "colab": {
          "base_uri": "https://localhost:8080/"
        },
        "id": "AhdUZ7jHHuGz",
        "outputId": "b38725df-c8da-43f3-f951-0a429c533d56"
      },
      "source": [
        "mae = metrics.mean_absolute_error(ytest, forest_pred)\n",
        "mse = metrics.mean_squared_error(ytest, forest_pred)\n",
        "rmsetest = np.sqrt(mse) # or mse**(0.5)  \n",
        "r2 = metrics.r2_score(ytest,forest_pred)\n",
        "\n",
        "print(\"Results of sklearn.metrics:\")\n",
        "print(\"MAE:\",mae)\n",
        "print(\"MSE:\", mse)\n",
        "print(\"RMSE:\", rmsetest)\n",
        "print(\"R-Squared:\", r2)"
      ],
      "execution_count": 571,
      "outputs": [
        {
          "output_type": "stream",
          "name": "stdout",
          "text": [
            "Results of sklearn.metrics:\n",
            "MAE: 3.2052628471827727\n",
            "MSE: 33.100508821178835\n",
            "RMSE: 5.75330416553643\n",
            "R-Squared: 0.9850643505919839\n"
          ]
        }
      ]
    },
    {
      "cell_type": "code",
      "metadata": {
        "colab": {
          "base_uri": "https://localhost:8080/"
        },
        "id": "BG5IlC26HuGz",
        "outputId": "1a28e5eb-7459-4a5a-e228-5bb3068c1570"
      },
      "source": [
        "mae = metrics.mean_absolute_error(test['PM2.5'],X['pred'])\n",
        "mse = metrics.mean_squared_error(test['PM2.5'],X['pred'])\n",
        "rmse = np.sqrt(mse) # or mse**(0.5)  \n",
        "r2 = metrics.r2_score(test['PM2.5'],X['pred'])\n",
        "\n",
        "print(\"Results of sklearn.metrics:\")\n",
        "print(\"MAE:\",mae)\n",
        "print(\"MSE:\", mse)\n",
        "print(\"RMSE:\", rmse)\n",
        "print(\"R-Squared:\", r2)"
      ],
      "execution_count": 572,
      "outputs": [
        {
          "output_type": "stream",
          "name": "stdout",
          "text": [
            "Results of sklearn.metrics:\n",
            "MAE: 63.93937260082474\n",
            "MSE: 12729.767215261818\n",
            "RMSE: 112.82627005827064\n",
            "R-Squared: -0.1312138165813741\n"
          ]
        }
      ]
    },
    {
      "cell_type": "markdown",
      "metadata": {
        "id": "1h-3YAizHuG0"
      },
      "source": [
        "# 3rd plot"
      ]
    },
    {
      "cell_type": "code",
      "metadata": {
        "id": "vc2cxtdkHuG1"
      },
      "source": [
        "testcase = pd.DataFrame()"
      ],
      "execution_count": 573,
      "outputs": []
    },
    {
      "cell_type": "code",
      "metadata": {
        "scrolled": true,
        "id": "9kIftBd0HuG1"
      },
      "source": [
        "testcase['test']=ytest\n",
        "testcase['pred']=forest_pred"
      ],
      "execution_count": 574,
      "outputs": []
    },
    {
      "cell_type": "code",
      "metadata": {
        "id": "BhjyYVmPHuG1"
      },
      "source": [
        "testcase[\"Corrected\"] = np.where(testcase[\"pred\"]<testcase[\"test\"],testcase[\"pred\"]+rmsetest ,\n",
        "                   np.where(testcase[\"pred\"]>testcase[\"test\"], testcase[\"pred\"]-rmsetest,\n",
        "                            testcase[\"pred\"]))"
      ],
      "execution_count": 575,
      "outputs": []
    },
    {
      "cell_type": "code",
      "metadata": {
        "id": "oDIcw-1cHuG1",
        "colab": {
          "base_uri": "https://localhost:8080/",
          "height": 1000
        },
        "outputId": "c848c8a2-d654-4400-e5bd-c99fe332d9cc"
      },
      "source": [
        "testcase"
      ],
      "execution_count": 576,
      "outputs": [
        {
          "output_type": "execute_result",
          "data": {
            "text/html": [
              "\n",
              "  <div id=\"df-ec531f90-c516-4d10-80c4-83cb20e8af6d\">\n",
              "    <div class=\"colab-df-container\">\n",
              "      <div>\n",
              "<style scoped>\n",
              "    .dataframe tbody tr th:only-of-type {\n",
              "        vertical-align: middle;\n",
              "    }\n",
              "\n",
              "    .dataframe tbody tr th {\n",
              "        vertical-align: top;\n",
              "    }\n",
              "\n",
              "    .dataframe thead th {\n",
              "        text-align: right;\n",
              "    }\n",
              "</style>\n",
              "<table border=\"1\" class=\"dataframe\">\n",
              "  <thead>\n",
              "    <tr style=\"text-align: right;\">\n",
              "      <th></th>\n",
              "      <th>test</th>\n",
              "      <th>pred</th>\n",
              "      <th>Corrected</th>\n",
              "    </tr>\n",
              "  </thead>\n",
              "  <tbody>\n",
              "    <tr>\n",
              "      <th>167</th>\n",
              "      <td>34.210000</td>\n",
              "      <td>37.763051</td>\n",
              "      <td>32.009747</td>\n",
              "    </tr>\n",
              "    <tr>\n",
              "      <th>56</th>\n",
              "      <td>94.877838</td>\n",
              "      <td>94.944874</td>\n",
              "      <td>89.191570</td>\n",
              "    </tr>\n",
              "    <tr>\n",
              "      <th>188</th>\n",
              "      <td>8.938571</td>\n",
              "      <td>16.856717</td>\n",
              "      <td>11.103413</td>\n",
              "    </tr>\n",
              "    <tr>\n",
              "      <th>48</th>\n",
              "      <td>170.718571</td>\n",
              "      <td>167.733539</td>\n",
              "      <td>173.486843</td>\n",
              "    </tr>\n",
              "    <tr>\n",
              "      <th>92</th>\n",
              "      <td>60.292857</td>\n",
              "      <td>62.028023</td>\n",
              "      <td>56.274719</td>\n",
              "    </tr>\n",
              "    <tr>\n",
              "      <th>2</th>\n",
              "      <td>47.072540</td>\n",
              "      <td>46.906945</td>\n",
              "      <td>52.660249</td>\n",
              "    </tr>\n",
              "    <tr>\n",
              "      <th>14</th>\n",
              "      <td>94.883684</td>\n",
              "      <td>94.951752</td>\n",
              "      <td>89.198447</td>\n",
              "    </tr>\n",
              "    <tr>\n",
              "      <th>126</th>\n",
              "      <td>87.348571</td>\n",
              "      <td>88.220937</td>\n",
              "      <td>82.467633</td>\n",
              "    </tr>\n",
              "    <tr>\n",
              "      <th>104</th>\n",
              "      <td>39.109412</td>\n",
              "      <td>39.089194</td>\n",
              "      <td>44.842498</td>\n",
              "    </tr>\n",
              "    <tr>\n",
              "      <th>28</th>\n",
              "      <td>137.381298</td>\n",
              "      <td>145.843580</td>\n",
              "      <td>140.090276</td>\n",
              "    </tr>\n",
              "    <tr>\n",
              "      <th>162</th>\n",
              "      <td>51.142857</td>\n",
              "      <td>51.058847</td>\n",
              "      <td>56.812152</td>\n",
              "    </tr>\n",
              "    <tr>\n",
              "      <th>80</th>\n",
              "      <td>44.328571</td>\n",
              "      <td>44.345466</td>\n",
              "      <td>38.592162</td>\n",
              "    </tr>\n",
              "    <tr>\n",
              "      <th>145</th>\n",
              "      <td>48.082857</td>\n",
              "      <td>48.084345</td>\n",
              "      <td>42.331041</td>\n",
              "    </tr>\n",
              "    <tr>\n",
              "      <th>51</th>\n",
              "      <td>119.982857</td>\n",
              "      <td>121.683801</td>\n",
              "      <td>115.930497</td>\n",
              "    </tr>\n",
              "    <tr>\n",
              "      <th>10</th>\n",
              "      <td>82.741509</td>\n",
              "      <td>81.221928</td>\n",
              "      <td>86.975232</td>\n",
              "    </tr>\n",
              "    <tr>\n",
              "      <th>152</th>\n",
              "      <td>151.897143</td>\n",
              "      <td>149.392207</td>\n",
              "      <td>155.145511</td>\n",
              "    </tr>\n",
              "    <tr>\n",
              "      <th>120</th>\n",
              "      <td>136.745143</td>\n",
              "      <td>143.919251</td>\n",
              "      <td>138.165946</td>\n",
              "    </tr>\n",
              "    <tr>\n",
              "      <th>65</th>\n",
              "      <td>119.815714</td>\n",
              "      <td>121.697543</td>\n",
              "      <td>115.944239</td>\n",
              "    </tr>\n",
              "    <tr>\n",
              "      <th>143</th>\n",
              "      <td>53.735714</td>\n",
              "      <td>56.721634</td>\n",
              "      <td>50.968330</td>\n",
              "    </tr>\n",
              "    <tr>\n",
              "      <th>189</th>\n",
              "      <td>11.044286</td>\n",
              "      <td>16.819011</td>\n",
              "      <td>11.065706</td>\n",
              "    </tr>\n",
              "    <tr>\n",
              "      <th>203</th>\n",
              "      <td>64.812857</td>\n",
              "      <td>63.904178</td>\n",
              "      <td>69.657483</td>\n",
              "    </tr>\n",
              "    <tr>\n",
              "      <th>96</th>\n",
              "      <td>77.654286</td>\n",
              "      <td>77.951014</td>\n",
              "      <td>72.197710</td>\n",
              "    </tr>\n",
              "    <tr>\n",
              "      <th>57</th>\n",
              "      <td>99.731486</td>\n",
              "      <td>96.383313</td>\n",
              "      <td>102.136617</td>\n",
              "    </tr>\n",
              "    <tr>\n",
              "      <th>192</th>\n",
              "      <td>3.902857</td>\n",
              "      <td>16.834919</td>\n",
              "      <td>11.081615</td>\n",
              "    </tr>\n",
              "    <tr>\n",
              "      <th>16</th>\n",
              "      <td>100.954772</td>\n",
              "      <td>99.106989</td>\n",
              "      <td>104.860294</td>\n",
              "    </tr>\n",
              "    <tr>\n",
              "      <th>74</th>\n",
              "      <td>102.772857</td>\n",
              "      <td>101.527232</td>\n",
              "      <td>107.280536</td>\n",
              "    </tr>\n",
              "    <tr>\n",
              "      <th>179</th>\n",
              "      <td>160.768571</td>\n",
              "      <td>163.222189</td>\n",
              "      <td>157.468885</td>\n",
              "    </tr>\n",
              "    <tr>\n",
              "      <th>131</th>\n",
              "      <td>65.247143</td>\n",
              "      <td>64.095465</td>\n",
              "      <td>69.848769</td>\n",
              "    </tr>\n",
              "    <tr>\n",
              "      <th>116</th>\n",
              "      <td>56.960000</td>\n",
              "      <td>57.899724</td>\n",
              "      <td>52.146420</td>\n",
              "    </tr>\n",
              "    <tr>\n",
              "      <th>155</th>\n",
              "      <td>83.661429</td>\n",
              "      <td>81.573539</td>\n",
              "      <td>87.326843</td>\n",
              "    </tr>\n",
              "    <tr>\n",
              "      <th>202</th>\n",
              "      <td>53.792857</td>\n",
              "      <td>56.948828</td>\n",
              "      <td>51.195524</td>\n",
              "    </tr>\n",
              "    <tr>\n",
              "      <th>50</th>\n",
              "      <td>122.645714</td>\n",
              "      <td>122.142853</td>\n",
              "      <td>127.896158</td>\n",
              "    </tr>\n",
              "    <tr>\n",
              "      <th>71</th>\n",
              "      <td>123.418571</td>\n",
              "      <td>122.173488</td>\n",
              "      <td>127.926792</td>\n",
              "    </tr>\n",
              "    <tr>\n",
              "      <th>8</th>\n",
              "      <td>76.670421</td>\n",
              "      <td>77.193249</td>\n",
              "      <td>71.439945</td>\n",
              "    </tr>\n",
              "    <tr>\n",
              "      <th>144</th>\n",
              "      <td>72.491429</td>\n",
              "      <td>73.070456</td>\n",
              "      <td>67.317151</td>\n",
              "    </tr>\n",
              "    <tr>\n",
              "      <th>139</th>\n",
              "      <td>30.762857</td>\n",
              "      <td>28.129729</td>\n",
              "      <td>33.883034</td>\n",
              "    </tr>\n",
              "    <tr>\n",
              "      <th>123</th>\n",
              "      <td>130.304286</td>\n",
              "      <td>125.275891</td>\n",
              "      <td>131.029195</td>\n",
              "    </tr>\n",
              "    <tr>\n",
              "      <th>107</th>\n",
              "      <td>186.177857</td>\n",
              "      <td>167.356162</td>\n",
              "      <td>173.109467</td>\n",
              "    </tr>\n",
              "    <tr>\n",
              "      <th>53</th>\n",
              "      <td>80.316892</td>\n",
              "      <td>80.107265</td>\n",
              "      <td>85.860570</td>\n",
              "    </tr>\n",
              "    <tr>\n",
              "      <th>119</th>\n",
              "      <td>190.302857</td>\n",
              "      <td>167.428288</td>\n",
              "      <td>173.181592</td>\n",
              "    </tr>\n",
              "    <tr>\n",
              "      <th>176</th>\n",
              "      <td>64.547143</td>\n",
              "      <td>63.454312</td>\n",
              "      <td>69.207616</td>\n",
              "    </tr>\n",
              "    <tr>\n",
              "      <th>172</th>\n",
              "      <td>18.149048</td>\n",
              "      <td>16.897377</td>\n",
              "      <td>22.650682</td>\n",
              "    </tr>\n",
              "  </tbody>\n",
              "</table>\n",
              "</div>\n",
              "      <button class=\"colab-df-convert\" onclick=\"convertToInteractive('df-ec531f90-c516-4d10-80c4-83cb20e8af6d')\"\n",
              "              title=\"Convert this dataframe to an interactive table.\"\n",
              "              style=\"display:none;\">\n",
              "        \n",
              "  <svg xmlns=\"http://www.w3.org/2000/svg\" height=\"24px\"viewBox=\"0 0 24 24\"\n",
              "       width=\"24px\">\n",
              "    <path d=\"M0 0h24v24H0V0z\" fill=\"none\"/>\n",
              "    <path d=\"M18.56 5.44l.94 2.06.94-2.06 2.06-.94-2.06-.94-.94-2.06-.94 2.06-2.06.94zm-11 1L8.5 8.5l.94-2.06 2.06-.94-2.06-.94L8.5 2.5l-.94 2.06-2.06.94zm10 10l.94 2.06.94-2.06 2.06-.94-2.06-.94-.94-2.06-.94 2.06-2.06.94z\"/><path d=\"M17.41 7.96l-1.37-1.37c-.4-.4-.92-.59-1.43-.59-.52 0-1.04.2-1.43.59L10.3 9.45l-7.72 7.72c-.78.78-.78 2.05 0 2.83L4 21.41c.39.39.9.59 1.41.59.51 0 1.02-.2 1.41-.59l7.78-7.78 2.81-2.81c.8-.78.8-2.07 0-2.86zM5.41 20L4 18.59l7.72-7.72 1.47 1.35L5.41 20z\"/>\n",
              "  </svg>\n",
              "      </button>\n",
              "      \n",
              "  <style>\n",
              "    .colab-df-container {\n",
              "      display:flex;\n",
              "      flex-wrap:wrap;\n",
              "      gap: 12px;\n",
              "    }\n",
              "\n",
              "    .colab-df-convert {\n",
              "      background-color: #E8F0FE;\n",
              "      border: none;\n",
              "      border-radius: 50%;\n",
              "      cursor: pointer;\n",
              "      display: none;\n",
              "      fill: #1967D2;\n",
              "      height: 32px;\n",
              "      padding: 0 0 0 0;\n",
              "      width: 32px;\n",
              "    }\n",
              "\n",
              "    .colab-df-convert:hover {\n",
              "      background-color: #E2EBFA;\n",
              "      box-shadow: 0px 1px 2px rgba(60, 64, 67, 0.3), 0px 1px 3px 1px rgba(60, 64, 67, 0.15);\n",
              "      fill: #174EA6;\n",
              "    }\n",
              "\n",
              "    [theme=dark] .colab-df-convert {\n",
              "      background-color: #3B4455;\n",
              "      fill: #D2E3FC;\n",
              "    }\n",
              "\n",
              "    [theme=dark] .colab-df-convert:hover {\n",
              "      background-color: #434B5C;\n",
              "      box-shadow: 0px 1px 3px 1px rgba(0, 0, 0, 0.15);\n",
              "      filter: drop-shadow(0px 1px 2px rgba(0, 0, 0, 0.3));\n",
              "      fill: #FFFFFF;\n",
              "    }\n",
              "  </style>\n",
              "\n",
              "      <script>\n",
              "        const buttonEl =\n",
              "          document.querySelector('#df-ec531f90-c516-4d10-80c4-83cb20e8af6d button.colab-df-convert');\n",
              "        buttonEl.style.display =\n",
              "          google.colab.kernel.accessAllowed ? 'block' : 'none';\n",
              "\n",
              "        async function convertToInteractive(key) {\n",
              "          const element = document.querySelector('#df-ec531f90-c516-4d10-80c4-83cb20e8af6d');\n",
              "          const dataTable =\n",
              "            await google.colab.kernel.invokeFunction('convertToInteractive',\n",
              "                                                     [key], {});\n",
              "          if (!dataTable) return;\n",
              "\n",
              "          const docLinkHtml = 'Like what you see? Visit the ' +\n",
              "            '<a target=\"_blank\" href=https://colab.research.google.com/notebooks/data_table.ipynb>data table notebook</a>'\n",
              "            + ' to learn more about interactive tables.';\n",
              "          element.innerHTML = '';\n",
              "          dataTable['output_type'] = 'display_data';\n",
              "          await google.colab.output.renderOutput(dataTable, element);\n",
              "          const docLink = document.createElement('div');\n",
              "          docLink.innerHTML = docLinkHtml;\n",
              "          element.appendChild(docLink);\n",
              "        }\n",
              "      </script>\n",
              "    </div>\n",
              "  </div>\n",
              "  "
            ],
            "text/plain": [
              "           test        pred   Corrected\n",
              "167   34.210000   37.763051   32.009747\n",
              "56    94.877838   94.944874   89.191570\n",
              "188    8.938571   16.856717   11.103413\n",
              "48   170.718571  167.733539  173.486843\n",
              "92    60.292857   62.028023   56.274719\n",
              "2     47.072540   46.906945   52.660249\n",
              "14    94.883684   94.951752   89.198447\n",
              "126   87.348571   88.220937   82.467633\n",
              "104   39.109412   39.089194   44.842498\n",
              "28   137.381298  145.843580  140.090276\n",
              "162   51.142857   51.058847   56.812152\n",
              "80    44.328571   44.345466   38.592162\n",
              "145   48.082857   48.084345   42.331041\n",
              "51   119.982857  121.683801  115.930497\n",
              "10    82.741509   81.221928   86.975232\n",
              "152  151.897143  149.392207  155.145511\n",
              "120  136.745143  143.919251  138.165946\n",
              "65   119.815714  121.697543  115.944239\n",
              "143   53.735714   56.721634   50.968330\n",
              "189   11.044286   16.819011   11.065706\n",
              "203   64.812857   63.904178   69.657483\n",
              "96    77.654286   77.951014   72.197710\n",
              "57    99.731486   96.383313  102.136617\n",
              "192    3.902857   16.834919   11.081615\n",
              "16   100.954772   99.106989  104.860294\n",
              "74   102.772857  101.527232  107.280536\n",
              "179  160.768571  163.222189  157.468885\n",
              "131   65.247143   64.095465   69.848769\n",
              "116   56.960000   57.899724   52.146420\n",
              "155   83.661429   81.573539   87.326843\n",
              "202   53.792857   56.948828   51.195524\n",
              "50   122.645714  122.142853  127.896158\n",
              "71   123.418571  122.173488  127.926792\n",
              "8     76.670421   77.193249   71.439945\n",
              "144   72.491429   73.070456   67.317151\n",
              "139   30.762857   28.129729   33.883034\n",
              "123  130.304286  125.275891  131.029195\n",
              "107  186.177857  167.356162  173.109467\n",
              "53    80.316892   80.107265   85.860570\n",
              "119  190.302857  167.428288  173.181592\n",
              "176   64.547143   63.454312   69.207616\n",
              "172   18.149048   16.897377   22.650682"
            ]
          },
          "metadata": {},
          "execution_count": 576
        }
      ]
    },
    {
      "cell_type": "code",
      "metadata": {
        "colab": {
          "base_uri": "https://localhost:8080/",
          "height": 53
        },
        "id": "aNJ51iIzHuG2",
        "outputId": "061abc2a-b6fc-45f2-d40a-66c53da1eb80"
      },
      "source": [
        "\"\"\"testcase['test'].plot(legend=True, label='Actual PM2.5', figsize=(10,6))\n",
        "testcase['pred'].plot(legend=True, label='Predicted PM2.5')\n",
        "testcase[\"Corrected\"].plot(legend=True, label='Corrected PM2.5')\"\"\""
      ],
      "execution_count": 577,
      "outputs": [
        {
          "output_type": "execute_result",
          "data": {
            "application/vnd.google.colaboratory.intrinsic+json": {
              "type": "string"
            },
            "text/plain": [
              "'testcase[\\'test\\'].plot(legend=True, label=\\'Actual PM2.5\\', figsize=(10,6))\\ntestcase[\\'pred\\'].plot(legend=True, label=\\'Predicted PM2.5\\')\\ntestcase[\"Corrected\"].plot(legend=True, label=\\'Corrected PM2.5\\')'"
            ]
          },
          "metadata": {},
          "execution_count": 577
        }
      ]
    },
    {
      "cell_type": "code",
      "metadata": {
        "scrolled": true,
        "colab": {
          "base_uri": "https://localhost:8080/"
        },
        "id": "0BRLDmfJHuG2",
        "outputId": "bfa51fe2-79b4-4f38-e7a1-c4883bff9907"
      },
      "source": [
        "r2 = metrics.r2_score(testcase[\"Corrected\"],testcase['test'])\n",
        "r2"
      ],
      "execution_count": 578,
      "outputs": [
        {
          "output_type": "execute_result",
          "data": {
            "text/plain": [
              "0.9858546068480766"
            ]
          },
          "metadata": {},
          "execution_count": 578
        }
      ]
    },
    {
      "cell_type": "code",
      "metadata": {
        "id": "6219gTjvHuG2"
      },
      "source": [
        "test2020=pd.DataFrame()"
      ],
      "execution_count": 579,
      "outputs": []
    },
    {
      "cell_type": "code",
      "metadata": {
        "id": "6ymfvMvfHuG3"
      },
      "source": [
        "test2020['test']=test['PM2.5']\n",
        "test2020['pred']=X['pred']"
      ],
      "execution_count": 580,
      "outputs": []
    },
    {
      "cell_type": "code",
      "metadata": {
        "id": "MLHKIMDoHuG3"
      },
      "source": [
        "test2020.index=test.index"
      ],
      "execution_count": 581,
      "outputs": []
    },
    {
      "cell_type": "code",
      "metadata": {
        "id": "LvsmPACwHuG3"
      },
      "source": [
        "test2020[\"Corrected\"] = np.where(test2020[\"pred\"]<test2020[\"test\"],test2020[\"pred\"]+rmsetest ,\n",
        "                   np.where(test2020[\"pred\"]>test2020[\"test\"], test2020[\"pred\"]-rmsetest,\n",
        "                            test2020[\"pred\"]))"
      ],
      "execution_count": 582,
      "outputs": []
    },
    {
      "cell_type": "code",
      "source": [
        "test2020"
      ],
      "metadata": {
        "colab": {
          "base_uri": "https://localhost:8080/",
          "height": 927
        },
        "id": "yex6WBHwtqNP",
        "outputId": "b295d670-aede-4489-b279-9e76ba5acb2e"
      },
      "execution_count": 583,
      "outputs": [
        {
          "output_type": "execute_result",
          "data": {
            "text/html": [
              "\n",
              "  <div id=\"df-7eb3eb79-af6b-4e69-89d6-fd09e9123fda\">\n",
              "    <div class=\"colab-df-container\">\n",
              "      <div>\n",
              "<style scoped>\n",
              "    .dataframe tbody tr th:only-of-type {\n",
              "        vertical-align: middle;\n",
              "    }\n",
              "\n",
              "    .dataframe tbody tr th {\n",
              "        vertical-align: top;\n",
              "    }\n",
              "\n",
              "    .dataframe thead th {\n",
              "        text-align: right;\n",
              "    }\n",
              "</style>\n",
              "<table border=\"1\" class=\"dataframe\">\n",
              "  <thead>\n",
              "    <tr style=\"text-align: right;\">\n",
              "      <th></th>\n",
              "      <th>test</th>\n",
              "      <th>pred</th>\n",
              "      <th>Corrected</th>\n",
              "    </tr>\n",
              "    <tr>\n",
              "      <th>From Date</th>\n",
              "      <th></th>\n",
              "      <th></th>\n",
              "      <th></th>\n",
              "    </tr>\n",
              "  </thead>\n",
              "  <tbody>\n",
              "    <tr>\n",
              "      <th>2020-05-31</th>\n",
              "      <td>61.962857</td>\n",
              "      <td>48.087889</td>\n",
              "      <td>53.841193</td>\n",
              "    </tr>\n",
              "    <tr>\n",
              "      <th>2020-06-07</th>\n",
              "      <td>88.582857</td>\n",
              "      <td>45.297387</td>\n",
              "      <td>51.050691</td>\n",
              "    </tr>\n",
              "    <tr>\n",
              "      <th>2020-06-14</th>\n",
              "      <td>103.550000</td>\n",
              "      <td>46.702443</td>\n",
              "      <td>52.455747</td>\n",
              "    </tr>\n",
              "    <tr>\n",
              "      <th>2020-06-21</th>\n",
              "      <td>55.234286</td>\n",
              "      <td>44.549185</td>\n",
              "      <td>50.302489</td>\n",
              "    </tr>\n",
              "    <tr>\n",
              "      <th>2020-06-28</th>\n",
              "      <td>53.028571</td>\n",
              "      <td>40.683377</td>\n",
              "      <td>46.436682</td>\n",
              "    </tr>\n",
              "    <tr>\n",
              "      <th>2020-07-05</th>\n",
              "      <td>69.645714</td>\n",
              "      <td>45.353587</td>\n",
              "      <td>51.106891</td>\n",
              "    </tr>\n",
              "    <tr>\n",
              "      <th>2020-07-12</th>\n",
              "      <td>45.554286</td>\n",
              "      <td>38.801081</td>\n",
              "      <td>44.554385</td>\n",
              "    </tr>\n",
              "    <tr>\n",
              "      <th>2020-07-19</th>\n",
              "      <td>58.058571</td>\n",
              "      <td>45.143030</td>\n",
              "      <td>50.896334</td>\n",
              "    </tr>\n",
              "    <tr>\n",
              "      <th>2020-07-26</th>\n",
              "      <td>50.441429</td>\n",
              "      <td>46.629584</td>\n",
              "      <td>52.382888</td>\n",
              "    </tr>\n",
              "    <tr>\n",
              "      <th>2020-08-02</th>\n",
              "      <td>41.875714</td>\n",
              "      <td>57.023649</td>\n",
              "      <td>51.270345</td>\n",
              "    </tr>\n",
              "    <tr>\n",
              "      <th>2020-08-09</th>\n",
              "      <td>49.861429</td>\n",
              "      <td>53.078186</td>\n",
              "      <td>47.324882</td>\n",
              "    </tr>\n",
              "    <tr>\n",
              "      <th>2020-08-16</th>\n",
              "      <td>43.560000</td>\n",
              "      <td>62.578652</td>\n",
              "      <td>56.825348</td>\n",
              "    </tr>\n",
              "    <tr>\n",
              "      <th>2020-08-23</th>\n",
              "      <td>34.530000</td>\n",
              "      <td>62.790038</td>\n",
              "      <td>57.036734</td>\n",
              "    </tr>\n",
              "    <tr>\n",
              "      <th>2020-08-30</th>\n",
              "      <td>20.857143</td>\n",
              "      <td>64.574553</td>\n",
              "      <td>58.821249</td>\n",
              "    </tr>\n",
              "    <tr>\n",
              "      <th>2020-09-06</th>\n",
              "      <td>25.258571</td>\n",
              "      <td>42.033023</td>\n",
              "      <td>36.279719</td>\n",
              "    </tr>\n",
              "    <tr>\n",
              "      <th>2020-09-13</th>\n",
              "      <td>35.202857</td>\n",
              "      <td>28.567279</td>\n",
              "      <td>34.320584</td>\n",
              "    </tr>\n",
              "    <tr>\n",
              "      <th>2020-09-20</th>\n",
              "      <td>62.287143</td>\n",
              "      <td>34.775872</td>\n",
              "      <td>40.529177</td>\n",
              "    </tr>\n",
              "    <tr>\n",
              "      <th>2020-09-27</th>\n",
              "      <td>53.315714</td>\n",
              "      <td>37.791426</td>\n",
              "      <td>43.544730</td>\n",
              "    </tr>\n",
              "    <tr>\n",
              "      <th>2020-10-04</th>\n",
              "      <td>71.125714</td>\n",
              "      <td>28.644803</td>\n",
              "      <td>34.398107</td>\n",
              "    </tr>\n",
              "    <tr>\n",
              "      <th>2020-10-11</th>\n",
              "      <td>92.315714</td>\n",
              "      <td>38.228068</td>\n",
              "      <td>43.981373</td>\n",
              "    </tr>\n",
              "    <tr>\n",
              "      <th>2020-10-18</th>\n",
              "      <td>153.001429</td>\n",
              "      <td>42.503090</td>\n",
              "      <td>48.256395</td>\n",
              "    </tr>\n",
              "    <tr>\n",
              "      <th>2020-10-25</th>\n",
              "      <td>151.672857</td>\n",
              "      <td>50.244428</td>\n",
              "      <td>55.997732</td>\n",
              "    </tr>\n",
              "    <tr>\n",
              "      <th>2020-11-01</th>\n",
              "      <td>203.598571</td>\n",
              "      <td>47.992225</td>\n",
              "      <td>53.745529</td>\n",
              "    </tr>\n",
              "    <tr>\n",
              "      <th>2020-11-08</th>\n",
              "      <td>307.221429</td>\n",
              "      <td>83.835207</td>\n",
              "      <td>89.588511</td>\n",
              "    </tr>\n",
              "    <tr>\n",
              "      <th>2020-11-15</th>\n",
              "      <td>534.317857</td>\n",
              "      <td>81.682851</td>\n",
              "      <td>87.436155</td>\n",
              "    </tr>\n",
              "    <tr>\n",
              "      <th>2020-11-22</th>\n",
              "      <td>129.605714</td>\n",
              "      <td>39.310244</td>\n",
              "      <td>45.063548</td>\n",
              "    </tr>\n",
              "    <tr>\n",
              "      <th>2020-11-29</th>\n",
              "      <td>187.304286</td>\n",
              "      <td>51.976984</td>\n",
              "      <td>57.730288</td>\n",
              "    </tr>\n",
              "  </tbody>\n",
              "</table>\n",
              "</div>\n",
              "      <button class=\"colab-df-convert\" onclick=\"convertToInteractive('df-7eb3eb79-af6b-4e69-89d6-fd09e9123fda')\"\n",
              "              title=\"Convert this dataframe to an interactive table.\"\n",
              "              style=\"display:none;\">\n",
              "        \n",
              "  <svg xmlns=\"http://www.w3.org/2000/svg\" height=\"24px\"viewBox=\"0 0 24 24\"\n",
              "       width=\"24px\">\n",
              "    <path d=\"M0 0h24v24H0V0z\" fill=\"none\"/>\n",
              "    <path d=\"M18.56 5.44l.94 2.06.94-2.06 2.06-.94-2.06-.94-.94-2.06-.94 2.06-2.06.94zm-11 1L8.5 8.5l.94-2.06 2.06-.94-2.06-.94L8.5 2.5l-.94 2.06-2.06.94zm10 10l.94 2.06.94-2.06 2.06-.94-2.06-.94-.94-2.06-.94 2.06-2.06.94z\"/><path d=\"M17.41 7.96l-1.37-1.37c-.4-.4-.92-.59-1.43-.59-.52 0-1.04.2-1.43.59L10.3 9.45l-7.72 7.72c-.78.78-.78 2.05 0 2.83L4 21.41c.39.39.9.59 1.41.59.51 0 1.02-.2 1.41-.59l7.78-7.78 2.81-2.81c.8-.78.8-2.07 0-2.86zM5.41 20L4 18.59l7.72-7.72 1.47 1.35L5.41 20z\"/>\n",
              "  </svg>\n",
              "      </button>\n",
              "      \n",
              "  <style>\n",
              "    .colab-df-container {\n",
              "      display:flex;\n",
              "      flex-wrap:wrap;\n",
              "      gap: 12px;\n",
              "    }\n",
              "\n",
              "    .colab-df-convert {\n",
              "      background-color: #E8F0FE;\n",
              "      border: none;\n",
              "      border-radius: 50%;\n",
              "      cursor: pointer;\n",
              "      display: none;\n",
              "      fill: #1967D2;\n",
              "      height: 32px;\n",
              "      padding: 0 0 0 0;\n",
              "      width: 32px;\n",
              "    }\n",
              "\n",
              "    .colab-df-convert:hover {\n",
              "      background-color: #E2EBFA;\n",
              "      box-shadow: 0px 1px 2px rgba(60, 64, 67, 0.3), 0px 1px 3px 1px rgba(60, 64, 67, 0.15);\n",
              "      fill: #174EA6;\n",
              "    }\n",
              "\n",
              "    [theme=dark] .colab-df-convert {\n",
              "      background-color: #3B4455;\n",
              "      fill: #D2E3FC;\n",
              "    }\n",
              "\n",
              "    [theme=dark] .colab-df-convert:hover {\n",
              "      background-color: #434B5C;\n",
              "      box-shadow: 0px 1px 3px 1px rgba(0, 0, 0, 0.15);\n",
              "      filter: drop-shadow(0px 1px 2px rgba(0, 0, 0, 0.3));\n",
              "      fill: #FFFFFF;\n",
              "    }\n",
              "  </style>\n",
              "\n",
              "      <script>\n",
              "        const buttonEl =\n",
              "          document.querySelector('#df-7eb3eb79-af6b-4e69-89d6-fd09e9123fda button.colab-df-convert');\n",
              "        buttonEl.style.display =\n",
              "          google.colab.kernel.accessAllowed ? 'block' : 'none';\n",
              "\n",
              "        async function convertToInteractive(key) {\n",
              "          const element = document.querySelector('#df-7eb3eb79-af6b-4e69-89d6-fd09e9123fda');\n",
              "          const dataTable =\n",
              "            await google.colab.kernel.invokeFunction('convertToInteractive',\n",
              "                                                     [key], {});\n",
              "          if (!dataTable) return;\n",
              "\n",
              "          const docLinkHtml = 'Like what you see? Visit the ' +\n",
              "            '<a target=\"_blank\" href=https://colab.research.google.com/notebooks/data_table.ipynb>data table notebook</a>'\n",
              "            + ' to learn more about interactive tables.';\n",
              "          element.innerHTML = '';\n",
              "          dataTable['output_type'] = 'display_data';\n",
              "          await google.colab.output.renderOutput(dataTable, element);\n",
              "          const docLink = document.createElement('div');\n",
              "          docLink.innerHTML = docLinkHtml;\n",
              "          element.appendChild(docLink);\n",
              "        }\n",
              "      </script>\n",
              "    </div>\n",
              "  </div>\n",
              "  "
            ],
            "text/plain": [
              "                  test       pred  Corrected\n",
              "From Date                                   \n",
              "2020-05-31   61.962857  48.087889  53.841193\n",
              "2020-06-07   88.582857  45.297387  51.050691\n",
              "2020-06-14  103.550000  46.702443  52.455747\n",
              "2020-06-21   55.234286  44.549185  50.302489\n",
              "2020-06-28   53.028571  40.683377  46.436682\n",
              "2020-07-05   69.645714  45.353587  51.106891\n",
              "2020-07-12   45.554286  38.801081  44.554385\n",
              "2020-07-19   58.058571  45.143030  50.896334\n",
              "2020-07-26   50.441429  46.629584  52.382888\n",
              "2020-08-02   41.875714  57.023649  51.270345\n",
              "2020-08-09   49.861429  53.078186  47.324882\n",
              "2020-08-16   43.560000  62.578652  56.825348\n",
              "2020-08-23   34.530000  62.790038  57.036734\n",
              "2020-08-30   20.857143  64.574553  58.821249\n",
              "2020-09-06   25.258571  42.033023  36.279719\n",
              "2020-09-13   35.202857  28.567279  34.320584\n",
              "2020-09-20   62.287143  34.775872  40.529177\n",
              "2020-09-27   53.315714  37.791426  43.544730\n",
              "2020-10-04   71.125714  28.644803  34.398107\n",
              "2020-10-11   92.315714  38.228068  43.981373\n",
              "2020-10-18  153.001429  42.503090  48.256395\n",
              "2020-10-25  151.672857  50.244428  55.997732\n",
              "2020-11-01  203.598571  47.992225  53.745529\n",
              "2020-11-08  307.221429  83.835207  89.588511\n",
              "2020-11-15  534.317857  81.682851  87.436155\n",
              "2020-11-22  129.605714  39.310244  45.063548\n",
              "2020-11-29  187.304286  51.976984  57.730288"
            ]
          },
          "metadata": {},
          "execution_count": 583
        }
      ]
    },
    {
      "cell_type": "code",
      "source": [
        "test2020[\"Corrected\"].describe()"
      ],
      "metadata": {
        "colab": {
          "base_uri": "https://localhost:8080/"
        },
        "id": "gse31oGdtrgJ",
        "outputId": "562f53c7-cec1-42b4-c10d-9f4e074d6934"
      },
      "execution_count": 584,
      "outputs": [
        {
          "output_type": "execute_result",
          "data": {
            "text/plain": [
              "count    27.000000\n",
              "mean     51.673248\n",
              "std      12.603595\n",
              "min      34.320584\n",
              "25%      44.808967\n",
              "50%      51.050691\n",
              "75%      54.919463\n",
              "max      89.588511\n",
              "Name: Corrected, dtype: float64"
            ]
          },
          "metadata": {},
          "execution_count": 584
        }
      ]
    },
    {
      "cell_type": "code",
      "source": [
        "test2020[\"Corrected\"].min()"
      ],
      "metadata": {
        "colab": {
          "base_uri": "https://localhost:8080/",
          "height": 0
        },
        "id": "9ZeuWQ0IETcn",
        "outputId": "2fc8de87-b774-442a-fd09-9c2a3b72f71f"
      },
      "execution_count": 275,
      "outputs": [
        {
          "output_type": "execute_result",
          "data": {
            "text/plain": [
              "17.791416020923368"
            ]
          },
          "metadata": {},
          "execution_count": 275
        }
      ]
    },
    {
      "cell_type": "code",
      "source": [
        "test2020[\"Corrected\"].max()"
      ],
      "metadata": {
        "colab": {
          "base_uri": "https://localhost:8080/",
          "height": 0
        },
        "id": "dDKX-lxfEYOt",
        "outputId": "2eef3f0a-de61-4c80-8300-77b9374269ec"
      },
      "execution_count": 276,
      "outputs": [
        {
          "output_type": "execute_result",
          "data": {
            "text/plain": [
              "268.68336964492545"
            ]
          },
          "metadata": {},
          "execution_count": 276
        }
      ]
    },
    {
      "cell_type": "code",
      "source": [
        "test2020[\"Corrected\"].mean()"
      ],
      "metadata": {
        "colab": {
          "base_uri": "https://localhost:8080/",
          "height": 0
        },
        "id": "GDv6lYu2EgR3",
        "outputId": "5429d662-a556-40bf-af6b-9ed4cd1630bb"
      },
      "execution_count": 115,
      "outputs": [
        {
          "output_type": "execute_result",
          "data": {
            "text/plain": [
              "136.54028529672857"
            ]
          },
          "metadata": {},
          "execution_count": 115
        }
      ]
    },
    {
      "cell_type": "code",
      "metadata": {
        "colab": {
          "base_uri": "https://localhost:8080/",
          "height": 446
        },
        "id": "2bdlMsGpHuG4",
        "outputId": "7ebb1827-86c2-4131-bcc5-cb1406ae4b78"
      },
      "source": [
        "test2020['test'].plot(legend=True, label='Actual PM2.5 2020', figsize=(10,6))\n",
        "test2020['pred'].plot(legend=True, label='Predicted PM2.5 2020')\n",
        "test2020[\"Corrected\"].plot(legend=True, label='Corrected PM2.5 2020')"
      ],
      "execution_count": 216,
      "outputs": [
        {
          "output_type": "execute_result",
          "data": {
            "text/plain": [
              "<matplotlib.axes._subplots.AxesSubplot at 0x7f0223c67310>"
            ]
          },
          "metadata": {},
          "execution_count": 216
        },
        {
          "output_type": "display_data",
          "data": {
            "image/png": "[encoded data removed]",
            "text/plain": [
              "<Figure size 720x432 with 1 Axes>"
            ]
          },
          "metadata": {}
        }
      ]
    },
    {
      "cell_type": "code",
      "metadata": {
        "colab": {
          "base_uri": "https://localhost:8080/",
          "height": 0
        },
        "id": "au_WJM4mHuG4",
        "outputId": "4ee00479-0fe1-471f-a11e-3d3d270e6068"
      },
      "source": [
        "r2020 = metrics.r2_score(test2020[\"Corrected\"],test2020['test'])\n",
        "r2020"
      ],
      "execution_count": 109,
      "outputs": [
        {
          "output_type": "execute_result",
          "data": {
            "text/plain": [
              "0.9209768140970864"
            ]
          },
          "metadata": {},
          "execution_count": 109
        }
      ]
    },
    {
      "cell_type": "code",
      "metadata": {
        "id": "oiC9_FT6HuG4",
        "colab": {
          "base_uri": "https://localhost:8080/",
          "height": 165
        },
        "outputId": "0a240cf1-066f-42f9-efc0-b09cd2bfefbd"
      },
      "source": [
        "test2020[corrected].median() "
      ],
      "execution_count": 111,
      "outputs": [
        {
          "output_type": "error",
          "ename": "NameError",
          "evalue": "ignored",
          "traceback": [
            "\u001b[0;31m---------------------------------------------------------------------------\u001b[0m",
            "\u001b[0;31mNameError\u001b[0m                                 Traceback (most recent call last)",
            "\u001b[0;32m<ipython-input-111-b200d307ae2f>\u001b[0m in \u001b[0;36m<module>\u001b[0;34m()\u001b[0m\n\u001b[0;32m----> 1\u001b[0;31m \u001b[0mtest2020\u001b[0m\u001b[0;34m[\u001b[0m\u001b[0mcorrected\u001b[0m\u001b[0;34m]\u001b[0m\u001b[0;34m.\u001b[0m\u001b[0mmedian\u001b[0m\u001b[0;34m(\u001b[0m\u001b[0;34m)\u001b[0m\u001b[0;34m\u001b[0m\u001b[0;34m\u001b[0m\u001b[0m\n\u001b[0m",
            "\u001b[0;31mNameError\u001b[0m: name 'corrected' is not defined"
          ]
        }
      ]
    }
  ]
}