{
  "nbformat": 4,
  "nbformat_minor": 0,
  "metadata": {
    "kernelspec": {
      "display_name": "Python 3",
      "language": "python",
      "name": "python3"
    },
    "language_info": {
      "codemirror_mode": {
        "name": "ipython",
        "version": 3
      },
      "file_extension": ".py",
      "mimetype": "text/x-python",
      "name": "python",
      "nbconvert_exporter": "python",
      "pygments_lexer": "ipython3",
      "version": "3.8.5"
    },
    "colab": {
      "name": "PM2_5 (1).ipynb",
      "provenance": [],
      "collapsed_sections": []
    }
  },
  "cells": [
    {
      "cell_type": "code",
      "metadata": {
        "id": "XzDP0YmfHuGl"
      },
      "source": [
        "import numpy as np\n",
        "import matplotlib.pyplot as plt\n",
        "import seaborn as sns\n",
        "sns.set()\n",
        "import warnings\n",
        "warnings.filterwarnings(action='ignore')\n",
        "from statsmodels.tsa.seasonal import seasonal_decompose\n",
        "import statsmodels.formula.api as formula\n",
        "from statsmodels.stats.outliers_influence import variance_inflation_factor\n",
        "import statsmodels as sm\n",
        "from sklearn import preprocessing\n",
        "from sklearn.model_selection import train_test_split,GridSearchCV,RandomizedSearchCV\n",
        "from sklearn.linear_model import LinearRegression,Lasso,Ridge\n",
        "#from sklearn.externals import joblib\n",
        "from sklearn.metrics import r2_score,mean_squared_error\n",
        "from sklearn.ensemble import RandomForestRegressor,GradientBoostingRegressor\n",
        "from sklearn.tree import DecisionTreeRegressor\n",
        "from IPython.display import display"
      ],
      "execution_count": 63,
      "outputs": []
    },
    {
      "cell_type": "code",
      "source": [
        "import pandas as pd\n",
        "from sklearn import preprocessing \n",
        "import matplotlib.pyplot as plt\n",
        "import seaborn as sns\n"
      ],
      "metadata": {
        "id": "GcmcxsQk-2Zd"
      },
      "execution_count": 64,
      "outputs": []
    },
    {
      "cell_type": "code",
      "source": [
        "from google.colab import files\n",
        "uploaded = files.upload()"
      ],
      "metadata": {
        "colab": {
          "resources": {
            "http://localhost:8080/nbextensions/google.colab/files.js": {
              "data": "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",
              "ok": true,
              "headers": [
                [
                  "content-type",
                  "application/javascript"
                ]
              ],
              "status": 200,
              "status_text": ""
            }
          },
          "base_uri": "https://localhost:8080/",
          "height": 74
        },
        "id": "YDxlAW7a_cJ3",
        "outputId": "70e3b797-4eae-48a2-bc05-96b72a33082b"
      },
      "execution_count": 65,
      "outputs": [
        {
          "output_type": "display_data",
          "data": {
            "text/html": [
              "\n",
              "     <input type=\"file\" id=\"files-dc7a8691-adb3-4d8e-aeed-322adf6e1dd0\" name=\"files[]\" multiple disabled\n",
              "        style=\"border:none\" />\n",
              "     <output id=\"result-dc7a8691-adb3-4d8e-aeed-322adf6e1dd0\">\n",
              "      Upload widget is only available when the cell has been executed in the\n",
              "      current browser session. Please rerun this cell to enable.\n",
              "      </output>\n",
              "      <script src=\"/nbextensions/google.colab/files.js\"></script> "
            ],
            "text/plain": [
              "<IPython.core.display.HTML object>"
            ]
          },
          "metadata": {}
        },
        {
          "output_type": "stream",
          "name": "stdout",
          "text": [
            "Saving weeklycrct.xlsx to weeklycrct (1).xlsx\n"
          ]
        }
      ]
    },
    {
      "cell_type": "code",
      "source": [
        "data = pd.read_excel ('weeklycrct.xlsx')\n"
      ],
      "metadata": {
        "id": "xv8zwEjN_iaP"
      },
      "execution_count": 66,
      "outputs": []
    },
    {
      "cell_type": "code",
      "source": [
        "data.isnull().sum(axis = 0)\n"
      ],
      "metadata": {
        "colab": {
          "base_uri": "https://localhost:8080/",
          "height": 0
        },
        "id": "MVhcR_aaCdaE",
        "outputId": "5da577b2-11fd-4352-e2a7-f958f95709f3"
      },
      "execution_count": 67,
      "outputs": [
        {
          "output_type": "execute_result",
          "data": {
            "text/plain": [
              "From Date    0\n",
              "PM2.5        0\n",
              "NO           0\n",
              "NO2          0\n",
              "NOx          0\n",
              "NH3          0\n",
              "SO2          0\n",
              "Ozone        0\n",
              "PM2.5y1      2\n",
              "NOy1         2\n",
              "NO2y1        2\n",
              "NOxy1        2\n",
              "NH3y1        2\n",
              "SO2y1        2\n",
              "Ozoney1      2\n",
              "PM2.5y2      2\n",
              "NOy2         2\n",
              "NO2y2        2\n",
              "NOxy2        2\n",
              "NH3y2        2\n",
              "SO2y2        2\n",
              "Ozoney2      2\n",
              "PM2.5y3      1\n",
              "NOy3         1\n",
              "NO2y3        1\n",
              "NOxy3        1\n",
              "NH3y3        1\n",
              "SO2y3        1\n",
              "Ozoney3      1\n",
              "dtype: int64"
            ]
          },
          "metadata": {},
          "execution_count": 67
        }
      ]
    },
    {
      "cell_type": "code",
      "source": [
        "data = data.fillna(data.median())\n"
      ],
      "metadata": {
        "id": "Us3R68lICdbs"
      },
      "execution_count": 68,
      "outputs": []
    },
    {
      "cell_type": "code",
      "source": [
        "data.isnull().sum(axis = 0)\n"
      ],
      "metadata": {
        "colab": {
          "base_uri": "https://localhost:8080/",
          "height": 0
        },
        "id": "K8lKcFiOC0Xz",
        "outputId": "74f9d697-268f-4294-d2c9-90e41bd418aa"
      },
      "execution_count": 69,
      "outputs": [
        {
          "output_type": "execute_result",
          "data": {
            "text/plain": [
              "From Date    0\n",
              "PM2.5        0\n",
              "NO           0\n",
              "NO2          0\n",
              "NOx          0\n",
              "NH3          0\n",
              "SO2          0\n",
              "Ozone        0\n",
              "PM2.5y1      0\n",
              "NOy1         0\n",
              "NO2y1        0\n",
              "NOxy1        0\n",
              "NH3y1        0\n",
              "SO2y1        0\n",
              "Ozoney1      0\n",
              "PM2.5y2      0\n",
              "NOy2         0\n",
              "NO2y2        0\n",
              "NOxy2        0\n",
              "NH3y2        0\n",
              "SO2y2        0\n",
              "Ozoney2      0\n",
              "PM2.5y3      0\n",
              "NOy3         0\n",
              "NO2y3        0\n",
              "NOxy3        0\n",
              "NH3y3        0\n",
              "SO2y3        0\n",
              "Ozoney3      0\n",
              "dtype: int64"
            ]
          },
          "metadata": {},
          "execution_count": 69
        }
      ]
    },
    {
      "cell_type": "code",
      "metadata": {
        "id": "JauFWv9pHuGq"
      },
      "source": [
        "\n",
        "data['From Date']=pd.to_datetime(data['From Date'])\n",
        "data['year'] = data['From Date'].dt.year\n",
        "data['month'] = data['From Date'].dt.month\n",
        "data['day'] = data['From Date'].dt.day"
      ],
      "execution_count": 70,
      "outputs": []
    },
    {
      "cell_type": "code",
      "metadata": {
        "id": "JYuzT3dYHuGr"
      },
      "source": [
        "import datetime as dt"
      ],
      "execution_count": 71,
      "outputs": []
    },
    {
      "cell_type": "code",
      "metadata": {
        "id": "A0wI83n2HuGr"
      },
      "source": [
        "data['From Date']= data['From Date'].map(dt.datetime.toordinal)"
      ],
      "execution_count": 72,
      "outputs": []
    },
    {
      "cell_type": "code",
      "metadata": {
        "id": "9YmWWLJzHuGs"
      },
      "source": [
        "df=data.loc['0':'207']"
      ],
      "execution_count": 73,
      "outputs": []
    },
    {
      "cell_type": "code",
      "metadata": {
        "scrolled": true,
        "id": "ggwSXFDbHuGs",
        "colab": {
          "base_uri": "https://localhost:8080/",
          "height": 505
        },
        "outputId": "be618c9a-5f6f-4e13-d32b-b5874cdc1fb4"
      },
      "source": [
        "df"
      ],
      "execution_count": 74,
      "outputs": [
        {
          "output_type": "execute_result",
          "data": {
            "text/html": [
              "\n",
              "  <div id=\"df-8510eb58-9df6-4ebb-9fc6-c3d0c8d22dab\">\n",
              "    <div class=\"colab-df-container\">\n",
              "      <div>\n",
              "<style scoped>\n",
              "    .dataframe tbody tr th:only-of-type {\n",
              "        vertical-align: middle;\n",
              "    }\n",
              "\n",
              "    .dataframe tbody tr th {\n",
              "        vertical-align: top;\n",
              "    }\n",
              "\n",
              "    .dataframe thead th {\n",
              "        text-align: right;\n",
              "    }\n",
              "</style>\n",
              "<table border=\"1\" class=\"dataframe\">\n",
              "  <thead>\n",
              "    <tr style=\"text-align: right;\">\n",
              "      <th></th>\n",
              "      <th>From Date</th>\n",
              "      <th>PM2.5</th>\n",
              "      <th>NO</th>\n",
              "      <th>NO2</th>\n",
              "      <th>NOx</th>\n",
              "      <th>NH3</th>\n",
              "      <th>SO2</th>\n",
              "      <th>Ozone</th>\n",
              "      <th>PM2.5y1</th>\n",
              "      <th>NOy1</th>\n",
              "      <th>NO2y1</th>\n",
              "      <th>NOxy1</th>\n",
              "      <th>NH3y1</th>\n",
              "      <th>SO2y1</th>\n",
              "      <th>Ozoney1</th>\n",
              "      <th>PM2.5y2</th>\n",
              "      <th>NOy2</th>\n",
              "      <th>NO2y2</th>\n",
              "      <th>NOxy2</th>\n",
              "      <th>NH3y2</th>\n",
              "      <th>SO2y2</th>\n",
              "      <th>Ozoney2</th>\n",
              "      <th>PM2.5y3</th>\n",
              "      <th>NOy3</th>\n",
              "      <th>NO2y3</th>\n",
              "      <th>NOxy3</th>\n",
              "      <th>NH3y3</th>\n",
              "      <th>SO2y3</th>\n",
              "      <th>Ozoney3</th>\n",
              "      <th>year</th>\n",
              "      <th>month</th>\n",
              "      <th>day</th>\n",
              "    </tr>\n",
              "  </thead>\n",
              "  <tbody>\n",
              "    <tr>\n",
              "      <th>0</th>\n",
              "      <td>735966</td>\n",
              "      <td>126.075287</td>\n",
              "      <td>26.302857</td>\n",
              "      <td>137.310000</td>\n",
              "      <td>97.560000</td>\n",
              "      <td>28.141429</td>\n",
              "      <td>24.267143</td>\n",
              "      <td>21.067143</td>\n",
              "      <td>360.551429</td>\n",
              "      <td>36.711429</td>\n",
              "      <td>143.250000</td>\n",
              "      <td>109.285714</td>\n",
              "      <td>107.202857</td>\n",
              "      <td>19.381429</td>\n",
              "      <td>20.608571</td>\n",
              "      <td>358.708571</td>\n",
              "      <td>39.011429</td>\n",
              "      <td>126.518571</td>\n",
              "      <td>109.081429</td>\n",
              "      <td>150.040000</td>\n",
              "      <td>16.978571</td>\n",
              "      <td>21.161429</td>\n",
              "      <td>107.908333</td>\n",
              "      <td>17.123333</td>\n",
              "      <td>56.933333</td>\n",
              "      <td>49.220000</td>\n",
              "      <td>178.608333</td>\n",
              "      <td>4.580000</td>\n",
              "      <td>49.548333</td>\n",
              "      <td>2016</td>\n",
              "      <td>1</td>\n",
              "      <td>3</td>\n",
              "    </tr>\n",
              "    <tr>\n",
              "      <th>1</th>\n",
              "      <td>735973</td>\n",
              "      <td>126.114713</td>\n",
              "      <td>39.560794</td>\n",
              "      <td>141.035079</td>\n",
              "      <td>107.217460</td>\n",
              "      <td>51.425238</td>\n",
              "      <td>36.032540</td>\n",
              "      <td>28.529048</td>\n",
              "      <td>147.790000</td>\n",
              "      <td>47.448571</td>\n",
              "      <td>98.875714</td>\n",
              "      <td>64.110000</td>\n",
              "      <td>293.744286</td>\n",
              "      <td>4.371429</td>\n",
              "      <td>47.062857</td>\n",
              "      <td>209.742857</td>\n",
              "      <td>48.975714</td>\n",
              "      <td>114.227143</td>\n",
              "      <td>52.552857</td>\n",
              "      <td>296.742857</td>\n",
              "      <td>4.384286</td>\n",
              "      <td>48.848571</td>\n",
              "      <td>123.782857</td>\n",
              "      <td>10.522857</td>\n",
              "      <td>78.045714</td>\n",
              "      <td>45.765714</td>\n",
              "      <td>342.238571</td>\n",
              "      <td>4.685714</td>\n",
              "      <td>42.050000</td>\n",
              "      <td>2016</td>\n",
              "      <td>1</td>\n",
              "      <td>10</td>\n",
              "    </tr>\n",
              "    <tr>\n",
              "      <th>2</th>\n",
              "      <td>735980</td>\n",
              "      <td>126.154138</td>\n",
              "      <td>14.603492</td>\n",
              "      <td>66.203492</td>\n",
              "      <td>47.072540</td>\n",
              "      <td>21.401905</td>\n",
              "      <td>13.800317</td>\n",
              "      <td>27.758095</td>\n",
              "      <td>153.547143</td>\n",
              "      <td>61.775714</td>\n",
              "      <td>118.688571</td>\n",
              "      <td>102.702857</td>\n",
              "      <td>288.337143</td>\n",
              "      <td>4.512857</td>\n",
              "      <td>47.688571</td>\n",
              "      <td>190.744898</td>\n",
              "      <td>60.705714</td>\n",
              "      <td>118.531429</td>\n",
              "      <td>115.894286</td>\n",
              "      <td>292.124286</td>\n",
              "      <td>4.450000</td>\n",
              "      <td>43.297143</td>\n",
              "      <td>110.152857</td>\n",
              "      <td>19.568571</td>\n",
              "      <td>89.411429</td>\n",
              "      <td>40.158571</td>\n",
              "      <td>300.631429</td>\n",
              "      <td>4.271429</td>\n",
              "      <td>51.192857</td>\n",
              "      <td>2016</td>\n",
              "      <td>1</td>\n",
              "      <td>17</td>\n",
              "    </tr>\n",
              "    <tr>\n",
              "      <th>3</th>\n",
              "      <td>735987</td>\n",
              "      <td>126.193563</td>\n",
              "      <td>14.217654</td>\n",
              "      <td>57.379990</td>\n",
              "      <td>42.129093</td>\n",
              "      <td>19.521779</td>\n",
              "      <td>8.517218</td>\n",
              "      <td>28.716454</td>\n",
              "      <td>177.758571</td>\n",
              "      <td>38.910000</td>\n",
              "      <td>81.725714</td>\n",
              "      <td>66.590714</td>\n",
              "      <td>227.610000</td>\n",
              "      <td>6.011429</td>\n",
              "      <td>25.218571</td>\n",
              "      <td>178.571429</td>\n",
              "      <td>20.386429</td>\n",
              "      <td>79.582143</td>\n",
              "      <td>62.067857</td>\n",
              "      <td>172.815000</td>\n",
              "      <td>6.082857</td>\n",
              "      <td>24.534286</td>\n",
              "      <td>67.865714</td>\n",
              "      <td>18.574286</td>\n",
              "      <td>62.675714</td>\n",
              "      <td>59.228571</td>\n",
              "      <td>123.715000</td>\n",
              "      <td>3.675714</td>\n",
              "      <td>49.335714</td>\n",
              "      <td>2016</td>\n",
              "      <td>1</td>\n",
              "      <td>24</td>\n",
              "    </tr>\n",
              "    <tr>\n",
              "      <th>4</th>\n",
              "      <td>735994</td>\n",
              "      <td>126.232989</td>\n",
              "      <td>28.167895</td>\n",
              "      <td>78.249649</td>\n",
              "      <td>64.528246</td>\n",
              "      <td>30.172281</td>\n",
              "      <td>8.492638</td>\n",
              "      <td>30.305899</td>\n",
              "      <td>75.971429</td>\n",
              "      <td>45.511429</td>\n",
              "      <td>106.558571</td>\n",
              "      <td>40.975714</td>\n",
              "      <td>63.821429</td>\n",
              "      <td>4.961429</td>\n",
              "      <td>12.930000</td>\n",
              "      <td>165.071429</td>\n",
              "      <td>45.531429</td>\n",
              "      <td>107.361429</td>\n",
              "      <td>41.315714</td>\n",
              "      <td>65.098571</td>\n",
              "      <td>4.974286</td>\n",
              "      <td>18.835714</td>\n",
              "      <td>133.508571</td>\n",
              "      <td>39.431429</td>\n",
              "      <td>99.832857</td>\n",
              "      <td>56.834286</td>\n",
              "      <td>68.932857</td>\n",
              "      <td>4.884286</td>\n",
              "      <td>29.428571</td>\n",
              "      <td>2016</td>\n",
              "      <td>1</td>\n",
              "      <td>31</td>\n",
              "    </tr>\n",
              "    <tr>\n",
              "      <th>...</th>\n",
              "      <td>...</td>\n",
              "      <td>...</td>\n",
              "      <td>...</td>\n",
              "      <td>...</td>\n",
              "      <td>...</td>\n",
              "      <td>...</td>\n",
              "      <td>...</td>\n",
              "      <td>...</td>\n",
              "      <td>...</td>\n",
              "      <td>...</td>\n",
              "      <td>...</td>\n",
              "      <td>...</td>\n",
              "      <td>...</td>\n",
              "      <td>...</td>\n",
              "      <td>...</td>\n",
              "      <td>...</td>\n",
              "      <td>...</td>\n",
              "      <td>...</td>\n",
              "      <td>...</td>\n",
              "      <td>...</td>\n",
              "      <td>...</td>\n",
              "      <td>...</td>\n",
              "      <td>...</td>\n",
              "      <td>...</td>\n",
              "      <td>...</td>\n",
              "      <td>...</td>\n",
              "      <td>...</td>\n",
              "      <td>...</td>\n",
              "      <td>...</td>\n",
              "      <td>...</td>\n",
              "      <td>...</td>\n",
              "      <td>...</td>\n",
              "    </tr>\n",
              "    <tr>\n",
              "      <th>203</th>\n",
              "      <td>737387</td>\n",
              "      <td>101.091429</td>\n",
              "      <td>51.498571</td>\n",
              "      <td>58.585714</td>\n",
              "      <td>64.812857</td>\n",
              "      <td>15.740000</td>\n",
              "      <td>8.118571</td>\n",
              "      <td>29.711429</td>\n",
              "      <td>106.172857</td>\n",
              "      <td>54.095714</td>\n",
              "      <td>57.744286</td>\n",
              "      <td>55.042857</td>\n",
              "      <td>37.981429</td>\n",
              "      <td>4.904286</td>\n",
              "      <td>23.264286</td>\n",
              "      <td>142.857143</td>\n",
              "      <td>80.625714</td>\n",
              "      <td>45.074286</td>\n",
              "      <td>74.138571</td>\n",
              "      <td>49.790000</td>\n",
              "      <td>3.578571</td>\n",
              "      <td>16.118571</td>\n",
              "      <td>149.784286</td>\n",
              "      <td>121.402857</td>\n",
              "      <td>75.078571</td>\n",
              "      <td>138.612857</td>\n",
              "      <td>203.751429</td>\n",
              "      <td>11.587746</td>\n",
              "      <td>17.128777</td>\n",
              "      <td>2019</td>\n",
              "      <td>11</td>\n",
              "      <td>24</td>\n",
              "    </tr>\n",
              "    <tr>\n",
              "      <th>204</th>\n",
              "      <td>737394</td>\n",
              "      <td>63.288571</td>\n",
              "      <td>53.741429</td>\n",
              "      <td>50.064286</td>\n",
              "      <td>75.085714</td>\n",
              "      <td>12.037143</td>\n",
              "      <td>2.608571</td>\n",
              "      <td>19.504286</td>\n",
              "      <td>173.848571</td>\n",
              "      <td>143.770000</td>\n",
              "      <td>63.578571</td>\n",
              "      <td>151.897143</td>\n",
              "      <td>52.612857</td>\n",
              "      <td>5.732857</td>\n",
              "      <td>18.121429</td>\n",
              "      <td>144.028571</td>\n",
              "      <td>45.332857</td>\n",
              "      <td>45.222857</td>\n",
              "      <td>75.832857</td>\n",
              "      <td>37.271429</td>\n",
              "      <td>5.592857</td>\n",
              "      <td>26.178571</td>\n",
              "      <td>147.950000</td>\n",
              "      <td>81.650000</td>\n",
              "      <td>60.125714</td>\n",
              "      <td>98.311429</td>\n",
              "      <td>152.627143</td>\n",
              "      <td>11.661439</td>\n",
              "      <td>16.815036</td>\n",
              "      <td>2019</td>\n",
              "      <td>12</td>\n",
              "      <td>1</td>\n",
              "    </tr>\n",
              "    <tr>\n",
              "      <th>205</th>\n",
              "      <td>737401</td>\n",
              "      <td>143.041429</td>\n",
              "      <td>60.198571</td>\n",
              "      <td>56.500000</td>\n",
              "      <td>91.804286</td>\n",
              "      <td>19.447143</td>\n",
              "      <td>6.052857</td>\n",
              "      <td>22.581429</td>\n",
              "      <td>154.002857</td>\n",
              "      <td>123.677143</td>\n",
              "      <td>66.648571</td>\n",
              "      <td>122.448571</td>\n",
              "      <td>61.412857</td>\n",
              "      <td>5.291429</td>\n",
              "      <td>16.441429</td>\n",
              "      <td>152.064286</td>\n",
              "      <td>134.887143</td>\n",
              "      <td>36.749524</td>\n",
              "      <td>144.431513</td>\n",
              "      <td>58.198571</td>\n",
              "      <td>4.803483</td>\n",
              "      <td>17.601753</td>\n",
              "      <td>74.350000</td>\n",
              "      <td>164.774286</td>\n",
              "      <td>69.271429</td>\n",
              "      <td>170.718571</td>\n",
              "      <td>248.184286</td>\n",
              "      <td>11.735132</td>\n",
              "      <td>16.501295</td>\n",
              "      <td>2019</td>\n",
              "      <td>12</td>\n",
              "      <td>8</td>\n",
              "    </tr>\n",
              "    <tr>\n",
              "      <th>206</th>\n",
              "      <td>737408</td>\n",
              "      <td>139.978571</td>\n",
              "      <td>70.320000</td>\n",
              "      <td>74.011429</td>\n",
              "      <td>98.191429</td>\n",
              "      <td>10.748571</td>\n",
              "      <td>5.511429</td>\n",
              "      <td>17.747143</td>\n",
              "      <td>155.460000</td>\n",
              "      <td>51.312857</td>\n",
              "      <td>44.624286</td>\n",
              "      <td>43.031429</td>\n",
              "      <td>36.337143</td>\n",
              "      <td>5.230000</td>\n",
              "      <td>9.402857</td>\n",
              "      <td>95.821429</td>\n",
              "      <td>61.235714</td>\n",
              "      <td>25.596190</td>\n",
              "      <td>83.172353</td>\n",
              "      <td>43.650000</td>\n",
              "      <td>3.976781</td>\n",
              "      <td>20.910985</td>\n",
              "      <td>279.941429</td>\n",
              "      <td>132.675714</td>\n",
              "      <td>66.684286</td>\n",
              "      <td>143.141429</td>\n",
              "      <td>215.230000</td>\n",
              "      <td>11.808825</td>\n",
              "      <td>16.187554</td>\n",
              "      <td>2019</td>\n",
              "      <td>12</td>\n",
              "      <td>15</td>\n",
              "    </tr>\n",
              "    <tr>\n",
              "      <th>207</th>\n",
              "      <td>737415</td>\n",
              "      <td>125.101429</td>\n",
              "      <td>37.271429</td>\n",
              "      <td>35.768571</td>\n",
              "      <td>55.842857</td>\n",
              "      <td>8.620000</td>\n",
              "      <td>2.812857</td>\n",
              "      <td>12.827143</td>\n",
              "      <td>184.412857</td>\n",
              "      <td>63.055714</td>\n",
              "      <td>42.382857</td>\n",
              "      <td>83.661429</td>\n",
              "      <td>52.088571</td>\n",
              "      <td>8.222857</td>\n",
              "      <td>8.772857</td>\n",
              "      <td>131.211429</td>\n",
              "      <td>40.825714</td>\n",
              "      <td>22.597143</td>\n",
              "      <td>68.484706</td>\n",
              "      <td>33.147143</td>\n",
              "      <td>4.063562</td>\n",
              "      <td>19.851970</td>\n",
              "      <td>190.681429</td>\n",
              "      <td>113.920000</td>\n",
              "      <td>56.500000</td>\n",
              "      <td>122.645714</td>\n",
              "      <td>183.537143</td>\n",
              "      <td>11.882518</td>\n",
              "      <td>15.873813</td>\n",
              "      <td>2019</td>\n",
              "      <td>12</td>\n",
              "      <td>22</td>\n",
              "    </tr>\n",
              "  </tbody>\n",
              "</table>\n",
              "<p>208 rows × 32 columns</p>\n",
              "</div>\n",
              "      <button class=\"colab-df-convert\" onclick=\"convertToInteractive('df-8510eb58-9df6-4ebb-9fc6-c3d0c8d22dab')\"\n",
              "              title=\"Convert this dataframe to an interactive table.\"\n",
              "              style=\"display:none;\">\n",
              "        \n",
              "  <svg xmlns=\"http://www.w3.org/2000/svg\" height=\"24px\"viewBox=\"0 0 24 24\"\n",
              "       width=\"24px\">\n",
              "    <path d=\"M0 0h24v24H0V0z\" fill=\"none\"/>\n",
              "    <path d=\"M18.56 5.44l.94 2.06.94-2.06 2.06-.94-2.06-.94-.94-2.06-.94 2.06-2.06.94zm-11 1L8.5 8.5l.94-2.06 2.06-.94-2.06-.94L8.5 2.5l-.94 2.06-2.06.94zm10 10l.94 2.06.94-2.06 2.06-.94-2.06-.94-.94-2.06-.94 2.06-2.06.94z\"/><path d=\"M17.41 7.96l-1.37-1.37c-.4-.4-.92-.59-1.43-.59-.52 0-1.04.2-1.43.59L10.3 9.45l-7.72 7.72c-.78.78-.78 2.05 0 2.83L4 21.41c.39.39.9.59 1.41.59.51 0 1.02-.2 1.41-.59l7.78-7.78 2.81-2.81c.8-.78.8-2.07 0-2.86zM5.41 20L4 18.59l7.72-7.72 1.47 1.35L5.41 20z\"/>\n",
              "  </svg>\n",
              "      </button>\n",
              "      \n",
              "  <style>\n",
              "    .colab-df-container {\n",
              "      display:flex;\n",
              "      flex-wrap:wrap;\n",
              "      gap: 12px;\n",
              "    }\n",
              "\n",
              "    .colab-df-convert {\n",
              "      background-color: #E8F0FE;\n",
              "      border: none;\n",
              "      border-radius: 50%;\n",
              "      cursor: pointer;\n",
              "      display: none;\n",
              "      fill: #1967D2;\n",
              "      height: 32px;\n",
              "      padding: 0 0 0 0;\n",
              "      width: 32px;\n",
              "    }\n",
              "\n",
              "    .colab-df-convert:hover {\n",
              "      background-color: #E2EBFA;\n",
              "      box-shadow: 0px 1px 2px rgba(60, 64, 67, 0.3), 0px 1px 3px 1px rgba(60, 64, 67, 0.15);\n",
              "      fill: #174EA6;\n",
              "    }\n",
              "\n",
              "    [theme=dark] .colab-df-convert {\n",
              "      background-color: #3B4455;\n",
              "      fill: #D2E3FC;\n",
              "    }\n",
              "\n",
              "    [theme=dark] .colab-df-convert:hover {\n",
              "      background-color: #434B5C;\n",
              "      box-shadow: 0px 1px 3px 1px rgba(0, 0, 0, 0.15);\n",
              "      filter: drop-shadow(0px 1px 2px rgba(0, 0, 0, 0.3));\n",
              "      fill: #FFFFFF;\n",
              "    }\n",
              "  </style>\n",
              "\n",
              "      <script>\n",
              "        const buttonEl =\n",
              "          document.querySelector('#df-8510eb58-9df6-4ebb-9fc6-c3d0c8d22dab button.colab-df-convert');\n",
              "        buttonEl.style.display =\n",
              "          google.colab.kernel.accessAllowed ? 'block' : 'none';\n",
              "\n",
              "        async function convertToInteractive(key) {\n",
              "          const element = document.querySelector('#df-8510eb58-9df6-4ebb-9fc6-c3d0c8d22dab');\n",
              "          const dataTable =\n",
              "            await google.colab.kernel.invokeFunction('convertToInteractive',\n",
              "                                                     [key], {});\n",
              "          if (!dataTable) return;\n",
              "\n",
              "          const docLinkHtml = 'Like what you see? Visit the ' +\n",
              "            '<a target=\"_blank\" href=https://colab.research.google.com/notebooks/data_table.ipynb>data table notebook</a>'\n",
              "            + ' to learn more about interactive tables.';\n",
              "          element.innerHTML = '';\n",
              "          dataTable['output_type'] = 'display_data';\n",
              "          await google.colab.output.renderOutput(dataTable, element);\n",
              "          const docLink = document.createElement('div');\n",
              "          docLink.innerHTML = docLinkHtml;\n",
              "          element.appendChild(docLink);\n",
              "        }\n",
              "      </script>\n",
              "    </div>\n",
              "  </div>\n",
              "  "
            ],
            "text/plain": [
              "     From Date       PM2.5         NO         NO2  ...    Ozoney3  year  month  day\n",
              "0       735966  126.075287  26.302857  137.310000  ...  49.548333  2016      1    3\n",
              "1       735973  126.114713  39.560794  141.035079  ...  42.050000  2016      1   10\n",
              "2       735980  126.154138  14.603492   66.203492  ...  51.192857  2016      1   17\n",
              "3       735987  126.193563  14.217654   57.379990  ...  49.335714  2016      1   24\n",
              "4       735994  126.232989  28.167895   78.249649  ...  29.428571  2016      1   31\n",
              "..         ...         ...        ...         ...  ...        ...   ...    ...  ...\n",
              "203     737387  101.091429  51.498571   58.585714  ...  17.128777  2019     11   24\n",
              "204     737394   63.288571  53.741429   50.064286  ...  16.815036  2019     12    1\n",
              "205     737401  143.041429  60.198571   56.500000  ...  16.501295  2019     12    8\n",
              "206     737408  139.978571  70.320000   74.011429  ...  16.187554  2019     12   15\n",
              "207     737415  125.101429  37.271429   35.768571  ...  15.873813  2019     12   22\n",
              "\n",
              "[208 rows x 32 columns]"
            ]
          },
          "metadata": {},
          "execution_count": 74
        }
      ]
    },
    {
      "cell_type": "code",
      "metadata": {
        "colab": {
          "base_uri": "https://localhost:8080/",
          "height": 0
        },
        "id": "xoJ6rXGMHuGt",
        "outputId": "d1dae9cf-21f7-439f-f57e-9de77c39a75a"
      },
      "source": [
        "df.columns"
      ],
      "execution_count": 75,
      "outputs": [
        {
          "output_type": "execute_result",
          "data": {
            "text/plain": [
              "Index(['From Date', 'PM2.5', 'NO', 'NO2', 'NOx', 'NH3', 'SO2', 'Ozone',\n",
              "       'PM2.5y1', 'NOy1', 'NO2y1', 'NOxy1', 'NH3y1', 'SO2y1', 'Ozoney1',\n",
              "       'PM2.5y2', 'NOy2', 'NO2y2', 'NOxy2', 'NH3y2', 'SO2y2', 'Ozoney2',\n",
              "       'PM2.5y3', 'NOy3', 'NO2y3', 'NOxy3', 'NH3y3', 'SO2y3', 'Ozoney3',\n",
              "       'year', 'month', 'day'],\n",
              "      dtype='object')"
            ]
          },
          "metadata": {},
          "execution_count": 75
        }
      ]
    },
    {
      "cell_type": "code",
      "metadata": {
        "id": "d_dxRJ0kHuGt"
      },
      "source": [
        "X1 = df[['From Date', 'PM2.5', 'NO', 'NO2', 'NOx', 'NH3', 'SO2', 'Ozone',\n",
        "       'PM2.5y1', 'NOy1', 'NO2y1', 'NOxy1', 'NH3y1', 'SO2y1', 'Ozoney1',\n",
        "       'PM2.5y2', 'NOy2', 'NO2y2', 'NOxy2', 'NH3y2', 'SO2y2', 'Ozoney2',\n",
        "       'PM2.5y3', 'NOy3', 'NO2y3', 'NOxy3', 'NH3y3', 'SO2y3', 'Ozoney3',\n",
        "       'year', 'month', 'day']]\n",
        "Y1 = df['PM2.5']"
      ],
      "execution_count": 76,
      "outputs": []
    },
    {
      "cell_type": "code",
      "metadata": {
        "colab": {
          "base_uri": "https://localhost:8080/",
          "height": 505
        },
        "id": "wBiZNz_lHuGu",
        "outputId": "ce364333-b233-4a9d-e375-bbd37ac45739"
      },
      "source": [
        "X1"
      ],
      "execution_count": 77,
      "outputs": [
        {
          "output_type": "execute_result",
          "data": {
            "text/html": [
              "\n",
              "  <div id=\"df-7de50ef3-c780-4dc7-80db-4d829807f6c0\">\n",
              "    <div class=\"colab-df-container\">\n",
              "      <div>\n",
              "<style scoped>\n",
              "    .dataframe tbody tr th:only-of-type {\n",
              "        vertical-align: middle;\n",
              "    }\n",
              "\n",
              "    .dataframe tbody tr th {\n",
              "        vertical-align: top;\n",
              "    }\n",
              "\n",
              "    .dataframe thead th {\n",
              "        text-align: right;\n",
              "    }\n",
              "</style>\n",
              "<table border=\"1\" class=\"dataframe\">\n",
              "  <thead>\n",
              "    <tr style=\"text-align: right;\">\n",
              "      <th></th>\n",
              "      <th>From Date</th>\n",
              "      <th>PM2.5</th>\n",
              "      <th>NO</th>\n",
              "      <th>NO2</th>\n",
              "      <th>NOx</th>\n",
              "      <th>NH3</th>\n",
              "      <th>SO2</th>\n",
              "      <th>Ozone</th>\n",
              "      <th>PM2.5y1</th>\n",
              "      <th>NOy1</th>\n",
              "      <th>NO2y1</th>\n",
              "      <th>NOxy1</th>\n",
              "      <th>NH3y1</th>\n",
              "      <th>SO2y1</th>\n",
              "      <th>Ozoney1</th>\n",
              "      <th>PM2.5y2</th>\n",
              "      <th>NOy2</th>\n",
              "      <th>NO2y2</th>\n",
              "      <th>NOxy2</th>\n",
              "      <th>NH3y2</th>\n",
              "      <th>SO2y2</th>\n",
              "      <th>Ozoney2</th>\n",
              "      <th>PM2.5y3</th>\n",
              "      <th>NOy3</th>\n",
              "      <th>NO2y3</th>\n",
              "      <th>NOxy3</th>\n",
              "      <th>NH3y3</th>\n",
              "      <th>SO2y3</th>\n",
              "      <th>Ozoney3</th>\n",
              "      <th>year</th>\n",
              "      <th>month</th>\n",
              "      <th>day</th>\n",
              "    </tr>\n",
              "  </thead>\n",
              "  <tbody>\n",
              "    <tr>\n",
              "      <th>0</th>\n",
              "      <td>735966</td>\n",
              "      <td>126.075287</td>\n",
              "      <td>26.302857</td>\n",
              "      <td>137.310000</td>\n",
              "      <td>97.560000</td>\n",
              "      <td>28.141429</td>\n",
              "      <td>24.267143</td>\n",
              "      <td>21.067143</td>\n",
              "      <td>360.551429</td>\n",
              "      <td>36.711429</td>\n",
              "      <td>143.250000</td>\n",
              "      <td>109.285714</td>\n",
              "      <td>107.202857</td>\n",
              "      <td>19.381429</td>\n",
              "      <td>20.608571</td>\n",
              "      <td>358.708571</td>\n",
              "      <td>39.011429</td>\n",
              "      <td>126.518571</td>\n",
              "      <td>109.081429</td>\n",
              "      <td>150.040000</td>\n",
              "      <td>16.978571</td>\n",
              "      <td>21.161429</td>\n",
              "      <td>107.908333</td>\n",
              "      <td>17.123333</td>\n",
              "      <td>56.933333</td>\n",
              "      <td>49.220000</td>\n",
              "      <td>178.608333</td>\n",
              "      <td>4.580000</td>\n",
              "      <td>49.548333</td>\n",
              "      <td>2016</td>\n",
              "      <td>1</td>\n",
              "      <td>3</td>\n",
              "    </tr>\n",
              "    <tr>\n",
              "      <th>1</th>\n",
              "      <td>735973</td>\n",
              "      <td>126.114713</td>\n",
              "      <td>39.560794</td>\n",
              "      <td>141.035079</td>\n",
              "      <td>107.217460</td>\n",
              "      <td>51.425238</td>\n",
              "      <td>36.032540</td>\n",
              "      <td>28.529048</td>\n",
              "      <td>147.790000</td>\n",
              "      <td>47.448571</td>\n",
              "      <td>98.875714</td>\n",
              "      <td>64.110000</td>\n",
              "      <td>293.744286</td>\n",
              "      <td>4.371429</td>\n",
              "      <td>47.062857</td>\n",
              "      <td>209.742857</td>\n",
              "      <td>48.975714</td>\n",
              "      <td>114.227143</td>\n",
              "      <td>52.552857</td>\n",
              "      <td>296.742857</td>\n",
              "      <td>4.384286</td>\n",
              "      <td>48.848571</td>\n",
              "      <td>123.782857</td>\n",
              "      <td>10.522857</td>\n",
              "      <td>78.045714</td>\n",
              "      <td>45.765714</td>\n",
              "      <td>342.238571</td>\n",
              "      <td>4.685714</td>\n",
              "      <td>42.050000</td>\n",
              "      <td>2016</td>\n",
              "      <td>1</td>\n",
              "      <td>10</td>\n",
              "    </tr>\n",
              "    <tr>\n",
              "      <th>2</th>\n",
              "      <td>735980</td>\n",
              "      <td>126.154138</td>\n",
              "      <td>14.603492</td>\n",
              "      <td>66.203492</td>\n",
              "      <td>47.072540</td>\n",
              "      <td>21.401905</td>\n",
              "      <td>13.800317</td>\n",
              "      <td>27.758095</td>\n",
              "      <td>153.547143</td>\n",
              "      <td>61.775714</td>\n",
              "      <td>118.688571</td>\n",
              "      <td>102.702857</td>\n",
              "      <td>288.337143</td>\n",
              "      <td>4.512857</td>\n",
              "      <td>47.688571</td>\n",
              "      <td>190.744898</td>\n",
              "      <td>60.705714</td>\n",
              "      <td>118.531429</td>\n",
              "      <td>115.894286</td>\n",
              "      <td>292.124286</td>\n",
              "      <td>4.450000</td>\n",
              "      <td>43.297143</td>\n",
              "      <td>110.152857</td>\n",
              "      <td>19.568571</td>\n",
              "      <td>89.411429</td>\n",
              "      <td>40.158571</td>\n",
              "      <td>300.631429</td>\n",
              "      <td>4.271429</td>\n",
              "      <td>51.192857</td>\n",
              "      <td>2016</td>\n",
              "      <td>1</td>\n",
              "      <td>17</td>\n",
              "    </tr>\n",
              "    <tr>\n",
              "      <th>3</th>\n",
              "      <td>735987</td>\n",
              "      <td>126.193563</td>\n",
              "      <td>14.217654</td>\n",
              "      <td>57.379990</td>\n",
              "      <td>42.129093</td>\n",
              "      <td>19.521779</td>\n",
              "      <td>8.517218</td>\n",
              "      <td>28.716454</td>\n",
              "      <td>177.758571</td>\n",
              "      <td>38.910000</td>\n",
              "      <td>81.725714</td>\n",
              "      <td>66.590714</td>\n",
              "      <td>227.610000</td>\n",
              "      <td>6.011429</td>\n",
              "      <td>25.218571</td>\n",
              "      <td>178.571429</td>\n",
              "      <td>20.386429</td>\n",
              "      <td>79.582143</td>\n",
              "      <td>62.067857</td>\n",
              "      <td>172.815000</td>\n",
              "      <td>6.082857</td>\n",
              "      <td>24.534286</td>\n",
              "      <td>67.865714</td>\n",
              "      <td>18.574286</td>\n",
              "      <td>62.675714</td>\n",
              "      <td>59.228571</td>\n",
              "      <td>123.715000</td>\n",
              "      <td>3.675714</td>\n",
              "      <td>49.335714</td>\n",
              "      <td>2016</td>\n",
              "      <td>1</td>\n",
              "      <td>24</td>\n",
              "    </tr>\n",
              "    <tr>\n",
              "      <th>4</th>\n",
              "      <td>735994</td>\n",
              "      <td>126.232989</td>\n",
              "      <td>28.167895</td>\n",
              "      <td>78.249649</td>\n",
              "      <td>64.528246</td>\n",
              "      <td>30.172281</td>\n",
              "      <td>8.492638</td>\n",
              "      <td>30.305899</td>\n",
              "      <td>75.971429</td>\n",
              "      <td>45.511429</td>\n",
              "      <td>106.558571</td>\n",
              "      <td>40.975714</td>\n",
              "      <td>63.821429</td>\n",
              "      <td>4.961429</td>\n",
              "      <td>12.930000</td>\n",
              "      <td>165.071429</td>\n",
              "      <td>45.531429</td>\n",
              "      <td>107.361429</td>\n",
              "      <td>41.315714</td>\n",
              "      <td>65.098571</td>\n",
              "      <td>4.974286</td>\n",
              "      <td>18.835714</td>\n",
              "      <td>133.508571</td>\n",
              "      <td>39.431429</td>\n",
              "      <td>99.832857</td>\n",
              "      <td>56.834286</td>\n",
              "      <td>68.932857</td>\n",
              "      <td>4.884286</td>\n",
              "      <td>29.428571</td>\n",
              "      <td>2016</td>\n",
              "      <td>1</td>\n",
              "      <td>31</td>\n",
              "    </tr>\n",
              "    <tr>\n",
              "      <th>...</th>\n",
              "      <td>...</td>\n",
              "      <td>...</td>\n",
              "      <td>...</td>\n",
              "      <td>...</td>\n",
              "      <td>...</td>\n",
              "      <td>...</td>\n",
              "      <td>...</td>\n",
              "      <td>...</td>\n",
              "      <td>...</td>\n",
              "      <td>...</td>\n",
              "      <td>...</td>\n",
              "      <td>...</td>\n",
              "      <td>...</td>\n",
              "      <td>...</td>\n",
              "      <td>...</td>\n",
              "      <td>...</td>\n",
              "      <td>...</td>\n",
              "      <td>...</td>\n",
              "      <td>...</td>\n",
              "      <td>...</td>\n",
              "      <td>...</td>\n",
              "      <td>...</td>\n",
              "      <td>...</td>\n",
              "      <td>...</td>\n",
              "      <td>...</td>\n",
              "      <td>...</td>\n",
              "      <td>...</td>\n",
              "      <td>...</td>\n",
              "      <td>...</td>\n",
              "      <td>...</td>\n",
              "      <td>...</td>\n",
              "      <td>...</td>\n",
              "    </tr>\n",
              "    <tr>\n",
              "      <th>203</th>\n",
              "      <td>737387</td>\n",
              "      <td>101.091429</td>\n",
              "      <td>51.498571</td>\n",
              "      <td>58.585714</td>\n",
              "      <td>64.812857</td>\n",
              "      <td>15.740000</td>\n",
              "      <td>8.118571</td>\n",
              "      <td>29.711429</td>\n",
              "      <td>106.172857</td>\n",
              "      <td>54.095714</td>\n",
              "      <td>57.744286</td>\n",
              "      <td>55.042857</td>\n",
              "      <td>37.981429</td>\n",
              "      <td>4.904286</td>\n",
              "      <td>23.264286</td>\n",
              "      <td>142.857143</td>\n",
              "      <td>80.625714</td>\n",
              "      <td>45.074286</td>\n",
              "      <td>74.138571</td>\n",
              "      <td>49.790000</td>\n",
              "      <td>3.578571</td>\n",
              "      <td>16.118571</td>\n",
              "      <td>149.784286</td>\n",
              "      <td>121.402857</td>\n",
              "      <td>75.078571</td>\n",
              "      <td>138.612857</td>\n",
              "      <td>203.751429</td>\n",
              "      <td>11.587746</td>\n",
              "      <td>17.128777</td>\n",
              "      <td>2019</td>\n",
              "      <td>11</td>\n",
              "      <td>24</td>\n",
              "    </tr>\n",
              "    <tr>\n",
              "      <th>204</th>\n",
              "      <td>737394</td>\n",
              "      <td>63.288571</td>\n",
              "      <td>53.741429</td>\n",
              "      <td>50.064286</td>\n",
              "      <td>75.085714</td>\n",
              "      <td>12.037143</td>\n",
              "      <td>2.608571</td>\n",
              "      <td>19.504286</td>\n",
              "      <td>173.848571</td>\n",
              "      <td>143.770000</td>\n",
              "      <td>63.578571</td>\n",
              "      <td>151.897143</td>\n",
              "      <td>52.612857</td>\n",
              "      <td>5.732857</td>\n",
              "      <td>18.121429</td>\n",
              "      <td>144.028571</td>\n",
              "      <td>45.332857</td>\n",
              "      <td>45.222857</td>\n",
              "      <td>75.832857</td>\n",
              "      <td>37.271429</td>\n",
              "      <td>5.592857</td>\n",
              "      <td>26.178571</td>\n",
              "      <td>147.950000</td>\n",
              "      <td>81.650000</td>\n",
              "      <td>60.125714</td>\n",
              "      <td>98.311429</td>\n",
              "      <td>152.627143</td>\n",
              "      <td>11.661439</td>\n",
              "      <td>16.815036</td>\n",
              "      <td>2019</td>\n",
              "      <td>12</td>\n",
              "      <td>1</td>\n",
              "    </tr>\n",
              "    <tr>\n",
              "      <th>205</th>\n",
              "      <td>737401</td>\n",
              "      <td>143.041429</td>\n",
              "      <td>60.198571</td>\n",
              "      <td>56.500000</td>\n",
              "      <td>91.804286</td>\n",
              "      <td>19.447143</td>\n",
              "      <td>6.052857</td>\n",
              "      <td>22.581429</td>\n",
              "      <td>154.002857</td>\n",
              "      <td>123.677143</td>\n",
              "      <td>66.648571</td>\n",
              "      <td>122.448571</td>\n",
              "      <td>61.412857</td>\n",
              "      <td>5.291429</td>\n",
              "      <td>16.441429</td>\n",
              "      <td>152.064286</td>\n",
              "      <td>134.887143</td>\n",
              "      <td>36.749524</td>\n",
              "      <td>144.431513</td>\n",
              "      <td>58.198571</td>\n",
              "      <td>4.803483</td>\n",
              "      <td>17.601753</td>\n",
              "      <td>74.350000</td>\n",
              "      <td>164.774286</td>\n",
              "      <td>69.271429</td>\n",
              "      <td>170.718571</td>\n",
              "      <td>248.184286</td>\n",
              "      <td>11.735132</td>\n",
              "      <td>16.501295</td>\n",
              "      <td>2019</td>\n",
              "      <td>12</td>\n",
              "      <td>8</td>\n",
              "    </tr>\n",
              "    <tr>\n",
              "      <th>206</th>\n",
              "      <td>737408</td>\n",
              "      <td>139.978571</td>\n",
              "      <td>70.320000</td>\n",
              "      <td>74.011429</td>\n",
              "      <td>98.191429</td>\n",
              "      <td>10.748571</td>\n",
              "      <td>5.511429</td>\n",
              "      <td>17.747143</td>\n",
              "      <td>155.460000</td>\n",
              "      <td>51.312857</td>\n",
              "      <td>44.624286</td>\n",
              "      <td>43.031429</td>\n",
              "      <td>36.337143</td>\n",
              "      <td>5.230000</td>\n",
              "      <td>9.402857</td>\n",
              "      <td>95.821429</td>\n",
              "      <td>61.235714</td>\n",
              "      <td>25.596190</td>\n",
              "      <td>83.172353</td>\n",
              "      <td>43.650000</td>\n",
              "      <td>3.976781</td>\n",
              "      <td>20.910985</td>\n",
              "      <td>279.941429</td>\n",
              "      <td>132.675714</td>\n",
              "      <td>66.684286</td>\n",
              "      <td>143.141429</td>\n",
              "      <td>215.230000</td>\n",
              "      <td>11.808825</td>\n",
              "      <td>16.187554</td>\n",
              "      <td>2019</td>\n",
              "      <td>12</td>\n",
              "      <td>15</td>\n",
              "    </tr>\n",
              "    <tr>\n",
              "      <th>207</th>\n",
              "      <td>737415</td>\n",
              "      <td>125.101429</td>\n",
              "      <td>37.271429</td>\n",
              "      <td>35.768571</td>\n",
              "      <td>55.842857</td>\n",
              "      <td>8.620000</td>\n",
              "      <td>2.812857</td>\n",
              "      <td>12.827143</td>\n",
              "      <td>184.412857</td>\n",
              "      <td>63.055714</td>\n",
              "      <td>42.382857</td>\n",
              "      <td>83.661429</td>\n",
              "      <td>52.088571</td>\n",
              "      <td>8.222857</td>\n",
              "      <td>8.772857</td>\n",
              "      <td>131.211429</td>\n",
              "      <td>40.825714</td>\n",
              "      <td>22.597143</td>\n",
              "      <td>68.484706</td>\n",
              "      <td>33.147143</td>\n",
              "      <td>4.063562</td>\n",
              "      <td>19.851970</td>\n",
              "      <td>190.681429</td>\n",
              "      <td>113.920000</td>\n",
              "      <td>56.500000</td>\n",
              "      <td>122.645714</td>\n",
              "      <td>183.537143</td>\n",
              "      <td>11.882518</td>\n",
              "      <td>15.873813</td>\n",
              "      <td>2019</td>\n",
              "      <td>12</td>\n",
              "      <td>22</td>\n",
              "    </tr>\n",
              "  </tbody>\n",
              "</table>\n",
              "<p>208 rows × 32 columns</p>\n",
              "</div>\n",
              "      <button class=\"colab-df-convert\" onclick=\"convertToInteractive('df-7de50ef3-c780-4dc7-80db-4d829807f6c0')\"\n",
              "              title=\"Convert this dataframe to an interactive table.\"\n",
              "              style=\"display:none;\">\n",
              "        \n",
              "  <svg xmlns=\"http://www.w3.org/2000/svg\" height=\"24px\"viewBox=\"0 0 24 24\"\n",
              "       width=\"24px\">\n",
              "    <path d=\"M0 0h24v24H0V0z\" fill=\"none\"/>\n",
              "    <path d=\"M18.56 5.44l.94 2.06.94-2.06 2.06-.94-2.06-.94-.94-2.06-.94 2.06-2.06.94zm-11 1L8.5 8.5l.94-2.06 2.06-.94-2.06-.94L8.5 2.5l-.94 2.06-2.06.94zm10 10l.94 2.06.94-2.06 2.06-.94-2.06-.94-.94-2.06-.94 2.06-2.06.94z\"/><path d=\"M17.41 7.96l-1.37-1.37c-.4-.4-.92-.59-1.43-.59-.52 0-1.04.2-1.43.59L10.3 9.45l-7.72 7.72c-.78.78-.78 2.05 0 2.83L4 21.41c.39.39.9.59 1.41.59.51 0 1.02-.2 1.41-.59l7.78-7.78 2.81-2.81c.8-.78.8-2.07 0-2.86zM5.41 20L4 18.59l7.72-7.72 1.47 1.35L5.41 20z\"/>\n",
              "  </svg>\n",
              "      </button>\n",
              "      \n",
              "  <style>\n",
              "    .colab-df-container {\n",
              "      display:flex;\n",
              "      flex-wrap:wrap;\n",
              "      gap: 12px;\n",
              "    }\n",
              "\n",
              "    .colab-df-convert {\n",
              "      background-color: #E8F0FE;\n",
              "      border: none;\n",
              "      border-radius: 50%;\n",
              "      cursor: pointer;\n",
              "      display: none;\n",
              "      fill: #1967D2;\n",
              "      height: 32px;\n",
              "      padding: 0 0 0 0;\n",
              "      width: 32px;\n",
              "    }\n",
              "\n",
              "    .colab-df-convert:hover {\n",
              "      background-color: #E2EBFA;\n",
              "      box-shadow: 0px 1px 2px rgba(60, 64, 67, 0.3), 0px 1px 3px 1px rgba(60, 64, 67, 0.15);\n",
              "      fill: #174EA6;\n",
              "    }\n",
              "\n",
              "    [theme=dark] .colab-df-convert {\n",
              "      background-color: #3B4455;\n",
              "      fill: #D2E3FC;\n",
              "    }\n",
              "\n",
              "    [theme=dark] .colab-df-convert:hover {\n",
              "      background-color: #434B5C;\n",
              "      box-shadow: 0px 1px 3px 1px rgba(0, 0, 0, 0.15);\n",
              "      filter: drop-shadow(0px 1px 2px rgba(0, 0, 0, 0.3));\n",
              "      fill: #FFFFFF;\n",
              "    }\n",
              "  </style>\n",
              "\n",
              "      <script>\n",
              "        const buttonEl =\n",
              "          document.querySelector('#df-7de50ef3-c780-4dc7-80db-4d829807f6c0 button.colab-df-convert');\n",
              "        buttonEl.style.display =\n",
              "          google.colab.kernel.accessAllowed ? 'block' : 'none';\n",
              "\n",
              "        async function convertToInteractive(key) {\n",
              "          const element = document.querySelector('#df-7de50ef3-c780-4dc7-80db-4d829807f6c0');\n",
              "          const dataTable =\n",
              "            await google.colab.kernel.invokeFunction('convertToInteractive',\n",
              "                                                     [key], {});\n",
              "          if (!dataTable) return;\n",
              "\n",
              "          const docLinkHtml = 'Like what you see? Visit the ' +\n",
              "            '<a target=\"_blank\" href=https://colab.research.google.com/notebooks/data_table.ipynb>data table notebook</a>'\n",
              "            + ' to learn more about interactive tables.';\n",
              "          element.innerHTML = '';\n",
              "          dataTable['output_type'] = 'display_data';\n",
              "          await google.colab.output.renderOutput(dataTable, element);\n",
              "          const docLink = document.createElement('div');\n",
              "          docLink.innerHTML = docLinkHtml;\n",
              "          element.appendChild(docLink);\n",
              "        }\n",
              "      </script>\n",
              "    </div>\n",
              "  </div>\n",
              "  "
            ],
            "text/plain": [
              "     From Date       PM2.5         NO         NO2  ...    Ozoney3  year  month  day\n",
              "0       735966  126.075287  26.302857  137.310000  ...  49.548333  2016      1    3\n",
              "1       735973  126.114713  39.560794  141.035079  ...  42.050000  2016      1   10\n",
              "2       735980  126.154138  14.603492   66.203492  ...  51.192857  2016      1   17\n",
              "3       735987  126.193563  14.217654   57.379990  ...  49.335714  2016      1   24\n",
              "4       735994  126.232989  28.167895   78.249649  ...  29.428571  2016      1   31\n",
              "..         ...         ...        ...         ...  ...        ...   ...    ...  ...\n",
              "203     737387  101.091429  51.498571   58.585714  ...  17.128777  2019     11   24\n",
              "204     737394   63.288571  53.741429   50.064286  ...  16.815036  2019     12    1\n",
              "205     737401  143.041429  60.198571   56.500000  ...  16.501295  2019     12    8\n",
              "206     737408  139.978571  70.320000   74.011429  ...  16.187554  2019     12   15\n",
              "207     737415  125.101429  37.271429   35.768571  ...  15.873813  2019     12   22\n",
              "\n",
              "[208 rows x 32 columns]"
            ]
          },
          "metadata": {},
          "execution_count": 77
        }
      ]
    },
    {
      "cell_type": "code",
      "source": [
        "Y1"
      ],
      "metadata": {
        "colab": {
          "base_uri": "https://localhost:8080/",
          "height": 0
        },
        "id": "XYMkjTxj9OJN",
        "outputId": "248d7ed6-eacd-416d-a63b-c30700f856cc"
      },
      "execution_count": 78,
      "outputs": [
        {
          "output_type": "execute_result",
          "data": {
            "text/plain": [
              "0      126.075287\n",
              "1      126.114713\n",
              "2      126.154138\n",
              "3      126.193563\n",
              "4      126.232989\n",
              "          ...    \n",
              "203    101.091429\n",
              "204     63.288571\n",
              "205    143.041429\n",
              "206    139.978571\n",
              "207    125.101429\n",
              "Name: PM2.5, Length: 208, dtype: float64"
            ]
          },
          "metadata": {},
          "execution_count": 78
        }
      ]
    },
    {
      "cell_type": "code",
      "source": [
        "from google.colab import files\n",
        "files.download('weeklycrct.xlsx')"
      ],
      "metadata": {
        "colab": {
          "base_uri": "https://localhost:8080/",
          "height": 17
        },
        "id": "reQqDCvU_0Hc",
        "outputId": "91b578c6-63ac-477a-a9c0-7004b503eef9"
      },
      "execution_count": 38,
      "outputs": [
        {
          "output_type": "display_data",
          "data": {
            "application/javascript": [
              "\n",
              "    async function download(id, filename, size) {\n",
              "      if (!google.colab.kernel.accessAllowed) {\n",
              "        return;\n",
              "      }\n",
              "      const div = document.createElement('div');\n",
              "      const label = document.createElement('label');\n",
              "      label.textContent = `Downloading \"${filename}\": `;\n",
              "      div.appendChild(label);\n",
              "      const progress = document.createElement('progress');\n",
              "      progress.max = size;\n",
              "      div.appendChild(progress);\n",
              "      document.body.appendChild(div);\n",
              "\n",
              "      const buffers = [];\n",
              "      let downloaded = 0;\n",
              "\n",
              "      const channel = await google.colab.kernel.comms.open(id);\n",
              "      // Send a message to notify the kernel that we're ready.\n",
              "      channel.send({})\n",
              "\n",
              "      for await (const message of channel.messages) {\n",
              "        // Send a message to notify the kernel that we're ready.\n",
              "        channel.send({})\n",
              "        if (message.buffers) {\n",
              "          for (const buffer of message.buffers) {\n",
              "            buffers.push(buffer);\n",
              "            downloaded += buffer.byteLength;\n",
              "            progress.value = downloaded;\n",
              "          }\n",
              "        }\n",
              "      }\n",
              "      const blob = new Blob(buffers, {type: 'application/binary'});\n",
              "      const a = document.createElement('a');\n",
              "      a.href = window.URL.createObjectURL(blob);\n",
              "      a.download = filename;\n",
              "      div.appendChild(a);\n",
              "      a.click();\n",
              "      div.remove();\n",
              "    }\n",
              "  "
            ],
            "text/plain": [
              "<IPython.core.display.Javascript object>"
            ]
          },
          "metadata": {}
        },
        {
          "output_type": "display_data",
          "data": {
            "application/javascript": [
              "download(\"download_4d7cb05a-8db5-4137-b778-7d0854359a26\", \"weeklycrct.xlsx\", 85987)"
            ],
            "text/plain": [
              "<IPython.core.display.Javascript object>"
            ]
          },
          "metadata": {}
        }
      ]
    },
    {
      "cell_type": "code",
      "metadata": {
        "id": "uwIRkiFZHuGv"
      },
      "source": [
        "xtrain,xtest,ytrain,ytest = train_test_split(X1,Y1,test_size=.2,random_state= 36)\n"
      ],
      "execution_count": 246,
      "outputs": []
    },
    {
      "cell_type": "code",
      "metadata": {
        "colab": {
          "base_uri": "https://localhost:8080/",
          "height": 0
        },
        "id": "jb_6RzyzHuGv",
        "outputId": "92d72c74-1997-4ad9-bbda-2036492432b5"
      },
      "source": [
        "forest =  RandomForestRegressor(n_estimators=1500,\n",
        "                              max_depth=7,\n",
        "                              max_features='auto',\n",
        "                              min_samples_split=7,\n",
        "                              min_samples_leaf=7,random_state=20)\n",
        "\n",
        "forest.fit(xtrain,ytrain)"
      ],
      "execution_count": 247,
      "outputs": [
        {
          "output_type": "execute_result",
          "data": {
            "text/plain": [
              "RandomForestRegressor(max_depth=7, min_samples_leaf=7, min_samples_split=7,\n",
              "                      n_estimators=1500, random_state=20)"
            ]
          },
          "metadata": {},
          "execution_count": 247
        }
      ]
    },
    {
      "cell_type": "code",
      "metadata": {
        "scrolled": true,
        "colab": {
          "base_uri": "https://localhost:8080/",
          "height": 0
        },
        "id": "plFl10ZdHuGv",
        "outputId": "1a86ebb2-6a0f-499a-8165-efcc087c8957"
      },
      "source": [
        "# we now score the model\n",
        "print('Score on train data: {}\\n'.format(forest.score(xtrain,ytrain)))\n",
        "print('Score on test data: {}\\n'.format(forest.score(xtest,ytest)))\n",
        "\n",
        "forest_pred = forest.predict(xtest)\n",
        "forest_mse = mean_squared_error(ytest,forest_pred)\n",
        "forest_accuracy = r2_score(ytest,forest_pred)\n",
        "\n",
        "print('Root Mean Squared Error: {}\\n'.format(np.sqrt(forest_mse)))\n",
        "print('Overall model accuracy: {}'.format(forest_accuracy))"
      ],
      "execution_count": 248,
      "outputs": [
        {
          "output_type": "stream",
          "name": "stdout",
          "text": [
            "Score on train data: 0.9357539288255169\n",
            "\n",
            "Score on test data: 0.9558715578014587\n",
            "\n",
            "Root Mean Squared Error: 13.252468121020197\n",
            "\n",
            "Overall model accuracy: 0.9558715578014587\n"
          ]
        }
      ]
    },
    {
      "cell_type": "code",
      "metadata": {
        "id": "FVwQdEMnHuGw"
      },
      "source": [
        "#test=data.loc['207':'219']\n",
        "#test=data.loc['220':'222']\n",
        "#test=data.loc['223':'227']\n",
        "#test=data.loc['228':'229']\n",
        "test=data.loc['230':'256']\n",
        "X=test[['From Date', 'PM2.5', 'NO', 'NO2', 'NOx', 'NH3', 'SO2', 'Ozone',\n",
        "       'PM2.5y1', 'NOy1', 'NO2y1', 'NOxy1', 'NH3y1', 'SO2y1', 'Ozoney1',\n",
        "       'PM2.5y2', 'NOy2', 'NO2y2', 'NOxy2', 'NH3y2', 'SO2y2', 'Ozoney2',\n",
        "       'PM2.5y3', 'NOy3', 'NO2y3', 'NOxy3', 'NH3y3', 'SO2y3', 'Ozoney3',\n",
        "       'year', 'month', 'day']]"
      ],
      "execution_count": 249,
      "outputs": []
    },
    {
      "cell_type": "code",
      "metadata": {
        "id": "FaVmUtCGHuGw"
      },
      "source": [
        "predict=forest.predict(X)"
      ],
      "execution_count": 250,
      "outputs": []
    },
    {
      "cell_type": "code",
      "metadata": {
        "scrolled": false,
        "colab": {
          "base_uri": "https://localhost:8080/",
          "height": 0
        },
        "id": "u-p44t5zHuGw",
        "outputId": "5c8dc3c7-ddbe-465f-c145-bc1912ecf6c7"
      },
      "source": [
        "predict"
      ],
      "execution_count": 251,
      "outputs": [
        {
          "output_type": "execute_result",
          "data": {
            "text/plain": [
              "array([ 63.45894458,  93.16334071, 103.0860633 ,  56.1390092 ,\n",
              "        52.55811128,  70.20071806,  45.50641914,  57.44188388,\n",
              "        50.68254603,  40.09369723,  49.97110377,  44.35385824,\n",
              "        31.07601089,  31.04388414,  31.04388414,  31.11178561,\n",
              "        63.45894458,  52.78508106,  71.12884529,  95.11398941,\n",
              "       153.24357308, 152.56524246, 248.50238503, 255.43090152,\n",
              "       255.43090152, 129.99240496, 220.06610518])"
            ]
          },
          "metadata": {},
          "execution_count": 251
        }
      ]
    },
    {
      "cell_type": "code",
      "metadata": {
        "id": "dhBXRfNjHuGw"
      },
      "source": [
        "#dates=data.loc['212':'219','From Date']\n",
        "#dates=data.loc['220':'222','From Date']\n",
        "#dates=data.loc['223':'227','From Date']\n",
        "#dates=data.loc['228':'229','From Date']\n",
        "dates=data.loc['230':'256','From Date']"
      ],
      "execution_count": 252,
      "outputs": []
    },
    {
      "cell_type": "code",
      "metadata": {
        "id": "__RMOgebHuGx"
      },
      "source": [
        "X['From Date']= dates.values"
      ],
      "execution_count": 253,
      "outputs": []
    },
    {
      "cell_type": "code",
      "metadata": {
        "colab": {
          "base_uri": "https://localhost:8080/",
          "height": 0
        },
        "id": "1Vj_-wuAHuGx",
        "outputId": "a4abc1b2-dd24-4904-f6cb-eee4f04ee53c"
      },
      "source": [
        "X.columns"
      ],
      "execution_count": 254,
      "outputs": [
        {
          "output_type": "execute_result",
          "data": {
            "text/plain": [
              "Index(['From Date', 'PM2.5', 'NO', 'NO2', 'NOx', 'NH3', 'SO2', 'Ozone',\n",
              "       'PM2.5y1', 'NOy1', 'NO2y1', 'NOxy1', 'NH3y1', 'SO2y1', 'Ozoney1',\n",
              "       'PM2.5y2', 'NOy2', 'NO2y2', 'NOxy2', 'NH3y2', 'SO2y2', 'Ozoney2',\n",
              "       'PM2.5y3', 'NOy3', 'NO2y3', 'NOxy3', 'NH3y3', 'SO2y3', 'Ozoney3',\n",
              "       'year', 'month', 'day'],\n",
              "      dtype='object')"
            ]
          },
          "metadata": {},
          "execution_count": 254
        }
      ]
    },
    {
      "cell_type": "code",
      "metadata": {
        "id": "Xqn2SkUsHuGx"
      },
      "source": [
        "X['From Date']= X['From Date'].map(dt.datetime.fromordinal)"
      ],
      "execution_count": 255,
      "outputs": []
    },
    {
      "cell_type": "code",
      "metadata": {
        "id": "rlKdtqhJHuGy"
      },
      "source": [
        "test['From Date']= test['From Date'].map(dt.datetime.fromordinal)"
      ],
      "execution_count": 256,
      "outputs": []
    },
    {
      "cell_type": "code",
      "metadata": {
        "id": "ykerOaATHuGy"
      },
      "source": [
        "test = test.set_index(['From Date'])\n",
        "X = X.set_index(['From Date'])\n"
      ],
      "execution_count": 257,
      "outputs": []
    },
    {
      "cell_type": "code",
      "metadata": {
        "id": "mVknpiAZHuGy"
      },
      "source": [
        "X['pred']=predict"
      ],
      "execution_count": 258,
      "outputs": []
    },
    {
      "cell_type": "code",
      "metadata": {
        "scrolled": true,
        "colab": {
          "base_uri": "https://localhost:8080/",
          "height": 422
        },
        "id": "VukTspM9HuGy",
        "outputId": "e197d999-518e-4d0a-afd0-633dc6f8454e"
      },
      "source": [
        "test['PM2.5'].plot(legend=True, label='Actual PM2.5', figsize=(10,6))\n",
        "X['pred'].plot(legend=True, label='Predicted PM2.5')"
      ],
      "execution_count": 259,
      "outputs": [
        {
          "output_type": "execute_result",
          "data": {
            "text/plain": [
              "<matplotlib.axes._subplots.AxesSubplot at 0x7f02239fc390>"
            ]
          },
          "metadata": {},
          "execution_count": 259
        },
        {
          "output_type": "display_data",
          "data": {
            "image/png": "[encoded data removed]",
            "text/plain": [
              "<Figure size 720x432 with 1 Axes>"
            ]
          },
          "metadata": {}
        }
      ]
    },
    {
      "cell_type": "code",
      "metadata": {
        "colab": {
          "base_uri": "https://localhost:8080/",
          "height": 0
        },
        "id": "DRFjyzn7HuGz",
        "outputId": "9a8166b2-71ab-4f46-abae-bf2ab8ba2f01"
      },
      "source": [
        "np.sqrt(mean_squared_error(test['PM2.5'],X['pred']))"
      ],
      "execution_count": 260,
      "outputs": [
        {
          "output_type": "execute_result",
          "data": {
            "text/plain": [
              "55.69603975298031"
            ]
          },
          "metadata": {},
          "execution_count": 260
        }
      ]
    },
    {
      "cell_type": "code",
      "metadata": {
        "scrolled": false,
        "colab": {
          "base_uri": "https://localhost:8080/",
          "height": 0
        },
        "id": "AhdUZ7jHHuGz",
        "outputId": "239f0190-88d7-4b66-c4aa-21b936c2a031"
      },
      "source": [
        "mae = metrics.mean_absolute_error(ytest, forest_pred)\n",
        "mse = metrics.mean_squared_error(ytest, forest_pred)\n",
        "rmsetest = np.sqrt(mse) # or mse**(0.5)  \n",
        "r2 = metrics.r2_score(ytest,forest_pred)\n",
        "\n",
        "print(\"Results of sklearn.metrics:\")\n",
        "print(\"MAE:\",mae)\n",
        "print(\"MSE:\", mse)\n",
        "print(\"RMSE:\", rmsetest)\n",
        "print(\"R-Squared:\", r2)"
      ],
      "execution_count": 261,
      "outputs": [
        {
          "output_type": "stream",
          "name": "stdout",
          "text": [
            "Results of sklearn.metrics:\n",
            "MAE: 6.139434785188146\n",
            "MSE: 175.62791129865658\n",
            "RMSE: 13.252468121020197\n",
            "R-Squared: 0.9558715578014587\n"
          ]
        }
      ]
    },
    {
      "cell_type": "code",
      "metadata": {
        "colab": {
          "base_uri": "https://localhost:8080/",
          "height": 0
        },
        "id": "BG5IlC26HuGz",
        "outputId": "b2ab792f-9589-4283-fe2e-2bb5363cf15f"
      },
      "source": [
        "mae = metrics.mean_absolute_error(test['PM2.5'],X['pred'])\n",
        "mse = metrics.mean_squared_error(test['PM2.5'],X['pred'])\n",
        "rmse = np.sqrt(mse) # or mse**(0.5)  \n",
        "r2 = metrics.r2_score(test['PM2.5'],X['pred'])\n",
        "\n",
        "print(\"Results of sklearn.metrics:\")\n",
        "print(\"MAE:\",mae)\n",
        "print(\"MSE:\", mse)\n",
        "print(\"RMSE:\", rmse)\n",
        "print(\"R-Squared:\", r2)"
      ],
      "execution_count": 262,
      "outputs": [
        {
          "output_type": "stream",
          "name": "stdout",
          "text": [
            "Results of sklearn.metrics:\n",
            "MAE: 16.664711449399697\n",
            "MSE: 3102.0488441655634\n",
            "RMSE: 55.69603975298031\n",
            "R-Squared: 0.7243405591876573\n"
          ]
        }
      ]
    },
    {
      "cell_type": "markdown",
      "metadata": {
        "id": "1h-3YAizHuG0"
      },
      "source": [
        "# 3rd plot"
      ]
    },
    {
      "cell_type": "code",
      "metadata": {
        "id": "vc2cxtdkHuG1"
      },
      "source": [
        "testcase = pd.DataFrame()"
      ],
      "execution_count": 263,
      "outputs": []
    },
    {
      "cell_type": "code",
      "metadata": {
        "scrolled": true,
        "id": "9kIftBd0HuG1"
      },
      "source": [
        "testcase['test']=ytest\n",
        "testcase['pred']=forest_pred"
      ],
      "execution_count": 264,
      "outputs": []
    },
    {
      "cell_type": "code",
      "metadata": {
        "id": "BhjyYVmPHuG1"
      },
      "source": [
        "testcase[\"Corrected\"] = np.where(testcase[\"pred\"]<testcase[\"test\"],testcase[\"pred\"]+rmsetest ,\n",
        "                   np.where(testcase[\"pred\"]>testcase[\"test\"], testcase[\"pred\"]-rmsetest,\n",
        "                            testcase[\"pred\"]))"
      ],
      "execution_count": 265,
      "outputs": []
    },
    {
      "cell_type": "code",
      "metadata": {
        "id": "oDIcw-1cHuG1",
        "colab": {
          "base_uri": "https://localhost:8080/",
          "height": 1366
        },
        "outputId": "8d8d931c-5298-4ee6-8fb6-2f29603113b1"
      },
      "source": [
        "testcase"
      ],
      "execution_count": 266,
      "outputs": [
        {
          "output_type": "execute_result",
          "data": {
            "text/html": [
              "\n",
              "  <div id=\"df-729fb89e-1d2e-4d36-8260-c75fd031b4ef\">\n",
              "    <div class=\"colab-df-container\">\n",
              "      <div>\n",
              "<style scoped>\n",
              "    .dataframe tbody tr th:only-of-type {\n",
              "        vertical-align: middle;\n",
              "    }\n",
              "\n",
              "    .dataframe tbody tr th {\n",
              "        vertical-align: top;\n",
              "    }\n",
              "\n",
              "    .dataframe thead th {\n",
              "        text-align: right;\n",
              "    }\n",
              "</style>\n",
              "<table border=\"1\" class=\"dataframe\">\n",
              "  <thead>\n",
              "    <tr style=\"text-align: right;\">\n",
              "      <th></th>\n",
              "      <th>test</th>\n",
              "      <th>pred</th>\n",
              "      <th>Corrected</th>\n",
              "    </tr>\n",
              "  </thead>\n",
              "  <tbody>\n",
              "    <tr>\n",
              "      <th>167</th>\n",
              "      <td>67.632857</td>\n",
              "      <td>68.521055</td>\n",
              "      <td>55.268587</td>\n",
              "    </tr>\n",
              "    <tr>\n",
              "      <th>56</th>\n",
              "      <td>95.014286</td>\n",
              "      <td>96.359422</td>\n",
              "      <td>83.106954</td>\n",
              "    </tr>\n",
              "    <tr>\n",
              "      <th>188</th>\n",
              "      <td>31.291429</td>\n",
              "      <td>31.032614</td>\n",
              "      <td>44.285082</td>\n",
              "    </tr>\n",
              "    <tr>\n",
              "      <th>48</th>\n",
              "      <td>74.350000</td>\n",
              "      <td>74.911874</td>\n",
              "      <td>61.659406</td>\n",
              "    </tr>\n",
              "    <tr>\n",
              "      <th>92</th>\n",
              "      <td>20.782857</td>\n",
              "      <td>31.032614</td>\n",
              "      <td>17.780146</td>\n",
              "    </tr>\n",
              "    <tr>\n",
              "      <th>2</th>\n",
              "      <td>126.154138</td>\n",
              "      <td>124.160130</td>\n",
              "      <td>137.412598</td>\n",
              "    </tr>\n",
              "    <tr>\n",
              "      <th>14</th>\n",
              "      <td>126.627241</td>\n",
              "      <td>126.571435</td>\n",
              "      <td>139.823903</td>\n",
              "    </tr>\n",
              "    <tr>\n",
              "      <th>126</th>\n",
              "      <td>58.057143</td>\n",
              "      <td>57.441884</td>\n",
              "      <td>70.694352</td>\n",
              "    </tr>\n",
              "    <tr>\n",
              "      <th>104</th>\n",
              "      <td>249.337143</td>\n",
              "      <td>255.430902</td>\n",
              "      <td>242.178433</td>\n",
              "    </tr>\n",
              "    <tr>\n",
              "      <th>28</th>\n",
              "      <td>127.179195</td>\n",
              "      <td>127.209013</td>\n",
              "      <td>113.956545</td>\n",
              "    </tr>\n",
              "    <tr>\n",
              "      <th>162</th>\n",
              "      <td>109.137143</td>\n",
              "      <td>109.225926</td>\n",
              "      <td>95.973458</td>\n",
              "    </tr>\n",
              "    <tr>\n",
              "      <th>80</th>\n",
              "      <td>60.870000</td>\n",
              "      <td>61.283624</td>\n",
              "      <td>48.031156</td>\n",
              "    </tr>\n",
              "    <tr>\n",
              "      <th>145</th>\n",
              "      <td>75.788571</td>\n",
              "      <td>76.595926</td>\n",
              "      <td>63.343457</td>\n",
              "    </tr>\n",
              "    <tr>\n",
              "      <th>51</th>\n",
              "      <td>248.324286</td>\n",
              "      <td>255.430902</td>\n",
              "      <td>242.178433</td>\n",
              "    </tr>\n",
              "    <tr>\n",
              "      <th>10</th>\n",
              "      <td>126.469540</td>\n",
              "      <td>126.127516</td>\n",
              "      <td>139.379984</td>\n",
              "    </tr>\n",
              "    <tr>\n",
              "      <th>152</th>\n",
              "      <td>173.848571</td>\n",
              "      <td>187.436418</td>\n",
              "      <td>174.183949</td>\n",
              "    </tr>\n",
              "    <tr>\n",
              "      <th>120</th>\n",
              "      <td>69.418571</td>\n",
              "      <td>69.787827</td>\n",
              "      <td>56.535359</td>\n",
              "    </tr>\n",
              "    <tr>\n",
              "      <th>65</th>\n",
              "      <td>46.837143</td>\n",
              "      <td>46.557500</td>\n",
              "      <td>59.809968</td>\n",
              "    </tr>\n",
              "    <tr>\n",
              "      <th>143</th>\n",
              "      <td>59.258571</td>\n",
              "      <td>58.867479</td>\n",
              "      <td>72.119948</td>\n",
              "    </tr>\n",
              "    <tr>\n",
              "      <th>189</th>\n",
              "      <td>21.362857</td>\n",
              "      <td>31.032614</td>\n",
              "      <td>17.780146</td>\n",
              "    </tr>\n",
              "    <tr>\n",
              "      <th>203</th>\n",
              "      <td>101.091429</td>\n",
              "      <td>100.843079</td>\n",
              "      <td>114.095547</td>\n",
              "    </tr>\n",
              "    <tr>\n",
              "      <th>96</th>\n",
              "      <td>116.462857</td>\n",
              "      <td>111.157989</td>\n",
              "      <td>124.410457</td>\n",
              "    </tr>\n",
              "    <tr>\n",
              "      <th>57</th>\n",
              "      <td>85.924286</td>\n",
              "      <td>82.899260</td>\n",
              "      <td>96.151728</td>\n",
              "    </tr>\n",
              "    <tr>\n",
              "      <th>192</th>\n",
              "      <td>49.310000</td>\n",
              "      <td>49.292673</td>\n",
              "      <td>62.545141</td>\n",
              "    </tr>\n",
              "    <tr>\n",
              "      <th>16</th>\n",
              "      <td>126.706092</td>\n",
              "      <td>126.697861</td>\n",
              "      <td>139.950329</td>\n",
              "    </tr>\n",
              "    <tr>\n",
              "      <th>74</th>\n",
              "      <td>101.235714</td>\n",
              "      <td>100.949402</td>\n",
              "      <td>114.201870</td>\n",
              "    </tr>\n",
              "    <tr>\n",
              "      <th>179</th>\n",
              "      <td>77.897143</td>\n",
              "      <td>77.521595</td>\n",
              "      <td>90.774063</td>\n",
              "    </tr>\n",
              "    <tr>\n",
              "      <th>131</th>\n",
              "      <td>61.555714</td>\n",
              "      <td>62.700255</td>\n",
              "      <td>49.447787</td>\n",
              "    </tr>\n",
              "    <tr>\n",
              "      <th>116</th>\n",
              "      <td>73.050000</td>\n",
              "      <td>73.225376</td>\n",
              "      <td>59.972907</td>\n",
              "    </tr>\n",
              "    <tr>\n",
              "      <th>155</th>\n",
              "      <td>184.412857</td>\n",
              "      <td>214.217715</td>\n",
              "      <td>200.965247</td>\n",
              "    </tr>\n",
              "    <tr>\n",
              "      <th>202</th>\n",
              "      <td>295.650000</td>\n",
              "      <td>255.430902</td>\n",
              "      <td>268.683370</td>\n",
              "    </tr>\n",
              "    <tr>\n",
              "      <th>50</th>\n",
              "      <td>190.681429</td>\n",
              "      <td>228.643348</td>\n",
              "      <td>215.390879</td>\n",
              "    </tr>\n",
              "    <tr>\n",
              "      <th>71</th>\n",
              "      <td>86.590000</td>\n",
              "      <td>82.899260</td>\n",
              "      <td>96.151728</td>\n",
              "    </tr>\n",
              "    <tr>\n",
              "      <th>8</th>\n",
              "      <td>126.390690</td>\n",
              "      <td>125.754008</td>\n",
              "      <td>139.006476</td>\n",
              "    </tr>\n",
              "    <tr>\n",
              "      <th>144</th>\n",
              "      <td>67.590714</td>\n",
              "      <td>68.316134</td>\n",
              "      <td>55.063666</td>\n",
              "    </tr>\n",
              "    <tr>\n",
              "      <th>139</th>\n",
              "      <td>30.123333</td>\n",
              "      <td>31.043884</td>\n",
              "      <td>17.791416</td>\n",
              "    </tr>\n",
              "    <tr>\n",
              "      <th>123</th>\n",
              "      <td>76.164286</td>\n",
              "      <td>76.686359</td>\n",
              "      <td>63.433891</td>\n",
              "    </tr>\n",
              "    <tr>\n",
              "      <th>107</th>\n",
              "      <td>190.755714</td>\n",
              "      <td>228.643348</td>\n",
              "      <td>215.390879</td>\n",
              "    </tr>\n",
              "    <tr>\n",
              "      <th>53</th>\n",
              "      <td>190.451429</td>\n",
              "      <td>228.643348</td>\n",
              "      <td>215.390879</td>\n",
              "    </tr>\n",
              "    <tr>\n",
              "      <th>119</th>\n",
              "      <td>71.807143</td>\n",
              "      <td>71.980008</td>\n",
              "      <td>58.727540</td>\n",
              "    </tr>\n",
              "    <tr>\n",
              "      <th>176</th>\n",
              "      <td>79.662857</td>\n",
              "      <td>78.656421</td>\n",
              "      <td>91.908889</td>\n",
              "    </tr>\n",
              "    <tr>\n",
              "      <th>172</th>\n",
              "      <td>53.167143</td>\n",
              "      <td>52.785081</td>\n",
              "      <td>66.037549</td>\n",
              "    </tr>\n",
              "  </tbody>\n",
              "</table>\n",
              "</div>\n",
              "      <button class=\"colab-df-convert\" onclick=\"convertToInteractive('df-729fb89e-1d2e-4d36-8260-c75fd031b4ef')\"\n",
              "              title=\"Convert this dataframe to an interactive table.\"\n",
              "              style=\"display:none;\">\n",
              "        \n",
              "  <svg xmlns=\"http://www.w3.org/2000/svg\" height=\"24px\"viewBox=\"0 0 24 24\"\n",
              "       width=\"24px\">\n",
              "    <path d=\"M0 0h24v24H0V0z\" fill=\"none\"/>\n",
              "    <path d=\"M18.56 5.44l.94 2.06.94-2.06 2.06-.94-2.06-.94-.94-2.06-.94 2.06-2.06.94zm-11 1L8.5 8.5l.94-2.06 2.06-.94-2.06-.94L8.5 2.5l-.94 2.06-2.06.94zm10 10l.94 2.06.94-2.06 2.06-.94-2.06-.94-.94-2.06-.94 2.06-2.06.94z\"/><path d=\"M17.41 7.96l-1.37-1.37c-.4-.4-.92-.59-1.43-.59-.52 0-1.04.2-1.43.59L10.3 9.45l-7.72 7.72c-.78.78-.78 2.05 0 2.83L4 21.41c.39.39.9.59 1.41.59.51 0 1.02-.2 1.41-.59l7.78-7.78 2.81-2.81c.8-.78.8-2.07 0-2.86zM5.41 20L4 18.59l7.72-7.72 1.47 1.35L5.41 20z\"/>\n",
              "  </svg>\n",
              "      </button>\n",
              "      \n",
              "  <style>\n",
              "    .colab-df-container {\n",
              "      display:flex;\n",
              "      flex-wrap:wrap;\n",
              "      gap: 12px;\n",
              "    }\n",
              "\n",
              "    .colab-df-convert {\n",
              "      background-color: #E8F0FE;\n",
              "      border: none;\n",
              "      border-radius: 50%;\n",
              "      cursor: pointer;\n",
              "      display: none;\n",
              "      fill: #1967D2;\n",
              "      height: 32px;\n",
              "      padding: 0 0 0 0;\n",
              "      width: 32px;\n",
              "    }\n",
              "\n",
              "    .colab-df-convert:hover {\n",
              "      background-color: #E2EBFA;\n",
              "      box-shadow: 0px 1px 2px rgba(60, 64, 67, 0.3), 0px 1px 3px 1px rgba(60, 64, 67, 0.15);\n",
              "      fill: #174EA6;\n",
              "    }\n",
              "\n",
              "    [theme=dark] .colab-df-convert {\n",
              "      background-color: #3B4455;\n",
              "      fill: #D2E3FC;\n",
              "    }\n",
              "\n",
              "    [theme=dark] .colab-df-convert:hover {\n",
              "      background-color: #434B5C;\n",
              "      box-shadow: 0px 1px 3px 1px rgba(0, 0, 0, 0.15);\n",
              "      filter: drop-shadow(0px 1px 2px rgba(0, 0, 0, 0.3));\n",
              "      fill: #FFFFFF;\n",
              "    }\n",
              "  </style>\n",
              "\n",
              "      <script>\n",
              "        const buttonEl =\n",
              "          document.querySelector('#df-729fb89e-1d2e-4d36-8260-c75fd031b4ef button.colab-df-convert');\n",
              "        buttonEl.style.display =\n",
              "          google.colab.kernel.accessAllowed ? 'block' : 'none';\n",
              "\n",
              "        async function convertToInteractive(key) {\n",
              "          const element = document.querySelector('#df-729fb89e-1d2e-4d36-8260-c75fd031b4ef');\n",
              "          const dataTable =\n",
              "            await google.colab.kernel.invokeFunction('convertToInteractive',\n",
              "                                                     [key], {});\n",
              "          if (!dataTable) return;\n",
              "\n",
              "          const docLinkHtml = 'Like what you see? Visit the ' +\n",
              "            '<a target=\"_blank\" href=https://colab.research.google.com/notebooks/data_table.ipynb>data table notebook</a>'\n",
              "            + ' to learn more about interactive tables.';\n",
              "          element.innerHTML = '';\n",
              "          dataTable['output_type'] = 'display_data';\n",
              "          await google.colab.output.renderOutput(dataTable, element);\n",
              "          const docLink = document.createElement('div');\n",
              "          docLink.innerHTML = docLinkHtml;\n",
              "          element.appendChild(docLink);\n",
              "        }\n",
              "      </script>\n",
              "    </div>\n",
              "  </div>\n",
              "  "
            ],
            "text/plain": [
              "           test        pred   Corrected\n",
              "167   67.632857   68.521055   55.268587\n",
              "56    95.014286   96.359422   83.106954\n",
              "188   31.291429   31.032614   44.285082\n",
              "48    74.350000   74.911874   61.659406\n",
              "92    20.782857   31.032614   17.780146\n",
              "2    126.154138  124.160130  137.412598\n",
              "14   126.627241  126.571435  139.823903\n",
              "126   58.057143   57.441884   70.694352\n",
              "104  249.337143  255.430902  242.178433\n",
              "28   127.179195  127.209013  113.956545\n",
              "162  109.137143  109.225926   95.973458\n",
              "80    60.870000   61.283624   48.031156\n",
              "145   75.788571   76.595926   63.343457\n",
              "51   248.324286  255.430902  242.178433\n",
              "10   126.469540  126.127516  139.379984\n",
              "152  173.848571  187.436418  174.183949\n",
              "120   69.418571   69.787827   56.535359\n",
              "65    46.837143   46.557500   59.809968\n",
              "143   59.258571   58.867479   72.119948\n",
              "189   21.362857   31.032614   17.780146\n",
              "203  101.091429  100.843079  114.095547\n",
              "96   116.462857  111.157989  124.410457\n",
              "57    85.924286   82.899260   96.151728\n",
              "192   49.310000   49.292673   62.545141\n",
              "16   126.706092  126.697861  139.950329\n",
              "74   101.235714  100.949402  114.201870\n",
              "179   77.897143   77.521595   90.774063\n",
              "131   61.555714   62.700255   49.447787\n",
              "116   73.050000   73.225376   59.972907\n",
              "155  184.412857  214.217715  200.965247\n",
              "202  295.650000  255.430902  268.683370\n",
              "50   190.681429  228.643348  215.390879\n",
              "71    86.590000   82.899260   96.151728\n",
              "8    126.390690  125.754008  139.006476\n",
              "144   67.590714   68.316134   55.063666\n",
              "139   30.123333   31.043884   17.791416\n",
              "123   76.164286   76.686359   63.433891\n",
              "107  190.755714  228.643348  215.390879\n",
              "53   190.451429  228.643348  215.390879\n",
              "119   71.807143   71.980008   58.727540\n",
              "176   79.662857   78.656421   91.908889\n",
              "172   53.167143   52.785081   66.037549"
            ]
          },
          "metadata": {},
          "execution_count": 266
        }
      ]
    },
    {
      "cell_type": "code",
      "metadata": {
        "colab": {
          "base_uri": "https://localhost:8080/",
          "height": 53
        },
        "id": "aNJ51iIzHuG2",
        "outputId": "397e114a-fb66-4a10-917a-7bfbeda3e413"
      },
      "source": [
        "\"\"\"testcase['test'].plot(legend=True, label='Actual PM2.5', figsize=(10,6))\n",
        "testcase['pred'].plot(legend=True, label='Predicted PM2.5')\n",
        "testcase[\"Corrected\"].plot(legend=True, label='Corrected PM2.5')\"\"\""
      ],
      "execution_count": 267,
      "outputs": [
        {
          "output_type": "execute_result",
          "data": {
            "application/vnd.google.colaboratory.intrinsic+json": {
              "type": "string"
            },
            "text/plain": [
              "'testcase[\\'test\\'].plot(legend=True, label=\\'Actual PM2.5\\', figsize=(10,6))\\ntestcase[\\'pred\\'].plot(legend=True, label=\\'Predicted PM2.5\\')\\ntestcase[\"Corrected\"].plot(legend=True, label=\\'Corrected PM2.5\\')'"
            ]
          },
          "metadata": {},
          "execution_count": 267
        }
      ]
    },
    {
      "cell_type": "code",
      "metadata": {
        "scrolled": true,
        "colab": {
          "base_uri": "https://localhost:8080/",
          "height": 0
        },
        "id": "0BRLDmfJHuG2",
        "outputId": "508711fa-fd35-4a63-b234-a71c175aa7b7"
      },
      "source": [
        "r2 = metrics.r2_score(testcase[\"Corrected\"],testcase['test'])\n",
        "r2"
      ],
      "execution_count": 268,
      "outputs": [
        {
          "output_type": "execute_result",
          "data": {
            "text/plain": [
              "0.9559235625296876"
            ]
          },
          "metadata": {},
          "execution_count": 268
        }
      ]
    },
    {
      "cell_type": "code",
      "metadata": {
        "id": "6219gTjvHuG2"
      },
      "source": [
        "test2020=pd.DataFrame()"
      ],
      "execution_count": 269,
      "outputs": []
    },
    {
      "cell_type": "code",
      "metadata": {
        "id": "6ymfvMvfHuG3"
      },
      "source": [
        "test2020['test']=test['PM2.5']\n",
        "test2020['pred']=X['pred']"
      ],
      "execution_count": 270,
      "outputs": []
    },
    {
      "cell_type": "code",
      "metadata": {
        "id": "MLHKIMDoHuG3"
      },
      "source": [
        "test2020.index=test.index"
      ],
      "execution_count": 271,
      "outputs": []
    },
    {
      "cell_type": "code",
      "metadata": {
        "id": "LvsmPACwHuG3"
      },
      "source": [
        "test2020[\"Corrected\"] = np.where(test2020[\"pred\"]<test2020[\"test\"],test2020[\"pred\"]+rmsetest ,\n",
        "                   np.where(test2020[\"pred\"]>test2020[\"test\"], test2020[\"pred\"]-rmsetest,\n",
        "                            test2020[\"pred\"]))"
      ],
      "execution_count": 272,
      "outputs": []
    },
    {
      "cell_type": "code",
      "source": [
        "test2020"
      ],
      "metadata": {
        "colab": {
          "base_uri": "https://localhost:8080/",
          "height": 927
        },
        "id": "yex6WBHwtqNP",
        "outputId": "b86a63b8-99ae-4857-ff91-f222808924f9"
      },
      "execution_count": 273,
      "outputs": [
        {
          "output_type": "execute_result",
          "data": {
            "text/html": [
              "\n",
              "  <div id=\"df-7c37c6a4-3f55-43f9-a7f2-b1c9e16eb5ec\">\n",
              "    <div class=\"colab-df-container\">\n",
              "      <div>\n",
              "<style scoped>\n",
              "    .dataframe tbody tr th:only-of-type {\n",
              "        vertical-align: middle;\n",
              "    }\n",
              "\n",
              "    .dataframe tbody tr th {\n",
              "        vertical-align: top;\n",
              "    }\n",
              "\n",
              "    .dataframe thead th {\n",
              "        text-align: right;\n",
              "    }\n",
              "</style>\n",
              "<table border=\"1\" class=\"dataframe\">\n",
              "  <thead>\n",
              "    <tr style=\"text-align: right;\">\n",
              "      <th></th>\n",
              "      <th>test</th>\n",
              "      <th>pred</th>\n",
              "      <th>Corrected</th>\n",
              "    </tr>\n",
              "    <tr>\n",
              "      <th>From Date</th>\n",
              "      <th></th>\n",
              "      <th></th>\n",
              "      <th></th>\n",
              "    </tr>\n",
              "  </thead>\n",
              "  <tbody>\n",
              "    <tr>\n",
              "      <th>2020-05-31</th>\n",
              "      <td>61.962857</td>\n",
              "      <td>63.458945</td>\n",
              "      <td>50.206476</td>\n",
              "    </tr>\n",
              "    <tr>\n",
              "      <th>2020-06-07</th>\n",
              "      <td>88.582857</td>\n",
              "      <td>93.163341</td>\n",
              "      <td>79.910873</td>\n",
              "    </tr>\n",
              "    <tr>\n",
              "      <th>2020-06-14</th>\n",
              "      <td>103.550000</td>\n",
              "      <td>103.086063</td>\n",
              "      <td>116.338531</td>\n",
              "    </tr>\n",
              "    <tr>\n",
              "      <th>2020-06-21</th>\n",
              "      <td>55.234286</td>\n",
              "      <td>56.139009</td>\n",
              "      <td>42.886541</td>\n",
              "    </tr>\n",
              "    <tr>\n",
              "      <th>2020-06-28</th>\n",
              "      <td>53.028571</td>\n",
              "      <td>52.558111</td>\n",
              "      <td>65.810579</td>\n",
              "    </tr>\n",
              "    <tr>\n",
              "      <th>2020-07-05</th>\n",
              "      <td>69.645714</td>\n",
              "      <td>70.200718</td>\n",
              "      <td>56.948250</td>\n",
              "    </tr>\n",
              "    <tr>\n",
              "      <th>2020-07-12</th>\n",
              "      <td>45.554286</td>\n",
              "      <td>45.506419</td>\n",
              "      <td>58.758887</td>\n",
              "    </tr>\n",
              "    <tr>\n",
              "      <th>2020-07-19</th>\n",
              "      <td>58.058571</td>\n",
              "      <td>57.441884</td>\n",
              "      <td>70.694352</td>\n",
              "    </tr>\n",
              "    <tr>\n",
              "      <th>2020-07-26</th>\n",
              "      <td>50.441429</td>\n",
              "      <td>50.682546</td>\n",
              "      <td>37.430078</td>\n",
              "    </tr>\n",
              "    <tr>\n",
              "      <th>2020-08-02</th>\n",
              "      <td>41.875714</td>\n",
              "      <td>40.093697</td>\n",
              "      <td>53.346165</td>\n",
              "    </tr>\n",
              "    <tr>\n",
              "      <th>2020-08-09</th>\n",
              "      <td>49.861429</td>\n",
              "      <td>49.971104</td>\n",
              "      <td>36.718636</td>\n",
              "    </tr>\n",
              "    <tr>\n",
              "      <th>2020-08-16</th>\n",
              "      <td>43.560000</td>\n",
              "      <td>44.353858</td>\n",
              "      <td>31.101390</td>\n",
              "    </tr>\n",
              "    <tr>\n",
              "      <th>2020-08-23</th>\n",
              "      <td>34.530000</td>\n",
              "      <td>31.076011</td>\n",
              "      <td>44.328479</td>\n",
              "    </tr>\n",
              "    <tr>\n",
              "      <th>2020-08-30</th>\n",
              "      <td>20.857143</td>\n",
              "      <td>31.043884</td>\n",
              "      <td>17.791416</td>\n",
              "    </tr>\n",
              "    <tr>\n",
              "      <th>2020-09-06</th>\n",
              "      <td>25.258571</td>\n",
              "      <td>31.043884</td>\n",
              "      <td>17.791416</td>\n",
              "    </tr>\n",
              "    <tr>\n",
              "      <th>2020-09-13</th>\n",
              "      <td>35.202857</td>\n",
              "      <td>31.111786</td>\n",
              "      <td>44.364254</td>\n",
              "    </tr>\n",
              "    <tr>\n",
              "      <th>2020-09-20</th>\n",
              "      <td>62.287143</td>\n",
              "      <td>63.458945</td>\n",
              "      <td>50.206476</td>\n",
              "    </tr>\n",
              "    <tr>\n",
              "      <th>2020-09-27</th>\n",
              "      <td>53.315714</td>\n",
              "      <td>52.785081</td>\n",
              "      <td>66.037549</td>\n",
              "    </tr>\n",
              "    <tr>\n",
              "      <th>2020-10-04</th>\n",
              "      <td>71.125714</td>\n",
              "      <td>71.128845</td>\n",
              "      <td>57.876377</td>\n",
              "    </tr>\n",
              "    <tr>\n",
              "      <th>2020-10-11</th>\n",
              "      <td>92.315714</td>\n",
              "      <td>95.113989</td>\n",
              "      <td>81.861521</td>\n",
              "    </tr>\n",
              "    <tr>\n",
              "      <th>2020-10-18</th>\n",
              "      <td>153.001429</td>\n",
              "      <td>153.243573</td>\n",
              "      <td>139.991105</td>\n",
              "    </tr>\n",
              "    <tr>\n",
              "      <th>2020-10-25</th>\n",
              "      <td>151.672857</td>\n",
              "      <td>152.565242</td>\n",
              "      <td>139.312774</td>\n",
              "    </tr>\n",
              "    <tr>\n",
              "      <th>2020-11-01</th>\n",
              "      <td>203.598571</td>\n",
              "      <td>248.502385</td>\n",
              "      <td>235.249917</td>\n",
              "    </tr>\n",
              "    <tr>\n",
              "      <th>2020-11-08</th>\n",
              "      <td>307.221429</td>\n",
              "      <td>255.430902</td>\n",
              "      <td>268.683370</td>\n",
              "    </tr>\n",
              "    <tr>\n",
              "      <th>2020-11-15</th>\n",
              "      <td>534.317857</td>\n",
              "      <td>255.430902</td>\n",
              "      <td>268.683370</td>\n",
              "    </tr>\n",
              "    <tr>\n",
              "      <th>2020-11-22</th>\n",
              "      <td>129.605714</td>\n",
              "      <td>129.992405</td>\n",
              "      <td>116.739937</td>\n",
              "    </tr>\n",
              "    <tr>\n",
              "      <th>2020-11-29</th>\n",
              "      <td>187.304286</td>\n",
              "      <td>220.066105</td>\n",
              "      <td>206.813637</td>\n",
              "    </tr>\n",
              "  </tbody>\n",
              "</table>\n",
              "</div>\n",
              "      <button class=\"colab-df-convert\" onclick=\"convertToInteractive('df-7c37c6a4-3f55-43f9-a7f2-b1c9e16eb5ec')\"\n",
              "              title=\"Convert this dataframe to an interactive table.\"\n",
              "              style=\"display:none;\">\n",
              "        \n",
              "  <svg xmlns=\"http://www.w3.org/2000/svg\" height=\"24px\"viewBox=\"0 0 24 24\"\n",
              "       width=\"24px\">\n",
              "    <path d=\"M0 0h24v24H0V0z\" fill=\"none\"/>\n",
              "    <path d=\"M18.56 5.44l.94 2.06.94-2.06 2.06-.94-2.06-.94-.94-2.06-.94 2.06-2.06.94zm-11 1L8.5 8.5l.94-2.06 2.06-.94-2.06-.94L8.5 2.5l-.94 2.06-2.06.94zm10 10l.94 2.06.94-2.06 2.06-.94-2.06-.94-.94-2.06-.94 2.06-2.06.94z\"/><path d=\"M17.41 7.96l-1.37-1.37c-.4-.4-.92-.59-1.43-.59-.52 0-1.04.2-1.43.59L10.3 9.45l-7.72 7.72c-.78.78-.78 2.05 0 2.83L4 21.41c.39.39.9.59 1.41.59.51 0 1.02-.2 1.41-.59l7.78-7.78 2.81-2.81c.8-.78.8-2.07 0-2.86zM5.41 20L4 18.59l7.72-7.72 1.47 1.35L5.41 20z\"/>\n",
              "  </svg>\n",
              "      </button>\n",
              "      \n",
              "  <style>\n",
              "    .colab-df-container {\n",
              "      display:flex;\n",
              "      flex-wrap:wrap;\n",
              "      gap: 12px;\n",
              "    }\n",
              "\n",
              "    .colab-df-convert {\n",
              "      background-color: #E8F0FE;\n",
              "      border: none;\n",
              "      border-radius: 50%;\n",
              "      cursor: pointer;\n",
              "      display: none;\n",
              "      fill: #1967D2;\n",
              "      height: 32px;\n",
              "      padding: 0 0 0 0;\n",
              "      width: 32px;\n",
              "    }\n",
              "\n",
              "    .colab-df-convert:hover {\n",
              "      background-color: #E2EBFA;\n",
              "      box-shadow: 0px 1px 2px rgba(60, 64, 67, 0.3), 0px 1px 3px 1px rgba(60, 64, 67, 0.15);\n",
              "      fill: #174EA6;\n",
              "    }\n",
              "\n",
              "    [theme=dark] .colab-df-convert {\n",
              "      background-color: #3B4455;\n",
              "      fill: #D2E3FC;\n",
              "    }\n",
              "\n",
              "    [theme=dark] .colab-df-convert:hover {\n",
              "      background-color: #434B5C;\n",
              "      box-shadow: 0px 1px 3px 1px rgba(0, 0, 0, 0.15);\n",
              "      filter: drop-shadow(0px 1px 2px rgba(0, 0, 0, 0.3));\n",
              "      fill: #FFFFFF;\n",
              "    }\n",
              "  </style>\n",
              "\n",
              "      <script>\n",
              "        const buttonEl =\n",
              "          document.querySelector('#df-7c37c6a4-3f55-43f9-a7f2-b1c9e16eb5ec button.colab-df-convert');\n",
              "        buttonEl.style.display =\n",
              "          google.colab.kernel.accessAllowed ? 'block' : 'none';\n",
              "\n",
              "        async function convertToInteractive(key) {\n",
              "          const element = document.querySelector('#df-7c37c6a4-3f55-43f9-a7f2-b1c9e16eb5ec');\n",
              "          const dataTable =\n",
              "            await google.colab.kernel.invokeFunction('convertToInteractive',\n",
              "                                                     [key], {});\n",
              "          if (!dataTable) return;\n",
              "\n",
              "          const docLinkHtml = 'Like what you see? Visit the ' +\n",
              "            '<a target=\"_blank\" href=https://colab.research.google.com/notebooks/data_table.ipynb>data table notebook</a>'\n",
              "            + ' to learn more about interactive tables.';\n",
              "          element.innerHTML = '';\n",
              "          dataTable['output_type'] = 'display_data';\n",
              "          await google.colab.output.renderOutput(dataTable, element);\n",
              "          const docLink = document.createElement('div');\n",
              "          docLink.innerHTML = docLinkHtml;\n",
              "          element.appendChild(docLink);\n",
              "        }\n",
              "      </script>\n",
              "    </div>\n",
              "  </div>\n",
              "  "
            ],
            "text/plain": [
              "                  test        pred   Corrected\n",
              "From Date                                     \n",
              "2020-05-31   61.962857   63.458945   50.206476\n",
              "2020-06-07   88.582857   93.163341   79.910873\n",
              "2020-06-14  103.550000  103.086063  116.338531\n",
              "2020-06-21   55.234286   56.139009   42.886541\n",
              "2020-06-28   53.028571   52.558111   65.810579\n",
              "2020-07-05   69.645714   70.200718   56.948250\n",
              "2020-07-12   45.554286   45.506419   58.758887\n",
              "2020-07-19   58.058571   57.441884   70.694352\n",
              "2020-07-26   50.441429   50.682546   37.430078\n",
              "2020-08-02   41.875714   40.093697   53.346165\n",
              "2020-08-09   49.861429   49.971104   36.718636\n",
              "2020-08-16   43.560000   44.353858   31.101390\n",
              "2020-08-23   34.530000   31.076011   44.328479\n",
              "2020-08-30   20.857143   31.043884   17.791416\n",
              "2020-09-06   25.258571   31.043884   17.791416\n",
              "2020-09-13   35.202857   31.111786   44.364254\n",
              "2020-09-20   62.287143   63.458945   50.206476\n",
              "2020-09-27   53.315714   52.785081   66.037549\n",
              "2020-10-04   71.125714   71.128845   57.876377\n",
              "2020-10-11   92.315714   95.113989   81.861521\n",
              "2020-10-18  153.001429  153.243573  139.991105\n",
              "2020-10-25  151.672857  152.565242  139.312774\n",
              "2020-11-01  203.598571  248.502385  235.249917\n",
              "2020-11-08  307.221429  255.430902  268.683370\n",
              "2020-11-15  534.317857  255.430902  268.683370\n",
              "2020-11-22  129.605714  129.992405  116.739937\n",
              "2020-11-29  187.304286  220.066105  206.813637"
            ]
          },
          "metadata": {},
          "execution_count": 273
        }
      ]
    },
    {
      "cell_type": "code",
      "source": [
        "test2020[\"Corrected\"].describe()"
      ],
      "metadata": {
        "colab": {
          "base_uri": "https://localhost:8080/",
          "height": 0
        },
        "id": "gse31oGdtrgJ",
        "outputId": "2aa33d4d-836d-41c2-9965-00f10e9393be"
      },
      "execution_count": 274,
      "outputs": [
        {
          "output_type": "execute_result",
          "data": {
            "text/plain": [
              "count     27.000000\n",
              "mean      90.958606\n",
              "std       73.409313\n",
              "min       17.791416\n",
              "25%       44.346366\n",
              "50%       58.758887\n",
              "75%      116.539234\n",
              "max      268.683370\n",
              "Name: Corrected, dtype: float64"
            ]
          },
          "metadata": {},
          "execution_count": 274
        }
      ]
    },
    {
      "cell_type": "code",
      "source": [
        "test2020[\"Corrected\"].min()"
      ],
      "metadata": {
        "colab": {
          "base_uri": "https://localhost:8080/",
          "height": 0
        },
        "id": "9ZeuWQ0IETcn",
        "outputId": "2fc8de87-b774-442a-fd09-9c2a3b72f71f"
      },
      "execution_count": 275,
      "outputs": [
        {
          "output_type": "execute_result",
          "data": {
            "text/plain": [
              "17.791416020923368"
            ]
          },
          "metadata": {},
          "execution_count": 275
        }
      ]
    },
    {
      "cell_type": "code",
      "source": [
        "test2020[\"Corrected\"].max()"
      ],
      "metadata": {
        "colab": {
          "base_uri": "https://localhost:8080/",
          "height": 0
        },
        "id": "dDKX-lxfEYOt",
        "outputId": "2eef3f0a-de61-4c80-8300-77b9374269ec"
      },
      "execution_count": 276,
      "outputs": [
        {
          "output_type": "execute_result",
          "data": {
            "text/plain": [
              "268.68336964492545"
            ]
          },
          "metadata": {},
          "execution_count": 276
        }
      ]
    },
    {
      "cell_type": "code",
      "source": [
        "test2020[\"Corrected\"].mean()"
      ],
      "metadata": {
        "colab": {
          "base_uri": "https://localhost:8080/",
          "height": 0
        },
        "id": "GDv6lYu2EgR3",
        "outputId": "5429d662-a556-40bf-af6b-9ed4cd1630bb"
      },
      "execution_count": 115,
      "outputs": [
        {
          "output_type": "execute_result",
          "data": {
            "text/plain": [
              "136.54028529672857"
            ]
          },
          "metadata": {},
          "execution_count": 115
        }
      ]
    },
    {
      "cell_type": "code",
      "metadata": {
        "colab": {
          "base_uri": "https://localhost:8080/",
          "height": 446
        },
        "id": "2bdlMsGpHuG4",
        "outputId": "7ebb1827-86c2-4131-bcc5-cb1406ae4b78"
      },
      "source": [
        "test2020['test'].plot(legend=True, label='Actual PM2.5 2020', figsize=(10,6))\n",
        "test2020['pred'].plot(legend=True, label='Predicted PM2.5 2020')\n",
        "test2020[\"Corrected\"].plot(legend=True, label='Corrected PM2.5 2020')"
      ],
      "execution_count": 216,
      "outputs": [
        {
          "output_type": "execute_result",
          "data": {
            "text/plain": [
              "<matplotlib.axes._subplots.AxesSubplot at 0x7f0223c67310>"
            ]
          },
          "metadata": {},
          "execution_count": 216
        },
        {
          "output_type": "display_data",
          "data": {
            "image/png": "[encoded data removed]",
            "text/plain": [
              "<Figure size 720x432 with 1 Axes>"
            ]
          },
          "metadata": {}
        }
      ]
    },
    {
      "cell_type": "code",
      "metadata": {
        "colab": {
          "base_uri": "https://localhost:8080/",
          "height": 0
        },
        "id": "au_WJM4mHuG4",
        "outputId": "4ee00479-0fe1-471f-a11e-3d3d270e6068"
      },
      "source": [
        "r2020 = metrics.r2_score(test2020[\"Corrected\"],test2020['test'])\n",
        "r2020"
      ],
      "execution_count": 109,
      "outputs": [
        {
          "output_type": "execute_result",
          "data": {
            "text/plain": [
              "0.9209768140970864"
            ]
          },
          "metadata": {},
          "execution_count": 109
        }
      ]
    },
    {
      "cell_type": "code",
      "metadata": {
        "id": "oiC9_FT6HuG4",
        "colab": {
          "base_uri": "https://localhost:8080/",
          "height": 165
        },
        "outputId": "0a240cf1-066f-42f9-efc0-b09cd2bfefbd"
      },
      "source": [
        "test2020[corrected].median() "
      ],
      "execution_count": 111,
      "outputs": [
        {
          "output_type": "error",
          "ename": "NameError",
          "evalue": "ignored",
          "traceback": [
            "\u001b[0;31m---------------------------------------------------------------------------\u001b[0m",
            "\u001b[0;31mNameError\u001b[0m                                 Traceback (most recent call last)",
            "\u001b[0;32m<ipython-input-111-b200d307ae2f>\u001b[0m in \u001b[0;36m<module>\u001b[0;34m()\u001b[0m\n\u001b[0;32m----> 1\u001b[0;31m \u001b[0mtest2020\u001b[0m\u001b[0;34m[\u001b[0m\u001b[0mcorrected\u001b[0m\u001b[0;34m]\u001b[0m\u001b[0;34m.\u001b[0m\u001b[0mmedian\u001b[0m\u001b[0;34m(\u001b[0m\u001b[0;34m)\u001b[0m\u001b[0;34m\u001b[0m\u001b[0;34m\u001b[0m\u001b[0m\n\u001b[0m",
            "\u001b[0;31mNameError\u001b[0m: name 'corrected' is not defined"
          ]
        }
      ]
    }
  ]
}